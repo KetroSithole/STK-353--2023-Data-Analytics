{
 "cells": [
  {
   "cell_type": "markdown",
   "id": "a3af6eb9-0c81-4d36-8bb3-04cf64320b1b",
   "metadata": {},
   "source": [
    "# 1) Monte Carlo simulation\n",
    "## Monte Carlo integration"
   ]
  },
  {
   "cell_type": "markdown",
   "id": "1c280dbf-1c34-4477-8c4f-b8892986f69a",
   "metadata": {},
   "source": [
    "### Example 1\n",
    "a) Estimate the following integral by using the Monte carlo simulation. Then compare the result with the exact value.\n",
    "\n",
    "$$ \\theta=\\int_0^1 x dx. $$"
   ]
  },
  {
   "cell_type": "code",
   "execution_count": 15,
   "id": "03c6d607-8ec2-4435-b196-2532a95139a1",
   "metadata": {},
   "outputs": [
    {
     "data": {
      "text/plain": [
       "0.5007694346408827"
      ]
     },
     "execution_count": 15,
     "metadata": {},
     "output_type": "execute_result"
    }
   ],
   "source": [
    "import numpy as np\n",
    "# Generating random numbers from a uniform dis. (here U(0, 1))\n",
    "M = 10000\n",
    "x = np.random.uniform(0, 1, M)\n",
    "# Taking the sample mean of the data just generated\n",
    "theta_est = np.mean(x)\n",
    "theta_est"
   ]
  },
  {
   "cell_type": "code",
   "execution_count": 134,
   "id": "23f2ac72-12f0-4e2b-ba17-640999ee6552",
   "metadata": {},
   "outputs": [
    {
     "name": "stdout",
     "output_type": "stream",
     "text": [
      "theta_est = 0.5000\n"
     ]
    }
   ],
   "source": [
    "print(f\"theta_est = {theta_est:.4f}\")"
   ]
  },
  {
   "cell_type": "code",
   "execution_count": 18,
   "id": "157c9a5f-405d-43bd-a0fc-232f737ee517",
   "metadata": {},
   "outputs": [
    {
     "data": {
      "text/plain": [
       "0.5"
      ]
     },
     "execution_count": 18,
     "metadata": {},
     "output_type": "execute_result"
    }
   ],
   "source": [
    "theta_exact = (1**2 - 0**2) / 2\n",
    "theta_exact"
   ]
  },
  {
   "cell_type": "markdown",
   "id": "3d6699e8-72af-4921-bb57-2c5f0bd237a8",
   "metadata": {},
   "source": [
    "b) What about the following integral?\n",
    "$$ \\theta=\\int_3^7 x^2 dx. $$"
   ]
  },
  {
   "cell_type": "code",
   "execution_count": 149,
   "id": "04ff3cd0-086a-40f0-abd6-6f438ff1d0da",
   "metadata": {},
   "outputs": [
    {
     "name": "stdout",
     "output_type": "stream",
     "text": [
      "theta_est = 105.4337\n"
     ]
    }
   ],
   "source": [
    "# The limits of the integral given in this example is [3, 7]:\n",
    "M = 10000\n",
    "# Setting the limits and generating a random sample from U(a, b)\n",
    "a = 3\n",
    "b = 7\n",
    "x = np.random.uniform(a, b, M)\n",
    "# Obtaining the estimated integral\n",
    "theta_est = (b - a) * np.mean(x**2)\n",
    "print(f\"theta_est = {theta_est:.4f}\")"
   ]
  },
  {
   "cell_type": "code",
   "execution_count": 141,
   "id": "bfb6508c-4c6d-43c8-bd21-8823120f10f9",
   "metadata": {},
   "outputs": [
    {
     "data": {
      "text/plain": [
       "20.0"
      ]
     },
     "execution_count": 141,
     "metadata": {},
     "output_type": "execute_result"
    }
   ],
   "source": [
    "theta_exact = (b**2 - a**2) / 2\n",
    "theta_exact"
   ]
  },
  {
   "cell_type": "markdown",
   "id": "c93708f7-a408-4712-95c5-438b4bb6d7fa",
   "metadata": {},
   "source": [
    "### Example 2\n",
    "Estimate the following integral by using the Monte Carlo simulation. Then compare the result with the exact value.\n",
    "\n",
    "$$ \\theta=\\int_{-0.5}^1 \\frac{1}{2\\pi}e^{-\\frac{x^2}{2}} dx. $$"
   ]
  },
  {
   "cell_type": "code",
   "execution_count": 43,
   "id": "73ff7136-94b1-4e4e-a6dd-1f5eaecbf73e",
   "metadata": {},
   "outputs": [
    {
     "name": "stdout",
     "output_type": "stream",
     "text": [
      "theta_est = 0.53277\n"
     ]
    }
   ],
   "source": [
    "M = 10000\n",
    "a = -0.5\n",
    "b = 1\n",
    "x = np.random.uniform(a, b, M)\n",
    "theta_est = (b - a) * np.mean(1 / (2 * np.pi)**0.5 * np.exp(- x ** 2 / 2))\n",
    "theta_est\n",
    "print(f\"theta_est = {theta_est:.5f}\")"
   ]
  },
  {
   "cell_type": "code",
   "execution_count": 42,
   "id": "eb0d1d8b-83fe-441f-a3ad-d8e26bd2cdab",
   "metadata": {},
   "outputs": [
    {
     "name": "stdout",
     "output_type": "stream",
     "text": [
      "theta_exact = 0.53269\n"
     ]
    }
   ],
   "source": [
    "import scipy.stats as stat\n",
    "theta_exact = stat.norm.cdf(b, 0, 1) - stat.norm.cdf(a, 0, 1)\n",
    "print(f\"theta_exact = {theta_est:.5f}\")"
   ]
  },
  {
   "cell_type": "markdown",
   "id": "20ce1775-ec0b-445b-bcac-814ea1dba928",
   "metadata": {},
   "source": [
    "### Importance sampling\n",
    "_Interested readers can study the importance sampling as a general method to the simple Monte Carlo integration._\n",
    "Rizzo, M. (2008). Statistical computing with R."
   ]
  },
  {
   "cell_type": "markdown",
   "id": "ebe192a7-274c-4fdc-9ed8-ff492024426d",
   "metadata": {},
   "source": [
    "## Solving probabilistic problems using Monte Carlo simulation"
   ]
  },
  {
   "cell_type": "markdown",
   "id": "66fceb7c-da32-4263-a56f-a0cbca210372",
   "metadata": {},
   "source": [
    "### Example 3\n",
    "In the problem of a fair coin toss, what is the probability of getting the head?"
   ]
  },
  {
   "cell_type": "code",
   "execution_count": 79,
   "id": "934b69a0-a13b-4790-bfc7-6eb03f1f7eb4",
   "metadata": {},
   "outputs": [
    {
     "data": {
      "text/plain": [
       "list"
      ]
     },
     "execution_count": 79,
     "metadata": {},
     "output_type": "execute_result"
    }
   ],
   "source": [
    "S = ['H', 'T']   #our sample space\n",
    "type(S)"
   ]
  },
  {
   "cell_type": "code",
   "execution_count": 80,
   "id": "3a8574e4-1a85-4c2b-b8ac-786e4d51bf4b",
   "metadata": {},
   "outputs": [
    {
     "data": {
      "text/plain": [
       "0.5004"
      ]
     },
     "execution_count": 80,
     "metadata": {},
     "output_type": "execute_result"
    }
   ],
   "source": [
    "m = 10000\n",
    "x = np.random.choice(S, size = m, replace = True)\n",
    "np.mean(x == 'H')"
   ]
  },
  {
   "cell_type": "code",
   "execution_count": 83,
   "id": "a9dac396-1c6c-452d-acbc-8c256fbe8509",
   "metadata": {},
   "outputs": [],
   "source": [
    "M = range(1, 10000)\n",
    "prob = []\n",
    "for m in M:\n",
    "    x = np.random.choice(S, size = m, replace = True)\n",
    "    prob.append(np.mean(x == 'H'))   \n"
   ]
  },
  {
   "cell_type": "code",
   "execution_count": null,
   "id": "86d26d88-f8a5-4755-b5b1-4d3a71f4711b",
   "metadata": {},
   "outputs": [],
   "source": []
  },
  {
   "cell_type": "code",
   "execution_count": 22,
   "id": "f1dca4a4-7fbf-477e-9b37-d20e92ac646c",
   "metadata": {},
   "outputs": [
    {
     "data": {
      "image/png": "[encoded data removed]",
      "text/plain": [
       "<Figure size 1000x400 with 1 Axes>"
      ]
     },
     "metadata": {},
     "output_type": "display_data"
    }
   ],
   "source": [
    "import matplotlib.pyplot as plt\n",
    "\n",
    "plt.figure(figsize=(10, 4))\n",
    "plt.plot(M, prob, label = \"Estimated probability\")\n",
    "plt.axhline(y = 0.5, color = 'red', label = \"True probability\")\n",
    "plt.xlabel(\"The number of Monte Carlo replication (M)\")\n",
    "plt.legend()\n",
    "plt.show()"
   ]
  },
  {
   "cell_type": "markdown",
   "id": "35a9c2d4-da4e-4b04-9764-01c0a80f7046",
   "metadata": {},
   "source": [
    "### Example 4\n",
    "If our experiment consists of tossing a fair die,  then find the approximate  probability\n",
    "of the following events:\r\n"
   ]
  },
  {
   "cell_type": "markdown",
   "id": "4a20981d-e9c8-487c-9b1d-0bd5816c0d6b",
   "metadata": {},
   "source": [
    "$A = \\{6\\}$"
   ]
  },
  {
   "cell_type": "code",
   "execution_count": 24,
   "id": "160cb827-e0af-4203-ac3e-b996cc5956c8",
   "metadata": {},
   "outputs": [
    {
     "data": {
      "text/plain": [
       "array([1, 2, 3, 4, 5, 6])"
      ]
     },
     "execution_count": 24,
     "metadata": {},
     "output_type": "execute_result"
    }
   ],
   "source": [
    "S = np.arange(1, 7) # sample space\n",
    "S"
   ]
  },
  {
   "cell_type": "code",
   "execution_count": 25,
   "id": "10d23a31-e0dd-447d-aeba-b3331fda78f0",
   "metadata": {},
   "outputs": [
    {
     "data": {
      "text/plain": [
       "0.1682"
      ]
     },
     "execution_count": 25,
     "metadata": {},
     "output_type": "execute_result"
    }
   ],
   "source": [
    "M = 10000\n",
    "x = np.random.choice(S, size = M, replace = True)\n",
    "np.mean(x == 6)"
   ]
  },
  {
   "cell_type": "code",
   "execution_count": 108,
   "id": "7f243649-7417-4a23-9a5f-6736fb7e7902",
   "metadata": {},
   "outputs": [
    {
     "data": {
      "text/plain": [
       "0.16666666666666666"
      ]
     },
     "execution_count": 108,
     "metadata": {},
     "output_type": "execute_result"
    }
   ],
   "source": [
    "1 / 6"
   ]
  },
  {
   "cell_type": "markdown",
   "id": "6c1c51bd-e3c2-4322-8bc4-3626004f019f",
   "metadata": {},
   "source": [
    "b) $B = \\{any~ odd~ number\\}$"
   ]
  },
  {
   "cell_type": "code",
   "execution_count": 26,
   "id": "68540cc7-98c9-472b-a96b-42c6c3cd9790",
   "metadata": {},
   "outputs": [
    {
     "data": {
      "text/plain": [
       "0.5013"
      ]
     },
     "execution_count": 26,
     "metadata": {},
     "output_type": "execute_result"
    }
   ],
   "source": [
    "M = 10000\n",
    "x = np.random.choice(S, size = M, replace = True)\n",
    "np.mean(x % 2 != 0)"
   ]
  },
  {
   "cell_type": "markdown",
   "id": "227bf3cd-d7b5-4f3c-9f97-45a61a22744f",
   "metadata": {},
   "source": [
    "### Example 5\n",
    "Suppose that we toss 2 fair dice,  and suppose that each of the 36 possible outcomes is equally likely to occur. Approximate the probability of the following events by using the Monte Carlo simulations:"
   ]
  },
  {
   "cell_type": "markdown",
   "id": "d41fafa6-7b0f-401b-9409-247ffe03f5ce",
   "metadata": {},
   "source": [
    "**a) A = {summation of outcomes be greater than 5}**"
   ]
  },
  {
   "cell_type": "code",
   "execution_count": 85,
   "id": "dc26504d-5d3e-41b7-a6c8-9edbec9d4444",
   "metadata": {},
   "outputs": [
    {
     "data": {
      "text/plain": [
       "0.7315"
      ]
     },
     "execution_count": 85,
     "metadata": {},
     "output_type": "execute_result"
    }
   ],
   "source": [
    "S = np.arange(1, 7)\n",
    "M = 10000\n",
    "x = np.random.choice(S, size = M, replace = True)\n",
    "y = np.random.choice(S, size = M, replace = True)\n",
    "np.mean(x + y > 5)\n"
   ]
  },
  {
   "cell_type": "markdown",
   "id": "0e303e5b-2c3d-4869-815e-8e8df4dde514",
   "metadata": {},
   "source": [
    "_Question: You please obtain the exact value of this probability!_"
   ]
  },
  {
   "cell_type": "code",
   "execution_count": 90,
   "id": "e8a758ed-b368-4977-be5c-ab526eb34d82",
   "metadata": {},
   "outputs": [
    {
     "data": {
      "text/plain": [
       "0.7251"
      ]
     },
     "execution_count": 90,
     "metadata": {},
     "output_type": "execute_result"
    }
   ],
   "source": [
    "def toss_prob (k, M = 10000):\n",
    "    x = np.random.choice(S, size = M, replace = True)\n",
    "    y = np.random.choice(S, size = M, replace = True)\n",
    "    return np.mean(x + y > k)\n",
    "toss_prob(5)"
   ]
  },
  {
   "cell_type": "code",
   "execution_count": 73,
   "id": "ee29458f-34c0-45e5-bf17-ea78d53943f4",
   "metadata": {
    "scrolled": true
   },
   "outputs": [
    {
     "data": {
      "image/png": "[encoded data removed]",
      "text/plain": [
       "<Figure size 1000x300 with 1 Axes>"
      ]
     },
     "metadata": {},
     "output_type": "display_data"
    }
   ],
   "source": [
    "toss_prob = np.vectorize(toss_prob)\n",
    "k = np.arange(1, 14)\n",
    "probs = toss_prob(k)\n",
    "probs\n",
    "plt.figure(figsize=(10, 3))\n",
    "plt.plot(k, probs)\n",
    "plt.show()"
   ]
  },
  {
   "cell_type": "markdown",
   "id": "96d35e27-d43e-484d-91b8-2e06615da447",
   "metadata": {},
   "source": [
    "**b) B = {die 1 = die 2}**"
   ]
  },
  {
   "cell_type": "code",
   "execution_count": 117,
   "id": "cec50513-d3b3-47ed-a791-79731a111347",
   "metadata": {},
   "outputs": [
    {
     "data": {
      "text/plain": [
       "0.1729"
      ]
     },
     "execution_count": 117,
     "metadata": {},
     "output_type": "execute_result"
    }
   ],
   "source": [
    "np.mean(x == y)"
   ]
  },
  {
   "cell_type": "code",
   "execution_count": 118,
   "id": "2bc23278-491c-4772-9f48-48408dc98b45",
   "metadata": {},
   "outputs": [
    {
     "data": {
      "text/plain": [
       "0.16666666666666666"
      ]
     },
     "execution_count": 118,
     "metadata": {},
     "output_type": "execute_result"
    }
   ],
   "source": [
    "1/ 6\n"
   ]
  },
  {
   "cell_type": "markdown",
   "id": "3d30e225-34b0-4c74-9e52-a4cff8a2f068",
   "metadata": {},
   "source": [
    "**b) C = {die1 < die2}**"
   ]
  },
  {
   "cell_type": "code",
   "execution_count": 119,
   "id": "b5285d8a-1088-4fbc-82f1-e7db28c9bd3a",
   "metadata": {},
   "outputs": [
    {
     "data": {
      "text/plain": [
       "0.4175"
      ]
     },
     "execution_count": 119,
     "metadata": {},
     "output_type": "execute_result"
    }
   ],
   "source": [
    "np.mean(x < y)"
   ]
  },
  {
   "cell_type": "code",
   "execution_count": 148,
   "id": "7b946411-4100-4649-a9d4-9106f5503b65",
   "metadata": {},
   "outputs": [
    {
     "data": {
      "text/plain": [
       "0.4166666666666667"
      ]
     },
     "execution_count": 148,
     "metadata": {},
     "output_type": "execute_result"
    }
   ],
   "source": [
    "15 / 36"
   ]
  },
  {
   "cell_type": "markdown",
   "id": "6ac05d56-562b-44ef-b086-f27e42f50726",
   "metadata": {},
   "source": [
    "### Example 6: Question 1\n",
    "Suppose that we have 8 fair dice. What is the approximated probability of the following events?\n",
    "<br>\n",
    "a) A = {summation of outcomes be greater than 32}\n",
    "<br>\n",
    "b) B = {summation of the outcomes of the first 5 dice be less than that of the last 3 dice}\n",
    "<br>\n",
    "c) C = {the outcomes are increasing}\n",
    "\n",
    "_Hint: Solve the above problem using the multi-dimensional arrays given by Numpy_"
   ]
  },
  {
   "cell_type": "markdown",
   "id": "396686da-8b2a-48e2-9749-575f9a593b5d",
   "metadata": {},
   "source": [
    "### Example 7 (probabilistic problems including well-known random variables)\n",
    "Suppose that we randomly select a value on the unit interval ([0, 1]). What is the probability that the selected point is nearer to the boundries than the center?"
   ]
  },
  {
   "cell_type": "code",
   "execution_count": 60,
   "id": "04c81eff-0d4f-49ea-bb8c-fb0f62a8f3d1",
   "metadata": {},
   "outputs": [
    {
     "data": {
      "text/plain": [
       "0.5029"
      ]
     },
     "execution_count": 60,
     "metadata": {},
     "output_type": "execute_result"
    }
   ],
   "source": [
    "M = 10000\n",
    "x = np.random.uniform(0, 1, M)\n",
    "np.mean(x < 0.25) + np.mean(x > 0.75)"
   ]
  },
  {
   "cell_type": "code",
   "execution_count": 61,
   "id": "6449ad21-c65e-48ad-8ca8-5e3135672392",
   "metadata": {},
   "outputs": [
    {
     "data": {
      "text/plain": [
       "0.5"
      ]
     },
     "execution_count": 61,
     "metadata": {},
     "output_type": "execute_result"
    }
   ],
   "source": [
    "# Let's obtain the exact value of this probability\n",
    "import scipy.stats as stat\n",
    "stat.uniform.cdf(0.25, 0, 1) + (1 - stat.uniform.cdf(0.75, 0, 1))"
   ]
  },
  {
   "cell_type": "markdown",
   "id": "db55d720-8d31-4e04-be30-9e17b91c3992",
   "metadata": {},
   "source": [
    "### Example 8\n",
    "The annual rainfall (in inches) in a certain region (say X) is \n",
    "normally distributed with μ = 40 and σ = 4.What \n",
    "is the probabilit thath, for the next year we have at least 45 inchesof  rainfallt"
   ]
  },
  {
   "cell_type": "code",
   "execution_count": 130,
   "id": "29e4bb25-f90a-425a-886b-2c86a80b36a4",
   "metadata": {},
   "outputs": [
    {
     "data": {
      "text/plain": [
       "0.1079"
      ]
     },
     "execution_count": 130,
     "metadata": {},
     "output_type": "execute_result"
    }
   ],
   "source": [
    "M = 10000\n",
    "x = np.random.normal(40, 4, size = M)\n",
    "np.mean(x > 45)"
   ]
  },
  {
   "cell_type": "code",
   "execution_count": 131,
   "id": "ef0b2d5b-55fd-4948-911c-81877e01731a",
   "metadata": {},
   "outputs": [
    {
     "data": {
      "text/plain": [
       "0.10564977366685535"
      ]
     },
     "execution_count": 131,
     "metadata": {},
     "output_type": "execute_result"
    }
   ],
   "source": [
    "# Let's obtain the exact value of this probability\n",
    "import scipy.stats as stat\n",
    "1 - stat.norm.cdf(45, 40, 4)"
   ]
  },
  {
   "cell_type": "markdown",
   "id": "146a8016-8dd6-4642-9db7-6c16b769a9cf",
   "metadata": {},
   "source": [
    "# 2) Some methods for generating random numbers from any distribution\n",
    "## Probability integral transformation (PIT)\n",
    "\n",
    "This method is also called _the inverse transform method_ in the literature. It is used for generating random numbers from a given distribution. ution."
   ]
  },
  {
   "cell_type": "markdown",
   "id": "5f5554a7-1f8c-4f82-9704-564554aae0e3",
   "metadata": {},
   "source": [
    "The Algorithm:\n",
    "\n",
    "1- Calculate the cumulative distribution function (CDF) and its inverse for the desired distribution.\n",
    "\n",
    "2- Generate a random sample U from the standard uniform distribution.\n",
    "\n",
    "3- Apply the inverse of the F to U to obtain a sample from the desired distribution."
   ]
  },
  {
   "cell_type": "markdown",
   "id": "7e772dd4-44ee-4517-88d7-e713fed424ff",
   "metadata": {},
   "source": [
    "### Example 1\n",
    "\n",
    "Generate n = 1000 random numbers from a distribution with the following probability density function (pdf)\n",
    "$$f(x) = 4x^3, \\qquad 0<x<1.$$"
   ]
  },
  {
   "cell_type": "code",
   "execution_count": 59,
   "id": "8d33eaf2-b26d-4fc3-a1ba-b6d3533cb9fb",
   "metadata": {
    "scrolled": true
   },
   "outputs": [
    {
     "data": {
      "image/png": "[encoded data removed]",
      "text/plain": [
       "<Figure size 1000x300 with 1 Axes>"
      ]
     },
     "metadata": {},
     "output_type": "display_data"
    }
   ],
   "source": [
    "# Step 1: F^{-1}(u) = u**(1 / 4),   0<u<1.\n",
    "\n",
    "# Step 2: Generating a random sample from U(0, 1)\n",
    "n = 1000\n",
    "u = np.random.uniform(0, 1, n)\n",
    "\n",
    "# Step 3: Applying the inverse CDF to the uniform observations to obtain the desired random smaple\n",
    "x = u**(1 / 4)\n",
    "\n",
    "# Plotting\n",
    "plt.figure(figsize = (10, 3))\n",
    "plt.hist(x, density=True)\n",
    "\n",
    "a = np.linspace(0, 1, 1000)\n",
    "y = 4 * a**3\n",
    "plt.plot(a, y, color = 'red')\n",
    "plt.show()"
   ]
  },
  {
   "cell_type": "markdown",
   "id": "1a951d6d-471d-4b49-ae76-ab073fa924e9",
   "metadata": {},
   "source": [
    "### Example 2\n",
    "Generate n = 1000 random values from Laplace distribution with the PDF and the inverse of the CDF given by\n",
    "\n",
    "$$f(x) = \\frac{1}{2}e^{-|x|}, \\qquad x \\in \\mathbb{R},$$\n",
    "and\n",
    "$$F^{-1}(u)=\\left\\{ \n",
    "\\begin{array}{cc}\n",
    "\\log (2u)& \\qquad u < 0.5\\\\\n",
    "-\\log (2(1-u)) & \\qquad u > 0.5.\n",
    "\\end{array}\n",
    "\\right.$$"
   ]
  },
  {
   "cell_type": "code",
   "execution_count": 17,
   "id": "363d5938-1698-40bf-bfce-b94ec2f11c8f",
   "metadata": {},
   "outputs": [
    {
     "data": {
      "image/png": "[encoded data removed]",
      "text/plain": [
       "<Figure size 1000x400 with 1 Axes>"
      ]
     },
     "metadata": {},
     "output_type": "display_data"
    }
   ],
   "source": [
    "import numpy as np\n",
    "\n",
    "def random_Laplace(n):\n",
    "  u = np.random.uniform(0, 1, n)   # Generating a random sample from U(0, 1)\n",
    "  # Applying the inverse CDF of Laplace dis. on the u\n",
    "  x = np.zeros(n)   \n",
    "  for i in range(n):\n",
    "    if u[i] < 0.5:\n",
    "        x[i] = np.log(2 * u[i])\n",
    "    else:\n",
    "        x[i] = -np.log(2 * (1 - u[i]))\n",
    "  return x\n",
    "\n",
    "# Defining the Laplace pdf\n",
    "def pdf_laplace (x):\n",
    "  return 0.5 * np.exp(-np.abs(x))\n",
    "\n",
    "x = random_Laplace(10000)\n",
    "# Plotting\n",
    "import matplotlib.pyplot as plt\n",
    "\n",
    "plt.figure(figsize = (10, 4))\n",
    "plt.hist(x, bins = 30, density = True)\n",
    "a = np.linspace(x.min(), x.max(), 1000)\n",
    "plt.plot(a, pdf_laplace(a))\n",
    "plt.show()"
   ]
  },
  {
   "cell_type": "code",
   "execution_count": null,
   "id": "ef4c929b-a588-49a6-905f-b40783ccdda9",
   "metadata": {},
   "outputs": [],
   "source": []
  },
  {
   "cell_type": "markdown",
   "id": "7987bfb9-3eaa-4b82-bf87-723175c8b224",
   "metadata": {},
   "source": [
    "## Acceptance/Rejection Algorithm\n",
    "\n",
    "Suppose that you are going to generate a random sample from $f$ (the target distribution). Plus, there is a distribution with pdf $g$ (the proposal distribution) and a constant $M$ such that\n",
    "\n",
    "$$ \\frac{f(x)}{M g(x)} \\leq 1, \\qquad \\forall x.$$\n",
    "As a result, $M$ can be considered as\n",
    "$$ M = \\sup_{x} \\frac{f(x)}{g(x)}.$$wise."
   ]
  },
  {
   "cell_type": "markdown",
   "id": "af9098a9-b8c7-406b-9686-cc0c8d797044",
   "metadata": {},
   "source": [
    "**Steps of the Acceptance-Rejection Algorithm**\n",
    "\n",
    "- Choose a Proposal Distribution: Select a distribution that is easy to sample from and serves as a \"proposal\" for generating samples.\n",
    "  \n",
    "- Generate Samples: Draw random samples from the proposal distribution.\n",
    "  \n",
    "- Calculate Ratios: Calculate the ratio of the target distribution's probability to the proposal distribution's probability for each sample.\n",
    "  \n",
    "- Accept or Reject: Accept a sample with probability equal to the calculated ratio. Reject otherwise."
   ]
  },
  {
   "cell_type": "markdown",
   "id": "f5a99576-67d0-416b-b60f-a9ecf6277c3f",
   "metadata": {},
   "source": [
    "### Example 3\n",
    "Use the Acceptance-Rejection algorithm in order to generate a random sample from the standard normal distribution. Use the Laplace distribution as the proposal."
   ]
  },
  {
   "cell_type": "code",
   "execution_count": 30,
   "id": "4bfcf8f6-c86c-4de6-9dd1-0343f26f0325",
   "metadata": {},
   "outputs": [
    {
     "data": {
      "image/png": "[encoded data removed]",
      "text/plain": [
       "<Figure size 640x480 with 1 Axes>"
      ]
     },
     "metadata": {},
     "output_type": "display_data"
    }
   ],
   "source": [
    "# The target density\n",
    "def f(x):\n",
    "    return 1 / (2 * np.pi)**0.5 * np.exp(-x**2 / 2)\n",
    "\n",
    "# The proposal density\n",
    "def g(x):\n",
    "    return pdf_laplace(x)\n",
    "\n",
    "# Defining the M constant which has already been obtained. We will discuss it later!\n",
    "M = (2 * np.e / np.pi)**0.5\n",
    "\n",
    "# The A-R algorithm\n",
    "n = 10000\n",
    "y = np.zeros(n)\n",
    "i = 0\n",
    "while i < n:\n",
    "    u = np.random.uniform(0, 1, 1)\n",
    "    x = random_Laplace(1)\n",
    "    if f(x) / (M * g(x)) > u:\n",
    "      y[i] = x\n",
    "      i += 1\n",
    "\n",
    "# Plotting\n",
    "plt.hist(y, 30, density = True)\n",
    "a = np.linspace(-3, 3, 1000)\n",
    "plt.plot(a, f(a))\n",
    "plt.show()"
   ]
  },
  {
   "cell_type": "code",
   "execution_count": null,
   "id": "c1b9f5b9-f390-4c5b-aeb2-6f797ec9aaa7",
   "metadata": {},
   "outputs": [],
   "source": [
    "# How many x's are generated in order to achieve the desired sample size?\n"
   ]
  },
  {
   "cell_type": "code",
   "execution_count": null,
   "id": "223b40ed-199a-47ae-a18d-9341cf774f84",
   "metadata": {},
   "outputs": [],
   "source": [
    "# How can the constant M be obtained?\n"
   ]
  },
  {
   "cell_type": "markdown",
   "id": "f01a7258-0426-4564-ab3b-0b5f0d4fb7df",
   "metadata": {},
   "source": [
    "### Example 4 (Question 2)\n",
    "Write a function to generate a random sample of size $n$ from the $Beta(a, b)$ distribution by the acceptance-rejection method. Generate a random sample of size 1000 from the $Beta(3,2)$ distribution. Graph the histogram of the sample with the theoretical Beta(3,2) density curve.\n",
    "\n",
    "_Hint: Use the standard beta distribution U(0, 1) as the proposal._"
   ]
  },
  {
   "cell_type": "markdown",
   "id": "fc074f27-0993-4c2f-a8fd-04fadc83263f",
   "metadata": {},
   "source": [
    "# 3) Bootstrap method"
   ]
  },
  {
   "cell_type": "code",
   "execution_count": null,
   "id": "5c1b26fe-aa58-41c4-bdcf-e86840286c9f",
   "metadata": {},
   "outputs": [],
   "source": []
  },
  {
   "cell_type": "code",
   "execution_count": null,
   "id": "a160aa8d-5b34-4c56-acf4-ba7c27110ecf",
   "metadata": {},
   "outputs": [],
   "source": []
  }
 ],
 "metadata": {
  "kernelspec": {
   "display_name": "Python 3 (ipykernel)",
   "language": "python",
   "name": "python3"
  },
  "language_info": {
   "codemirror_mode": {
    "name": "ipython",
    "version": 3
   },
   "file_extension": ".py",
   "mimetype": "text/x-python",
   "name": "python",
   "nbconvert_exporter": "python",
   "pygments_lexer": "ipython3",
   "version": "3.10.8"
  }
 },
 "nbformat": 4,
 "nbformat_minor": 5
}
