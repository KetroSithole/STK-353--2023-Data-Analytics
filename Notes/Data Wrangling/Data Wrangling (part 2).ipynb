{
 "cells": [
  {
   "cell_type": "markdown",
   "id": "4c3d3d46",
   "metadata": {},
   "source": [
    "# Data Wrangling (part 2)\n",
    "\n",
    "The process of cleaning, organizing, and transforming \"raw\" data with the intent of making it more appropriate and valuable for a variety of downstream purposes such as analytics.\n",
    "\n",
    "In this notebook we will look at:\n",
    "\n",
    "- [x] Importing data\n",
    "- [x] Handling missing values\n",
    "- [x] Handling incorrect data\n",
    "- [x] Removing duplicated data\n",
    "- [x] Detecting outliers\n",
    "- [ ] Data Transformation\n",
    "    - .apply() and lambda functions\n",
    "    - .groupby() function"
   ]
  },
  {
   "cell_type": "markdown",
   "id": "eedc1907",
   "metadata": {},
   "source": [
    "Consider the _transformation_dataset.xlsx_ dataset.\n",
    "\n",
    "Certainly! Here's the information presented in a markdown table:\n",
    "\n",
    "| Variable | Meaning                                       |\n",
    "|----------|-----------------------------------------------|\n",
    "| gender   | Gender of the individual                      |\n",
    "| age      | Age of the individual                         |\n",
    "| height   | Height of the individual (in cm)                      |\n",
    "| weight   | Weight of the individual (in kg)                     |\n",
    "| smoke    | Indicates if the individual smokes ( 1 = yes/ 0 = no)   |\n",
    "| alcohol  | Indicates if the individual drinks alcohol ( 1 = yes/ 0 = no)        |\n",
    "| active   | Indicates if the individual is active ( 1 = yes/ 0 = no)    |\n",
    "\n",
    "This table provides a concise explanation of the meaning of each variable in the dataset."
   ]
  },
  {
   "cell_type": "code",
   "execution_count": null,
   "id": "979b1881",
   "metadata": {
    "scrolled": true
   },
   "outputs": [],
   "source": [
    "import pandas as pd\n",
    "import matplotlib.pyplot as plt\n",
    "%matplotlib inline"
   ]
  },
  {
   "cell_type": "code",
   "execution_count": null,
   "id": "ef38e8f3",
   "metadata": {
    "scrolled": true
   },
   "outputs": [],
   "source": [
    "original_df = pd.read_excel('transformation_dataset.xlsx')\n",
    "df = original_df.copy()"
   ]
  },
  {
   "cell_type": "markdown",
   "id": "eac5c885",
   "metadata": {},
   "source": [
    "## Data Transformation"
   ]
  },
  {
   "cell_type": "markdown",
   "id": "9e388803",
   "metadata": {},
   "source": [
    "** Create a new column called 'BMI' containing the BMI of each person. **\n",
    "\n",
    "$$ \\text {BMI} = \\frac{\\text { Weight (in kilograms) }}{\\text { Height }^2 \\text { (in meters) }} $$\n",
    "\n"
   ]
  },
  {
   "cell_type": "code",
   "execution_count": null,
   "id": "5a466473",
   "metadata": {
    "scrolled": true
   },
   "outputs": [],
   "source": [
    "df.head()"
   ]
  },
  {
   "cell_type": "code",
   "execution_count": null,
   "id": "4ca8394d",
   "metadata": {},
   "outputs": [],
   "source": [
    "df.shape"
   ]
  },
  {
   "cell_type": "code",
   "execution_count": null,
   "id": "b58db3c4",
   "metadata": {
    "scrolled": true
   },
   "outputs": [],
   "source": [
    "df.columns"
   ]
  },
  {
   "cell_type": "code",
   "execution_count": null,
   "id": "22a7b265",
   "metadata": {},
   "outputs": [],
   "source": [
    "# calculate BMI directly:\n"
   ]
  },
  {
   "cell_type": "markdown",
   "id": "ebd5be7b",
   "metadata": {},
   "source": [
    "### 1. .apply() function and Lambda function"
   ]
  },
  {
   "cell_type": "code",
   "execution_count": null,
   "id": "7fb63046",
   "metadata": {
    "scrolled": true
   },
   "outputs": [],
   "source": [
    "# this function converts cm to m:\n",
    "\n",
    "def cm_to_m_converter(x):\n",
    "    result = x/100\n",
    "    return result"
   ]
  },
  {
   "cell_type": "code",
   "execution_count": null,
   "id": "bbd62608",
   "metadata": {
    "scrolled": true
   },
   "outputs": [],
   "source": [
    "df['height'].apply(cm_to_m_converter)"
   ]
  },
  {
   "cell_type": "code",
   "execution_count": null,
   "id": "d8b6b9b7",
   "metadata": {},
   "outputs": [],
   "source": [
    "df['height_m'] = df['height'].apply(cm_to_m_converter)\n",
    "df"
   ]
  },
  {
   "cell_type": "markdown",
   "id": "71ac4821",
   "metadata": {},
   "source": [
    "** Use the .apply() function to calculate the BMI scores. **"
   ]
  },
  {
   "cell_type": "code",
   "execution_count": null,
   "id": "fb1d5196",
   "metadata": {},
   "outputs": [],
   "source": [
    "def BMI_calculator(row):\n",
    "    return row['weight'] / (row['height_m'] ** 2)\n",
    "\n",
    "df['BMI'] = df.apply(BMI_calculator, axis=1)\n",
    "\n",
    "# the axis argument specifies along which the function is applied:\n",
    "# 0 : apply function to each column. (default)\n",
    "# 1 : apply function to each row.\n",
    "\n",
    "df"
   ]
  },
  {
   "cell_type": "markdown",
   "id": "b0567837",
   "metadata": {},
   "source": [
    "Consider the following function:\n",
    "    \n",
    "```   \n",
    "def BMI_calculator_2args(w, h):\n",
    "    BMI = w / h**2\n",
    "    return BMI\n",
    "```\n",
    "\n",
    "For more complicated functions (eg. those requiring more than one argument), you can use a lambda function. "
   ]
  },
  {
   "cell_type": "markdown",
   "id": "aa87c631",
   "metadata": {},
   "source": [
    "#### Lambda Function\n",
    "\n",
    "A lambda function is a small anonymous function. "
   ]
  },
  {
   "cell_type": "markdown",
   "id": "9f4863ce",
   "metadata": {},
   "source": [
    "Remember this function:\n",
    "    \n",
    "```\n",
    "def cm_to_m_converter(x):\n",
    "    result = x/100\n",
    "    return result \n",
    "```\n",
    "\n",
    "Instead of using this, as we did before,:\n",
    "\n",
    "```\n",
    "df['height'].apply(cm_to_m_converter)\n",
    "```\n",
    "\n",
    "we can use the .apply() and lambda functions as follows:"
   ]
  },
  {
   "cell_type": "code",
   "execution_count": null,
   "id": "8c4bf159",
   "metadata": {},
   "outputs": [],
   "source": [
    "df['height'].apply(lambda x: x/100)"
   ]
  },
  {
   "cell_type": "code",
   "execution_count": null,
   "id": "ad39fe00",
   "metadata": {
    "scrolled": false
   },
   "outputs": [],
   "source": [
    "df['height'].apply(lambda x: cm_to_m_converter(x))"
   ]
  },
  {
   "cell_type": "markdown",
   "id": "c19c099d",
   "metadata": {},
   "source": [
    "**What if the function requires 2 or more arguments?**"
   ]
  },
  {
   "cell_type": "markdown",
   "id": "9288ddc0",
   "metadata": {},
   "source": [
    "** Create a new column called `BMI_class` that only indicates whether a male is \n",
    "- Underweight (BMI < 18.5), \n",
    "- Normal (18.5 <= BMI < 24.9), \n",
    "- Overweight (25 <= BMI < 29.9) or \n",
    "- Obese BMI (>= 29.9)\n",
    "based on his BMI score. If the person is a female, output the words 'n/a'. **"
   ]
  },
  {
   "cell_type": "code",
   "execution_count": null,
   "id": "2edcfcdd",
   "metadata": {},
   "outputs": [],
   "source": [
    "def BMI_classifier(gender, BMI):\n",
    "    \n",
    "    if gender == 'Female':\n",
    "        category = 'n/a'\n",
    "    \n",
    "    else:    \n",
    "        if BMI < 18.5:\n",
    "            category = 'Underweight'\n",
    "        elif 18.5 <= BMI < 24.9:\n",
    "            category = 'Normal'\n",
    "        elif 25 <= BMI < 29.9:\n",
    "            category = 'Overweight'\n",
    "        else:\n",
    "            category = 'Obese'\n",
    "            \n",
    "    return category"
   ]
  },
  {
   "cell_type": "code",
   "execution_count": null,
   "id": "eea8826d",
   "metadata": {},
   "outputs": [],
   "source": [
    "# use the .apply() and lambda functions\n"
   ]
  },
  {
   "cell_type": "code",
   "execution_count": null,
   "id": "d8e0c855",
   "metadata": {},
   "outputs": [],
   "source": [
    "# create the new column: BMI_class \n",
    "\n",
    "# view updated dataframe\n"
   ]
  },
  {
   "cell_type": "markdown",
   "id": "64782509",
   "metadata": {},
   "source": [
    "### 3. .groupby() function\n",
    "\n",
    "The groupby method allows you to group rows of data together and call aggregate functions."
   ]
  },
  {
   "cell_type": "code",
   "execution_count": null,
   "id": "e02620c5",
   "metadata": {
    "scrolled": false
   },
   "outputs": [],
   "source": [
    "df"
   ]
  },
  {
   "cell_type": "markdown",
   "id": "67238c4c",
   "metadata": {},
   "source": [
    "** What is are the average weight of the people in each BMI class? **\n",
    "\n",
    "Use the .groupby() method to group rows together based off of a column name. \n",
    "\n",
    "This will create a DataFrameGroupBy object:"
   ]
  },
  {
   "cell_type": "code",
   "execution_count": null,
   "id": "7a9d85c7",
   "metadata": {
    "scrolled": false
   },
   "outputs": [],
   "source": [
    "df.groupby('BMI_class')"
   ]
  },
  {
   "cell_type": "markdown",
   "id": "f4d74b3d",
   "metadata": {},
   "source": [
    "You can save this object as a new variable:"
   ]
  },
  {
   "cell_type": "code",
   "execution_count": null,
   "id": "0e5d1894",
   "metadata": {
    "scrolled": false
   },
   "outputs": [],
   "source": [
    "BMI_groups = df.groupby('BMI_class')"
   ]
  },
  {
   "cell_type": "markdown",
   "id": "6f926f65",
   "metadata": {},
   "source": [
    "And then call aggregate methods of the object:"
   ]
  },
  {
   "cell_type": "code",
   "execution_count": null,
   "id": "a9ad5839",
   "metadata": {
    "scrolled": true
   },
   "outputs": [],
   "source": [
    "BMI_groups.mean()"
   ]
  },
  {
   "cell_type": "code",
   "execution_count": null,
   "id": "d42860bf",
   "metadata": {
    "scrolled": true
   },
   "outputs": [],
   "source": [
    "BMI_groups.mean()['weight']"
   ]
  },
  {
   "cell_type": "markdown",
   "id": "98496bb4",
   "metadata": {},
   "source": [
    "Other operations:"
   ]
  },
  {
   "cell_type": "code",
   "execution_count": null,
   "id": "38e73624",
   "metadata": {},
   "outputs": [],
   "source": [
    "BMI_groups.median()"
   ]
  },
  {
   "cell_type": "code",
   "execution_count": null,
   "id": "1e077526",
   "metadata": {
    "scrolled": false
   },
   "outputs": [],
   "source": [
    "BMI_groups.std()"
   ]
  },
  {
   "cell_type": "code",
   "execution_count": null,
   "id": "16c879f3",
   "metadata": {
    "scrolled": false
   },
   "outputs": [],
   "source": [
    "BMI_groups.min()"
   ]
  },
  {
   "cell_type": "code",
   "execution_count": null,
   "id": "9f5696e8",
   "metadata": {
    "scrolled": true
   },
   "outputs": [],
   "source": [
    "BMI_groups.sum()"
   ]
  },
  {
   "cell_type": "code",
   "execution_count": null,
   "id": "ef73ab04",
   "metadata": {
    "scrolled": false
   },
   "outputs": [],
   "source": [
    "BMI_groups.size()"
   ]
  },
  {
   "cell_type": "markdown",
   "id": "dfd129f7",
   "metadata": {},
   "source": [
    "To view groups:"
   ]
  },
  {
   "cell_type": "code",
   "execution_count": null,
   "id": "458c3965",
   "metadata": {},
   "outputs": [],
   "source": [
    "BMI_groups.groups"
   ]
  },
  {
   "cell_type": "code",
   "execution_count": null,
   "id": "e7748515",
   "metadata": {
    "scrolled": true
   },
   "outputs": [],
   "source": [
    "df.loc[[2, 8]]"
   ]
  },
  {
   "cell_type": "markdown",
   "id": "bfc7f8e1",
   "metadata": {},
   "source": [
    "**Group by with multiple columns:**"
   ]
  },
  {
   "cell_type": "markdown",
   "id": "ca2f1506",
   "metadata": {},
   "source": [
    "** Calculate the average weights of individuals based on their BMI categories and smoking habits. **"
   ]
  },
  {
   "cell_type": "code",
   "execution_count": null,
   "id": "933f67d3",
   "metadata": {},
   "outputs": [],
   "source": [
    "df.groupby(['BMI_class','smoke'])"
   ]
  },
  {
   "cell_type": "code",
   "execution_count": null,
   "id": "228b5760",
   "metadata": {},
   "outputs": [],
   "source": [
    "df.groupby(['BMI_class','smoke']).mean()"
   ]
  },
  {
   "cell_type": "markdown",
   "id": "19909da3",
   "metadata": {},
   "source": [
    "You can also use other aggregation functions. For example:"
   ]
  },
  {
   "cell_type": "code",
   "execution_count": null,
   "id": "ca48a6ed",
   "metadata": {},
   "outputs": [],
   "source": [
    "df.groupby(['BMI_class','smoke']).size()"
   ]
  },
  {
   "cell_type": "markdown",
   "id": "99225234",
   "metadata": {},
   "source": [
    "<h4><center>The End!</center></h4>"
   ]
  },
  {
   "cell_type": "code",
   "execution_count": null,
   "id": "ee807a74",
   "metadata": {},
   "outputs": [],
   "source": []
  }
 ],
 "metadata": {
  "kernelspec": {
   "display_name": "Python 3 (ipykernel)",
   "language": "python",
   "name": "python3"
  },
  "language_info": {
   "codemirror_mode": {
    "name": "ipython",
    "version": 3
   },
   "file_extension": ".py",
   "mimetype": "text/x-python",
   "name": "python",
   "nbconvert_exporter": "python",
   "pygments_lexer": "ipython3",
   "version": "3.11.3"
  }
 },
 "nbformat": 4,
 "nbformat_minor": 5
}
