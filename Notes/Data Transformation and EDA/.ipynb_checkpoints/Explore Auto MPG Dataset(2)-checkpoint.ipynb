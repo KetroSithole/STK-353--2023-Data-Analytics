{
 "cells": [
  {
   "cell_type": "markdown",
   "metadata": {},
   "source": [
    "# STK 353\n",
    "## Study Theme 2 - Explore\n",
    "## Exploring the auto mpg data set\n",
    "\n",
    "### Dataset description\n",
    "The objective is to predict the Miles Per Gallon (MPG) using the factors provided in the dataset. These factors include 3 multivalued discrete and 5 continuous attributes. They are: cylinders, displacement, horsepower, weight, acceleration, model, year, origin and car name. <br>\n",
    "For now, we only look at two variables and the context is: What is the relationship between engine size (displacement) and fuel efficiency (MPG)?\n",
    "<br><br>\n",
    "### Step 1: Import all the packages"
   ]
  },
  {
   "cell_type": "code",
   "execution_count": 1,
   "metadata": {},
   "outputs": [],
   "source": [
    "import pandas as pd\n",
    "import matplotlib.pyplot as plt\n",
    "#this command displays figures in Jupyter Notebook:\n",
    "%matplotlib inline"
   ]
  },
  {
   "cell_type": "markdown",
   "metadata": {},
   "source": [
    "### Step 2: Import the data\n",
    "Note the following:\n",
    "* The dataset is imported as a pandas dataframe.\n",
    "* The dataset file is saved in the directory 'data'.\n",
    "* The path to this file is a relative path. The '../' indicates to move up one directory and then go to the directory 'data'.\n",
    "* The index column is 'car name'. We can do this because the car name is unique for each observation.\n",
    "* The name of the dataframe is 'auto_data'."
   ]
  },
  {
   "cell_type": "code",
   "execution_count": 3,
   "metadata": {},
   "outputs": [],
   "source": [
    "auto_data = pd.read_csv('auto-mpg.csv',index_col='car name')"
   ]
  },
  {
   "cell_type": "markdown",
   "metadata": {},
   "source": [
    "### Step 3: Let's have a look at the data\n",
    "In the previous cell, the index was defined as 'car name'. Looking at the column names, note that 'car name' is now removed from variables as it is defined as the index of the observations."
   ]
  },
  {
   "cell_type": "code",
   "execution_count": 4,
   "metadata": {},
   "outputs": [
    {
     "name": "stdout",
     "output_type": "stream",
     "text": [
      "                            mpg  cylinders  displacement horsepower  weight  \\\n",
      "car name                                                                      \n",
      "chevrolet chevelle malibu  18.0          8         307.0        130    3504   \n",
      "buick skylark 320          15.0          8         350.0        165    3693   \n",
      "plymouth satellite         18.0          8         318.0        150    3436   \n",
      "amc rebel sst              16.0          8         304.0        150    3433   \n",
      "ford torino                17.0          8         302.0        140    3449   \n",
      "\n",
      "                           acceleration  model year  origin  \n",
      "car name                                                     \n",
      "chevrolet chevelle malibu          12.0          70       1  \n",
      "buick skylark 320                  11.5          70       1  \n",
      "plymouth satellite                 11.0          70       1  \n",
      "amc rebel sst                      12.0          70       1  \n",
      "ford torino                        10.5          70       1  \n",
      "Index(['chevrolet chevelle malibu', 'buick skylark 320', 'plymouth satellite',\n",
      "       'amc rebel sst', 'ford torino', 'ford galaxie 500', 'chevrolet impala',\n",
      "       'plymouth fury iii', 'pontiac catalina', 'amc ambassador dpl',\n",
      "       ...\n",
      "       'chrysler lebaron medallion', 'ford granada l', 'toyota celica gt',\n",
      "       'dodge charger 2.2', 'chevrolet camaro', 'ford mustang gl', 'vw pickup',\n",
      "       'dodge rampage', 'ford ranger', 'chevy s-10'],\n",
      "      dtype='object', name='car name', length=398)\n",
      "Index(['mpg', 'cylinders', 'displacement', 'horsepower', 'weight',\n",
      "       'acceleration', 'model year', 'origin'],\n",
      "      dtype='object')\n"
     ]
    }
   ],
   "source": [
    "print(auto_data.head()) #prints the first 5 observations\n",
    "print(auto_data.index) #prints the index of the observations\n",
    "print(auto_data.columns) #prints the column names"
   ]
  },
  {
   "cell_type": "markdown",
   "metadata": {},
   "source": [
    "### Step 4: Select the two variables that we're interested in\n",
    "* The two variables of interest are: mpg and displacement.\n",
    "* Create a new dataframe for these two variables.\n",
    "* We need **two** square brackets around the variable names."
   ]
  },
  {
   "cell_type": "code",
   "execution_count": 5,
   "metadata": {},
   "outputs": [],
   "source": [
    "mpg_disp = auto_data[['mpg', 'displacement']]"
   ]
  },
  {
   "cell_type": "markdown",
   "metadata": {},
   "source": [
    "### Step 5: Check the data\n",
    "We should know the following about our data:\n",
    "* Data shape (number of observations and number of variables).\n",
    "* Data types - integers, floats, objects, strings)\n",
    "* Does the data set contain any missing values?"
   ]
  },
  {
   "cell_type": "code",
   "execution_count": 6,
   "metadata": {},
   "outputs": [
    {
     "name": "stdout",
     "output_type": "stream",
     "text": [
      "Shape of the data:  (398, 2)\n",
      "Data types:\n",
      "mpg             float64\n",
      "displacement    float64\n",
      "dtype: object\n",
      "Any missing values?\n",
      "mpg             False\n",
      "displacement    False\n",
      "dtype: bool\n"
     ]
    }
   ],
   "source": [
    "print('Shape of the data: ', str(mpg_disp.shape))\n",
    "print('Data types:')\n",
    "print(mpg_disp.dtypes)\n",
    "print('Any missing values?')\n",
    "print(mpg_disp.isnull().any())"
   ]
  },
  {
   "cell_type": "markdown",
   "metadata": {},
   "source": [
    "Everything seems fine, so let's describe the dataset"
   ]
  },
  {
   "cell_type": "code",
   "execution_count": 7,
   "metadata": {},
   "outputs": [
    {
     "data": {
      "text/html": [
       "<div>\n",
       "<style scoped>\n",
       "    .dataframe tbody tr th:only-of-type {\n",
       "        vertical-align: middle;\n",
       "    }\n",
       "\n",
       "    .dataframe tbody tr th {\n",
       "        vertical-align: top;\n",
       "    }\n",
       "\n",
       "    .dataframe thead th {\n",
       "        text-align: right;\n",
       "    }\n",
       "</style>\n",
       "<table border=\"1\" class=\"dataframe\">\n",
       "  <thead>\n",
       "    <tr style=\"text-align: right;\">\n",
       "      <th></th>\n",
       "      <th>mpg</th>\n",
       "      <th>displacement</th>\n",
       "    </tr>\n",
       "  </thead>\n",
       "  <tbody>\n",
       "    <tr>\n",
       "      <th>count</th>\n",
       "      <td>398.000000</td>\n",
       "      <td>398.000000</td>\n",
       "    </tr>\n",
       "    <tr>\n",
       "      <th>mean</th>\n",
       "      <td>23.514573</td>\n",
       "      <td>193.425879</td>\n",
       "    </tr>\n",
       "    <tr>\n",
       "      <th>std</th>\n",
       "      <td>7.815984</td>\n",
       "      <td>104.269838</td>\n",
       "    </tr>\n",
       "    <tr>\n",
       "      <th>min</th>\n",
       "      <td>9.000000</td>\n",
       "      <td>68.000000</td>\n",
       "    </tr>\n",
       "    <tr>\n",
       "      <th>25%</th>\n",
       "      <td>17.500000</td>\n",
       "      <td>104.250000</td>\n",
       "    </tr>\n",
       "    <tr>\n",
       "      <th>50%</th>\n",
       "      <td>23.000000</td>\n",
       "      <td>148.500000</td>\n",
       "    </tr>\n",
       "    <tr>\n",
       "      <th>75%</th>\n",
       "      <td>29.000000</td>\n",
       "      <td>262.000000</td>\n",
       "    </tr>\n",
       "    <tr>\n",
       "      <th>max</th>\n",
       "      <td>46.600000</td>\n",
       "      <td>455.000000</td>\n",
       "    </tr>\n",
       "  </tbody>\n",
       "</table>\n",
       "</div>"
      ],
      "text/plain": [
       "              mpg  displacement\n",
       "count  398.000000    398.000000\n",
       "mean    23.514573    193.425879\n",
       "std      7.815984    104.269838\n",
       "min      9.000000     68.000000\n",
       "25%     17.500000    104.250000\n",
       "50%     23.000000    148.500000\n",
       "75%     29.000000    262.000000\n",
       "max     46.600000    455.000000"
      ]
     },
     "execution_count": 7,
     "metadata": {},
     "output_type": "execute_result"
    }
   ],
   "source": [
    "mpg_disp.describe()"
   ]
  },
  {
   "cell_type": "markdown",
   "metadata": {},
   "source": [
    "### Step 6: Create the plot"
   ]
  },
  {
   "cell_type": "code",
   "execution_count": 12,
   "metadata": {},
   "outputs": [
    {
     "data": {
      "image/png": "[encoded data removed]",
      "text/plain": [
       "<Figure size 720x576 with 1 Axes>"
      ]
     },
     "metadata": {
      "needs_background": "light"
     },
     "output_type": "display_data"
    }
   ],
   "source": [
    "# Create a figure\n",
    "plt.figure(figsize=(10,8))\n",
    "\n",
    "# Create a scatterplot of engine size (displacement) as the x axis and fuel efficiency (mpg) as the y axis\n",
    "plt.scatter(mpg_disp['displacement'], mpg_disp['mpg'], \n",
    "            # the marker as\n",
    "            marker='o', \n",
    "            # the color\n",
    "            color='purple',\n",
    "            # the alpha\n",
    "            alpha=0.8,\n",
    "            # with size\n",
    "            s = 50)\n",
    "\n",
    "# Chart title\n",
    "plt.title('Engine size vs fuel efficience')\n",
    "# x label\n",
    "plt.xlabel('displacement')\n",
    "# y label\n",
    "plt.ylabel('mpg')\n",
    "plt.savefig(\"auto_mpg_pink.jpg\")\n",
    "# Show the plot\n",
    "plt.show()\n"
   ]
  },
  {
   "cell_type": "code",
   "execution_count": null,
   "metadata": {},
   "outputs": [],
   "source": []
  }
 ],
 "metadata": {
  "kernelspec": {
   "display_name": "Python 3 (ipykernel)",
   "language": "python",
   "name": "python3"
  },
  "language_info": {
   "codemirror_mode": {
    "name": "ipython",
    "version": 3
   },
   "file_extension": ".py",
   "mimetype": "text/x-python",
   "name": "python",
   "nbconvert_exporter": "python",
   "pygments_lexer": "ipython3",
   "version": "3.11.3"
  }
 },
 "nbformat": 4,
 "nbformat_minor": 2
}
