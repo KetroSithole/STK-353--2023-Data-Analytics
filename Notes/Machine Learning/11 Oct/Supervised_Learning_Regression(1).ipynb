{
 "cells": [
  {
   "cell_type": "markdown",
   "id": "9c8b1fca-1d41-4ea4-b2ff-8d58d8905159",
   "metadata": {},
   "source": [
    "# Linear regression model\n",
    "\n",
    "## Simple linear regression\n",
    "\n",
    "### Example 1 (Laptop data)\n",
    "\n",
    "As an illustrative example, consider a case of a company that markets and repairs small computers.  To study the relationship between the length of a  service call and the number of electronic components in the computer that must be repaired or replaced, a sample of records on service calls was taken.  The data consists of the length of service calls in minutes (the response variable) and the number of components repaired (the only predictor variable). Fit a linear regression on this data."
   ]
  },
  {
   "cell_type": "code",
   "execution_count": 3,
   "id": "df699d83-1981-4eb1-a50f-9624cf804b2f",
   "metadata": {},
   "outputs": [
    {
     "data": {
      "text/html": [
       "<div>\n",
       "<style scoped>\n",
       "    .dataframe tbody tr th:only-of-type {\n",
       "        vertical-align: middle;\n",
       "    }\n",
       "\n",
       "    .dataframe tbody tr th {\n",
       "        vertical-align: top;\n",
       "    }\n",
       "\n",
       "    .dataframe thead th {\n",
       "        text-align: right;\n",
       "    }\n",
       "</style>\n",
       "<table border=\"1\" class=\"dataframe\">\n",
       "  <thead>\n",
       "    <tr style=\"text-align: right;\">\n",
       "      <th></th>\n",
       "      <th>Minutes</th>\n",
       "      <th>Units</th>\n",
       "    </tr>\n",
       "  </thead>\n",
       "  <tbody>\n",
       "    <tr>\n",
       "      <th>0</th>\n",
       "      <td>23</td>\n",
       "      <td>1</td>\n",
       "    </tr>\n",
       "    <tr>\n",
       "      <th>1</th>\n",
       "      <td>29</td>\n",
       "      <td>2</td>\n",
       "    </tr>\n",
       "    <tr>\n",
       "      <th>2</th>\n",
       "      <td>49</td>\n",
       "      <td>3</td>\n",
       "    </tr>\n",
       "    <tr>\n",
       "      <th>3</th>\n",
       "      <td>64</td>\n",
       "      <td>4</td>\n",
       "    </tr>\n",
       "    <tr>\n",
       "      <th>4</th>\n",
       "      <td>74</td>\n",
       "      <td>4</td>\n",
       "    </tr>\n",
       "    <tr>\n",
       "      <th>5</th>\n",
       "      <td>87</td>\n",
       "      <td>5</td>\n",
       "    </tr>\n",
       "    <tr>\n",
       "      <th>6</th>\n",
       "      <td>96</td>\n",
       "      <td>6</td>\n",
       "    </tr>\n",
       "    <tr>\n",
       "      <th>7</th>\n",
       "      <td>97</td>\n",
       "      <td>6</td>\n",
       "    </tr>\n",
       "    <tr>\n",
       "      <th>8</th>\n",
       "      <td>109</td>\n",
       "      <td>7</td>\n",
       "    </tr>\n",
       "    <tr>\n",
       "      <th>9</th>\n",
       "      <td>119</td>\n",
       "      <td>8</td>\n",
       "    </tr>\n",
       "    <tr>\n",
       "      <th>10</th>\n",
       "      <td>149</td>\n",
       "      <td>9</td>\n",
       "    </tr>\n",
       "    <tr>\n",
       "      <th>11</th>\n",
       "      <td>145</td>\n",
       "      <td>9</td>\n",
       "    </tr>\n",
       "    <tr>\n",
       "      <th>12</th>\n",
       "      <td>154</td>\n",
       "      <td>10</td>\n",
       "    </tr>\n",
       "    <tr>\n",
       "      <th>13</th>\n",
       "      <td>166</td>\n",
       "      <td>10</td>\n",
       "    </tr>\n",
       "  </tbody>\n",
       "</table>\n",
       "</div>"
      ],
      "text/plain": [
       "    Minutes  Units\n",
       "0        23      1\n",
       "1        29      2\n",
       "2        49      3\n",
       "3        64      4\n",
       "4        74      4\n",
       "5        87      5\n",
       "6        96      6\n",
       "7        97      6\n",
       "8       109      7\n",
       "9       119      8\n",
       "10      149      9\n",
       "11      145      9\n",
       "12      154     10\n",
       "13      166     10"
      ]
     },
     "execution_count": 3,
     "metadata": {},
     "output_type": "execute_result"
    }
   ],
   "source": [
    "# Importing the data \n",
    "import os\n",
    "import pandas as pd\n",
    "\n",
    "os.chdir(\"F:\\\\STAT\\\\UP University\\\\STK 353\\\\Codes\")\n",
    "\n",
    "laptop_repair = pd.read_csv(\"laptop_repair.txt\", sep=\" \")\n",
    "laptop_repair"
   ]
  },
  {
   "cell_type": "code",
   "execution_count": 4,
   "id": "35a707b6-66fb-4e35-8aa6-cdd76a451799",
   "metadata": {},
   "outputs": [],
   "source": [
    "# Defining the response and the predictor variables\n",
    "\n",
    "y = laptop_repair.Minutes\n",
    "x = laptop_repair.Units.values.reshape(-1, 1) \n",
    "\n",
    "# In linear regression, the reshape(-1, 1) operation is used for the predictors only but not for the target variable\n",
    "# This is because the target variable is typically expected to be a 1-dimensional array or a vector.\n",
    "# The reshape(-1, 1) operation is used to convert a 1-dimensional array into a 2-dimensional array with a single column.\n",
    "# For scikit-learn's linear regression model, the predictors (X) are expected to be a 2-dimensional array,\n",
    "# where each row represents a sample and each column represents a feature."
   ]
  },
  {
   "cell_type": "code",
   "execution_count": 5,
   "id": "1f460ce0-c395-4e88-ba08-5c6a67c45c33",
   "metadata": {},
   "outputs": [
    {
     "data": {
      "image/png": "[encoded data removed]",
      "text/plain": [
       "<Figure size 600x400 with 1 Axes>"
      ]
     },
     "metadata": {},
     "output_type": "display_data"
    }
   ],
   "source": [
    "# Inpection of the data using the scatter plot in order to find a potential linear relationship:\n",
    "import matplotlib.pyplot as plt\n",
    "\n",
    "plt.figure(figsize = (6, 4))\n",
    "plt.scatter(x, y, color='blue', label = \"Observed data\")\n",
    "plt.show()"
   ]
  },
  {
   "cell_type": "code",
   "execution_count": 6,
   "id": "daa8f31f-9944-4356-abd5-b009f92bd61a",
   "metadata": {},
   "outputs": [
    {
     "data": {
      "text/html": [
       "<div>\n",
       "<style scoped>\n",
       "    .dataframe tbody tr th:only-of-type {\n",
       "        vertical-align: middle;\n",
       "    }\n",
       "\n",
       "    .dataframe tbody tr th {\n",
       "        vertical-align: top;\n",
       "    }\n",
       "\n",
       "    .dataframe thead th {\n",
       "        text-align: right;\n",
       "    }\n",
       "</style>\n",
       "<table border=\"1\" class=\"dataframe\">\n",
       "  <thead>\n",
       "    <tr style=\"text-align: right;\">\n",
       "      <th></th>\n",
       "      <th>Minutes</th>\n",
       "      <th>Units</th>\n",
       "    </tr>\n",
       "  </thead>\n",
       "  <tbody>\n",
       "    <tr>\n",
       "      <th>Minutes</th>\n",
       "      <td>1.000000</td>\n",
       "      <td>0.993699</td>\n",
       "    </tr>\n",
       "    <tr>\n",
       "      <th>Units</th>\n",
       "      <td>0.993699</td>\n",
       "      <td>1.000000</td>\n",
       "    </tr>\n",
       "  </tbody>\n",
       "</table>\n",
       "</div>"
      ],
      "text/plain": [
       "          Minutes     Units\n",
       "Minutes  1.000000  0.993699\n",
       "Units    0.993699  1.000000"
      ]
     },
     "execution_count": 6,
     "metadata": {},
     "output_type": "execute_result"
    }
   ],
   "source": [
    "# To ensure that the linear relationship exists:\n",
    "laptop_repair.corr()"
   ]
  },
  {
   "cell_type": "code",
   "execution_count": 7,
   "id": "a047ad99-b5fd-43d8-b261-9335daee322b",
   "metadata": {},
   "outputs": [
    {
     "data": {
      "text/plain": [
       "(array([15.50877193]), 4.161654135338296)"
      ]
     },
     "execution_count": 7,
     "metadata": {},
     "output_type": "execute_result"
    }
   ],
   "source": [
    "# Fitting the linear regression model:\n",
    "\n",
    "from sklearn.linear_model import LinearRegression\n",
    "\n",
    "model = LinearRegression().fit(x, y)\n",
    "model.coef_, model.intercept_"
   ]
  },
  {
   "cell_type": "code",
   "execution_count": 8,
   "id": "0f8bf2af-62a0-4be0-ad76-d98e17cf5144",
   "metadata": {},
   "outputs": [
    {
     "data": {
      "image/png": "[encoded data removed]",
      "text/plain": [
       "<Figure size 600x400 with 1 Axes>"
      ]
     },
     "metadata": {},
     "output_type": "display_data"
    }
   ],
   "source": [
    "# Plot the data points and the regression line together\n",
    "plt.figure(figsize = (6, 4))\n",
    "plt.scatter(x, y, color='blue', label='Data')\n",
    "plt.plot(x, model.predict(x), color='red', label='Linear Regression')\n",
    "plt.xlabel('Units')\n",
    "plt.ylabel('Minutes')\n",
    "plt.legend()\n",
    "plt.show()"
   ]
  },
  {
   "cell_type": "code",
   "execution_count": 9,
   "id": "8cd9429b-d783-447c-8224-a1daf26a9550",
   "metadata": {},
   "outputs": [
    {
     "data": {
      "text/html": [
       "<div>\n",
       "<style scoped>\n",
       "    .dataframe tbody tr th:only-of-type {\n",
       "        vertical-align: middle;\n",
       "    }\n",
       "\n",
       "    .dataframe tbody tr th {\n",
       "        vertical-align: top;\n",
       "    }\n",
       "\n",
       "    .dataframe thead th {\n",
       "        text-align: right;\n",
       "    }\n",
       "</style>\n",
       "<table border=\"1\" class=\"dataframe\">\n",
       "  <thead>\n",
       "    <tr style=\"text-align: right;\">\n",
       "      <th></th>\n",
       "      <th>Minutes</th>\n",
       "      <th>Units</th>\n",
       "      <th>Y_pred</th>\n",
       "    </tr>\n",
       "  </thead>\n",
       "  <tbody>\n",
       "    <tr>\n",
       "      <th>0</th>\n",
       "      <td>23</td>\n",
       "      <td>1</td>\n",
       "      <td>19.670426</td>\n",
       "    </tr>\n",
       "    <tr>\n",
       "      <th>1</th>\n",
       "      <td>29</td>\n",
       "      <td>2</td>\n",
       "      <td>35.179198</td>\n",
       "    </tr>\n",
       "    <tr>\n",
       "      <th>2</th>\n",
       "      <td>49</td>\n",
       "      <td>3</td>\n",
       "      <td>50.687970</td>\n",
       "    </tr>\n",
       "    <tr>\n",
       "      <th>3</th>\n",
       "      <td>64</td>\n",
       "      <td>4</td>\n",
       "      <td>66.196742</td>\n",
       "    </tr>\n",
       "    <tr>\n",
       "      <th>4</th>\n",
       "      <td>74</td>\n",
       "      <td>4</td>\n",
       "      <td>66.196742</td>\n",
       "    </tr>\n",
       "    <tr>\n",
       "      <th>5</th>\n",
       "      <td>87</td>\n",
       "      <td>5</td>\n",
       "      <td>81.705514</td>\n",
       "    </tr>\n",
       "    <tr>\n",
       "      <th>6</th>\n",
       "      <td>96</td>\n",
       "      <td>6</td>\n",
       "      <td>97.214286</td>\n",
       "    </tr>\n",
       "    <tr>\n",
       "      <th>7</th>\n",
       "      <td>97</td>\n",
       "      <td>6</td>\n",
       "      <td>97.214286</td>\n",
       "    </tr>\n",
       "    <tr>\n",
       "      <th>8</th>\n",
       "      <td>109</td>\n",
       "      <td>7</td>\n",
       "      <td>112.723058</td>\n",
       "    </tr>\n",
       "    <tr>\n",
       "      <th>9</th>\n",
       "      <td>119</td>\n",
       "      <td>8</td>\n",
       "      <td>128.231830</td>\n",
       "    </tr>\n",
       "    <tr>\n",
       "      <th>10</th>\n",
       "      <td>149</td>\n",
       "      <td>9</td>\n",
       "      <td>143.740602</td>\n",
       "    </tr>\n",
       "    <tr>\n",
       "      <th>11</th>\n",
       "      <td>145</td>\n",
       "      <td>9</td>\n",
       "      <td>143.740602</td>\n",
       "    </tr>\n",
       "    <tr>\n",
       "      <th>12</th>\n",
       "      <td>154</td>\n",
       "      <td>10</td>\n",
       "      <td>159.249373</td>\n",
       "    </tr>\n",
       "    <tr>\n",
       "      <th>13</th>\n",
       "      <td>166</td>\n",
       "      <td>10</td>\n",
       "      <td>159.249373</td>\n",
       "    </tr>\n",
       "  </tbody>\n",
       "</table>\n",
       "</div>"
      ],
      "text/plain": [
       "    Minutes  Units      Y_pred\n",
       "0        23      1   19.670426\n",
       "1        29      2   35.179198\n",
       "2        49      3   50.687970\n",
       "3        64      4   66.196742\n",
       "4        74      4   66.196742\n",
       "5        87      5   81.705514\n",
       "6        96      6   97.214286\n",
       "7        97      6   97.214286\n",
       "8       109      7  112.723058\n",
       "9       119      8  128.231830\n",
       "10      149      9  143.740602\n",
       "11      145      9  143.740602\n",
       "12      154     10  159.249373\n",
       "13      166     10  159.249373"
      ]
     },
     "execution_count": 9,
     "metadata": {},
     "output_type": "execute_result"
    }
   ],
   "source": [
    "# Model evaluation: here we evaluate the model based on the entire data points. In the next example, \n",
    "# we will use the test data instead.\n",
    "\n",
    "y_pred = model.predict(x)\n",
    "#r2 = r2_score(y_test, y_pred)\n",
    "laptop_repair[\"Y_pred\"] = y_pred\n",
    "laptop_repair"
   ]
  },
  {
   "cell_type": "code",
   "execution_count": 10,
   "id": "b771ab06-ef99-49f5-b26c-3d96e77a7fcf",
   "metadata": {},
   "outputs": [
    {
     "data": {
      "text/plain": [
       "0.9874371980620736"
      ]
     },
     "execution_count": 10,
     "metadata": {},
     "output_type": "execute_result"
    }
   ],
   "source": [
    "# Using the R_Squared:\n",
    "from sklearn.metrics import r2_score\n",
    "r2_score(y, y_pred)"
   ]
  },
  {
   "cell_type": "code",
   "execution_count": 11,
   "id": "63cad06c-98af-474a-a092-393cbda807d0",
   "metadata": {},
   "outputs": [
    {
     "ename": "NameError",
     "evalue": "name 'np' is not defined",
     "output_type": "error",
     "traceback": [
      "\u001b[1;31m---------------------------------------------------------------------------\u001b[0m",
      "\u001b[1;31mNameError\u001b[0m                                 Traceback (most recent call last)",
      "Cell \u001b[1;32mIn[11], line 2\u001b[0m\n\u001b[0;32m      1\u001b[0m \u001b[38;5;66;03m# Using the trained model to predict a new observation:\u001b[39;00m\n\u001b[1;32m----> 2\u001b[0m x_new \u001b[38;5;241m=\u001b[39m \u001b[43mnp\u001b[49m\u001b[38;5;241m.\u001b[39marray([\u001b[38;5;241m13\u001b[39m, \u001b[38;5;241m15\u001b[39m, \u001b[38;5;241m20\u001b[39m])\n\u001b[0;32m      3\u001b[0m model\u001b[38;5;241m.\u001b[39mpredict(x_new\u001b[38;5;241m.\u001b[39mreshape(\u001b[38;5;241m-\u001b[39m\u001b[38;5;241m1\u001b[39m, \u001b[38;5;241m1\u001b[39m))\n",
      "\u001b[1;31mNameError\u001b[0m: name 'np' is not defined"
     ]
    }
   ],
   "source": [
    "# Using the trained model to predict a new observation:\n",
    "x_new = np.array([13, 15, 20])\n",
    "model.predict(x_new.reshape(-1, 1))"
   ]
  },
  {
   "cell_type": "markdown",
   "id": "21d54e30-b7c8-4c5f-9a69-8c4758aa86a2",
   "metadata": {},
   "source": [
    "### Example 2 (ais data)\n",
    "The ais data set contains some information on the 102 male and 100 female athletes collected at the Australian Institute of Sport. The variables included are as follows:\n",
    "\n",
    "- [,1]\t`sex`:   categorical, levels: female, male\n",
    "- [,2]  `sport`:  categorical, levels: B_Ball, Field, Gym, Netball, Row, Swim, T_400m, Tennis, T_Sprnt, W_Polo\n",
    "- [,3]\t`RCC`:\tred cell count (numeric)\n",
    "- [,4]\t`WCC`:\twhite cell count (numeric)\n",
    "- [,5]\t`Hc`:\tHematocrit (numeric)\n",
    "- [,6]\t`Hg`:\tHemoglobin (numeric)\n",
    "- [,7]\t`Fe`:\tplasma ferritin concentration (numeric)\n",
    "- [,8]\t`BMI`:\tbody mass index, weight/(height)^2 (numeric)\n",
    "- [,9]\t`SSF`:\tsum of skin folds (numeric)\n",
    "- [,10]\t`Bfat`:\tbody fat percentage (numeric)\n",
    "- [,11]\t`LBM`:\tlean body mass (numeric)\n",
    "- [,12]\t`Ht`:\theight, cm (numeric)\n",
    "- [,13]\t`Wt`:\tweight, kg (numeric)\n",
    "\n",
    "Fit a linear regression model considering `LBM` as the response variable and `Ht` as the explanatory variable."
   ]
  },
  {
   "cell_type": "code",
   "execution_count": 1,
   "id": "d4efde5e-be43-438c-9ccd-6c312b42e7a0",
   "metadata": {},
   "outputs": [
    {
     "data": {
      "text/html": [
       "<div>\n",
       "<style scoped>\n",
       "    .dataframe tbody tr th:only-of-type {\n",
       "        vertical-align: middle;\n",
       "    }\n",
       "\n",
       "    .dataframe tbody tr th {\n",
       "        vertical-align: top;\n",
       "    }\n",
       "\n",
       "    .dataframe thead th {\n",
       "        text-align: right;\n",
       "    }\n",
       "</style>\n",
       "<table border=\"1\" class=\"dataframe\">\n",
       "  <thead>\n",
       "    <tr style=\"text-align: right;\">\n",
       "      <th></th>\n",
       "      <th>sex</th>\n",
       "      <th>sport</th>\n",
       "      <th>RCC</th>\n",
       "      <th>WCC</th>\n",
       "      <th>Hc</th>\n",
       "      <th>Hg</th>\n",
       "      <th>Fe</th>\n",
       "      <th>BMI</th>\n",
       "      <th>SSF</th>\n",
       "      <th>Bfat</th>\n",
       "      <th>LBM</th>\n",
       "      <th>Ht</th>\n",
       "      <th>Wt</th>\n",
       "    </tr>\n",
       "  </thead>\n",
       "  <tbody>\n",
       "    <tr>\n",
       "      <th>0</th>\n",
       "      <td>female</td>\n",
       "      <td>B_Ball</td>\n",
       "      <td>3.96</td>\n",
       "      <td>7.5</td>\n",
       "      <td>37.5</td>\n",
       "      <td>12.3</td>\n",
       "      <td>60</td>\n",
       "      <td>20.56</td>\n",
       "      <td>109.1</td>\n",
       "      <td>19.75</td>\n",
       "      <td>63.32</td>\n",
       "      <td>195.9</td>\n",
       "      <td>78.9</td>\n",
       "    </tr>\n",
       "    <tr>\n",
       "      <th>1</th>\n",
       "      <td>female</td>\n",
       "      <td>B_Ball</td>\n",
       "      <td>4.41</td>\n",
       "      <td>8.3</td>\n",
       "      <td>38.2</td>\n",
       "      <td>12.7</td>\n",
       "      <td>68</td>\n",
       "      <td>20.67</td>\n",
       "      <td>102.8</td>\n",
       "      <td>21.30</td>\n",
       "      <td>58.55</td>\n",
       "      <td>189.7</td>\n",
       "      <td>74.4</td>\n",
       "    </tr>\n",
       "    <tr>\n",
       "      <th>2</th>\n",
       "      <td>female</td>\n",
       "      <td>B_Ball</td>\n",
       "      <td>4.14</td>\n",
       "      <td>5.0</td>\n",
       "      <td>36.4</td>\n",
       "      <td>11.6</td>\n",
       "      <td>21</td>\n",
       "      <td>21.86</td>\n",
       "      <td>104.6</td>\n",
       "      <td>19.88</td>\n",
       "      <td>55.36</td>\n",
       "      <td>177.8</td>\n",
       "      <td>69.1</td>\n",
       "    </tr>\n",
       "    <tr>\n",
       "      <th>3</th>\n",
       "      <td>female</td>\n",
       "      <td>B_Ball</td>\n",
       "      <td>4.11</td>\n",
       "      <td>5.3</td>\n",
       "      <td>37.3</td>\n",
       "      <td>12.6</td>\n",
       "      <td>69</td>\n",
       "      <td>21.88</td>\n",
       "      <td>126.4</td>\n",
       "      <td>23.66</td>\n",
       "      <td>57.18</td>\n",
       "      <td>185.0</td>\n",
       "      <td>74.9</td>\n",
       "    </tr>\n",
       "    <tr>\n",
       "      <th>4</th>\n",
       "      <td>female</td>\n",
       "      <td>B_Ball</td>\n",
       "      <td>4.45</td>\n",
       "      <td>6.8</td>\n",
       "      <td>41.5</td>\n",
       "      <td>14.0</td>\n",
       "      <td>29</td>\n",
       "      <td>18.96</td>\n",
       "      <td>80.3</td>\n",
       "      <td>17.64</td>\n",
       "      <td>53.20</td>\n",
       "      <td>184.6</td>\n",
       "      <td>64.6</td>\n",
       "    </tr>\n",
       "    <tr>\n",
       "      <th>...</th>\n",
       "      <td>...</td>\n",
       "      <td>...</td>\n",
       "      <td>...</td>\n",
       "      <td>...</td>\n",
       "      <td>...</td>\n",
       "      <td>...</td>\n",
       "      <td>...</td>\n",
       "      <td>...</td>\n",
       "      <td>...</td>\n",
       "      <td>...</td>\n",
       "      <td>...</td>\n",
       "      <td>...</td>\n",
       "      <td>...</td>\n",
       "    </tr>\n",
       "    <tr>\n",
       "      <th>197</th>\n",
       "      <td>male</td>\n",
       "      <td>W_Polo</td>\n",
       "      <td>4.90</td>\n",
       "      <td>7.6</td>\n",
       "      <td>45.6</td>\n",
       "      <td>16.0</td>\n",
       "      <td>90</td>\n",
       "      <td>27.56</td>\n",
       "      <td>67.2</td>\n",
       "      <td>11.79</td>\n",
       "      <td>82.00</td>\n",
       "      <td>183.9</td>\n",
       "      <td>93.2</td>\n",
       "    </tr>\n",
       "    <tr>\n",
       "      <th>198</th>\n",
       "      <td>male</td>\n",
       "      <td>Tennis</td>\n",
       "      <td>5.66</td>\n",
       "      <td>8.3</td>\n",
       "      <td>50.2</td>\n",
       "      <td>17.7</td>\n",
       "      <td>38</td>\n",
       "      <td>23.76</td>\n",
       "      <td>56.5</td>\n",
       "      <td>10.05</td>\n",
       "      <td>72.00</td>\n",
       "      <td>183.5</td>\n",
       "      <td>80.0</td>\n",
       "    </tr>\n",
       "    <tr>\n",
       "      <th>199</th>\n",
       "      <td>male</td>\n",
       "      <td>Tennis</td>\n",
       "      <td>5.03</td>\n",
       "      <td>6.4</td>\n",
       "      <td>42.7</td>\n",
       "      <td>14.3</td>\n",
       "      <td>122</td>\n",
       "      <td>22.01</td>\n",
       "      <td>47.6</td>\n",
       "      <td>8.51</td>\n",
       "      <td>68.00</td>\n",
       "      <td>183.1</td>\n",
       "      <td>73.8</td>\n",
       "    </tr>\n",
       "    <tr>\n",
       "      <th>200</th>\n",
       "      <td>male</td>\n",
       "      <td>Tennis</td>\n",
       "      <td>4.97</td>\n",
       "      <td>8.8</td>\n",
       "      <td>43.0</td>\n",
       "      <td>14.9</td>\n",
       "      <td>233</td>\n",
       "      <td>22.34</td>\n",
       "      <td>60.4</td>\n",
       "      <td>11.50</td>\n",
       "      <td>63.00</td>\n",
       "      <td>178.4</td>\n",
       "      <td>71.1</td>\n",
       "    </tr>\n",
       "    <tr>\n",
       "      <th>201</th>\n",
       "      <td>male</td>\n",
       "      <td>Tennis</td>\n",
       "      <td>5.38</td>\n",
       "      <td>6.3</td>\n",
       "      <td>46.0</td>\n",
       "      <td>15.7</td>\n",
       "      <td>32</td>\n",
       "      <td>21.07</td>\n",
       "      <td>34.9</td>\n",
       "      <td>6.26</td>\n",
       "      <td>72.00</td>\n",
       "      <td>190.8</td>\n",
       "      <td>76.7</td>\n",
       "    </tr>\n",
       "  </tbody>\n",
       "</table>\n",
       "<p>202 rows × 13 columns</p>\n",
       "</div>"
      ],
      "text/plain": [
       "        sex   sport   RCC  WCC    Hc    Hg   Fe    BMI    SSF   Bfat    LBM  \\\n",
       "0    female  B_Ball  3.96  7.5  37.5  12.3   60  20.56  109.1  19.75  63.32   \n",
       "1    female  B_Ball  4.41  8.3  38.2  12.7   68  20.67  102.8  21.30  58.55   \n",
       "2    female  B_Ball  4.14  5.0  36.4  11.6   21  21.86  104.6  19.88  55.36   \n",
       "3    female  B_Ball  4.11  5.3  37.3  12.6   69  21.88  126.4  23.66  57.18   \n",
       "4    female  B_Ball  4.45  6.8  41.5  14.0   29  18.96   80.3  17.64  53.20   \n",
       "..      ...     ...   ...  ...   ...   ...  ...    ...    ...    ...    ...   \n",
       "197    male  W_Polo  4.90  7.6  45.6  16.0   90  27.56   67.2  11.79  82.00   \n",
       "198    male  Tennis  5.66  8.3  50.2  17.7   38  23.76   56.5  10.05  72.00   \n",
       "199    male  Tennis  5.03  6.4  42.7  14.3  122  22.01   47.6   8.51  68.00   \n",
       "200    male  Tennis  4.97  8.8  43.0  14.9  233  22.34   60.4  11.50  63.00   \n",
       "201    male  Tennis  5.38  6.3  46.0  15.7   32  21.07   34.9   6.26  72.00   \n",
       "\n",
       "        Ht    Wt  \n",
       "0    195.9  78.9  \n",
       "1    189.7  74.4  \n",
       "2    177.8  69.1  \n",
       "3    185.0  74.9  \n",
       "4    184.6  64.6  \n",
       "..     ...   ...  \n",
       "197  183.9  93.2  \n",
       "198  183.5  80.0  \n",
       "199  183.1  73.8  \n",
       "200  178.4  71.1  \n",
       "201  190.8  76.7  \n",
       "\n",
       "[202 rows x 13 columns]"
      ]
     },
     "execution_count": 1,
     "metadata": {},
     "output_type": "execute_result"
    }
   ],
   "source": [
    "import pandas as pd\n",
    "ais = pd.read_csv(\"ais.txt\", sep = \" \")\n",
    "del ais[\"ID\"]\n",
    "ais"
   ]
  },
  {
   "cell_type": "code",
   "execution_count": 76,
   "id": "36ab1f0c-7056-4d80-8b0a-bcff74848782",
   "metadata": {},
   "outputs": [
    {
     "data": {
      "image/png": "[encoded data removed]",
      "text/plain": [
       "<Figure size 600x400 with 1 Axes>"
      ]
     },
     "metadata": {},
     "output_type": "display_data"
    }
   ],
   "source": [
    "x = ais.Ht.values.reshape(-1, 1)\n",
    "y = ais.LBM\n",
    "\n",
    "import matplotlib.pyplot as plt\n",
    "plt.figure(figsize = (6, 4))\n",
    "plt.scatter(x, y)\n",
    "plt.xlabel('Height')\n",
    "plt.ylabel('LBM')\n",
    "plt.xlabel('Height')\n",
    "plt.show()"
   ]
  },
  {
   "cell_type": "code",
   "execution_count": 77,
   "id": "d104c164-aa61-4f5c-84e6-02a95d1fbf51",
   "metadata": {},
   "outputs": [
    {
     "data": {
      "text/plain": [
       "(array([1.05408]), -124.7650688122474)"
      ]
     },
     "execution_count": 77,
     "metadata": {},
     "output_type": "execute_result"
    }
   ],
   "source": [
    "# Splitting the data into train and test:\n",
    "\n",
    "import numpy as np # we need the np.random \n",
    "\n",
    "n = len(y)\n",
    "np.random.seed(12345) # setting the seed to get the same results for different executions of the code.\n",
    "i = np.random.choice(y.index, size = n, replace = False) # This will be used to make a new permutation for the entire data points.\n",
    "\n",
    "n_train = 140  # 140 ~= 0.7 * 202\n",
    "\n",
    "# First we need a new permutation for the entire data points using y[i] and x[i]. Then, we split them:\n",
    "y_train = y[i][:n_train] \n",
    "x_train = x[i][:n_train]\n",
    "\n",
    "y_test = y[i][n_train:]\n",
    "x_test = x[i][n_train:]\n",
    "\n",
    "\n",
    "from sklearn.linear_model import LinearRegression\n",
    "\n",
    "# Fitting the regression model on the train data\n",
    "\n",
    "model = LinearRegression().fit(x_train, y_train)\n",
    "model.coef_, model.intercept_"
   ]
  },
  {
   "cell_type": "code",
   "execution_count": 78,
   "id": "2efee0bc-6b73-49f7-b055-8620429df90b",
   "metadata": {},
   "outputs": [
    {
     "data": {
      "image/png": "[encoded data removed]",
      "text/plain": [
       "<Figure size 600x400 with 1 Axes>"
      ]
     },
     "metadata": {},
     "output_type": "display_data"
    }
   ],
   "source": [
    "plt.figure(figsize = (6, 4))\n",
    "plt.scatter(x, y, label = \"Data observed\")\n",
    "plt.plot(x, model.predict(x), color = 'red', label = \"fitted regression line\")\n",
    "plt.xlabel('Height')\n",
    "plt.ylabel(\"LBM\")\n",
    "plt.legend()\n",
    "plt.show()"
   ]
  },
  {
   "cell_type": "code",
   "execution_count": 79,
   "id": "52876d68-11db-4bf5-8fce-379246f7c55b",
   "metadata": {},
   "outputs": [
    {
     "data": {
      "text/plain": [
       "0.6511169294306844"
      ]
     },
     "execution_count": 79,
     "metadata": {},
     "output_type": "execute_result"
    }
   ],
   "source": [
    "# Evaluation of the models based on the test data points which are not already used for training the model:\n",
    "\n",
    "# Performance metric chosen: The coefficient of determination or R_Squared as the proportion of \n",
    "# the total variability in the response variable Y  that is accounted for by the predictor variable(s)\n",
    "# It ranges from 0 to 1 and larger values correspond to better regression models.\n",
    "\n",
    "from sklearn.metrics import r2_score\n",
    "y_pred = model.predict(x_test)\n",
    "r2_score(y_test, y_pred)\n"
   ]
  },
  {
   "cell_type": "code",
   "execution_count": 83,
   "id": "d7a75aa8-a47d-4f1f-9dc0-e642389f2f35",
   "metadata": {},
   "outputs": [
    {
     "data": {
      "text/plain": [
       "(60.51477879507607, 61.14688299538463)"
      ]
     },
     "execution_count": 83,
     "metadata": {},
     "output_type": "execute_result"
    }
   ],
   "source": [
    "# Checking whether the model has a good fit or not: \n",
    "# To this end, we need to evaluate the model based on both of the train and the test\n",
    "\n",
    "from sklearn.metrics import r2_score, mean_squared_error, mean_absolute_error\n",
    "\n",
    "mean_squared_error(y_train, model.predict(x_train)), mean_squared_error(y_test, model.predict(x_test))"
   ]
  },
  {
   "cell_type": "code",
   "execution_count": 85,
   "id": "ef9b449b-c51a-4130-9788-5179f6864d1e",
   "metadata": {},
   "outputs": [
    {
     "data": {
      "text/plain": [
       "(6.070411158513666, 5.72107836241579)"
      ]
     },
     "execution_count": 85,
     "metadata": {},
     "output_type": "execute_result"
    }
   ],
   "source": [
    "mean_absolute_error(y_train, model.predict(x_train)), mean_absolute_error(y_test, model.predict(x_test))"
   ]
  },
  {
   "cell_type": "code",
   "execution_count": 84,
   "id": "d5258d75-82fa-4e45-aee0-c4c51e81d8bd",
   "metadata": {},
   "outputs": [
    {
     "data": {
      "text/plain": [
       "(0.6389849685160451, 0.6511169294306844)"
      ]
     },
     "execution_count": 84,
     "metadata": {},
     "output_type": "execute_result"
    }
   ],
   "source": [
    "r2_score(y_train, model.predict(x_train)), r2_score(y_test, model.predict(x_test))"
   ]
  },
  {
   "cell_type": "markdown",
   "id": "be9dbb4e-4db5-4326-94d4-5a28a322413b",
   "metadata": {},
   "source": [
    "## Multiple linear regression model\n",
    "\n",
    "### Example 3 (ais data once again!)\n",
    "Now, we are going to fit a multiple linear regression model based on all of the explanatory variables except `sex` and `sport` which are categorical.\n"
   ]
  },
  {
   "cell_type": "code",
   "execution_count": 2,
   "id": "a2d83a69-9c33-455a-bb6d-117a14963c91",
   "metadata": {},
   "outputs": [
    {
     "data": {
      "text/plain": [
       "(2.674373746428998,\n",
       " array([ 4.48454832e-02,  8.56384419e-01,  3.05033704e-01,  1.14655167e-01,\n",
       "        -9.44968801e-04, -7.36999903e-02, -3.65796914e-04, -1.63397591e-02,\n",
       "        -6.52301954e-01]))"
      ]
     },
     "execution_count": 2,
     "metadata": {},
     "output_type": "execute_result"
    }
   ],
   "source": [
    "# Note that besides sex and sport, we should also remove BMI variable, \n",
    "# since it is a clear funcation of Ht and Wt\n",
    "\n",
    "X = ais[[\"Ht\", \"Wt\", \"RCC\", \"Hg\", \"WCC\", \"Hc\", \"Fe\", \"SSF\",\t\"Bfat\"]]\n",
    "y = ais.LBM\n",
    "\n",
    "import numpy as np\n",
    "\n",
    "np.random.seed(12345)\n",
    "i = np.random.choice(y.index, size = len(y), replace = True)\n",
    "\n",
    "n_train = 140\n",
    "\n",
    "X_train = X.loc[i][:n_train]\n",
    "y_train = y.loc[i][:n_train]\n",
    "\n",
    "X_test = X.loc[i][n_train:]\n",
    "y_test = y.loc[i][n_train:]\n",
    "\n",
    "\n",
    "from sklearn.linear_model import LinearRegression\n",
    "\n",
    "model = LinearRegression().fit(X_train, y_train)\n",
    "model.intercept_, model.coef_"
   ]
  },
  {
   "cell_type": "code",
   "execution_count": 9,
   "id": "c18a6637-f4e2-4783-a966-f68953e742db",
   "metadata": {},
   "outputs": [
    {
     "data": {
      "text/plain": [
       "0.9977519755094116"
      ]
     },
     "execution_count": 9,
     "metadata": {},
     "output_type": "execute_result"
    }
   ],
   "source": [
    "# The performance?\n",
    "\n",
    "from sklearn.metrics import r2_score\n",
    "\n",
    "y_pred = model.predict(X_test)\n",
    "r2 = r2_score(y_test, y_pred)\n",
    "r2"
   ]
  },
  {
   "cell_type": "code",
   "execution_count": 5,
   "id": "fb28d1b8-588c-4ccc-8494-ad657f239ddb",
   "metadata": {},
   "outputs": [
    {
     "data": {
      "text/plain": [
       "(0.3008650058194582, 0.32375013709877554)"
      ]
     },
     "execution_count": 5,
     "metadata": {},
     "output_type": "execute_result"
    }
   ],
   "source": [
    "# Is it a good fit/overfit/underfit?\n",
    "\n",
    "from sklearn.metrics import r2_score, mean_squared_error, mean_absolute_error\n",
    "\n",
    "mean_squared_error(y_train, model.predict(X_train)), mean_squared_error(y_test, model.predict(X_test))"
   ]
  },
  {
   "cell_type": "code",
   "execution_count": 6,
   "id": "bf9df662-a001-460a-9f49-aaea7890c6db",
   "metadata": {},
   "outputs": [
    {
     "data": {
      "text/plain": [
       "(0.44610794512976987, 0.4526134277860264)"
      ]
     },
     "execution_count": 6,
     "metadata": {},
     "output_type": "execute_result"
    }
   ],
   "source": [
    "mean_absolute_error(y_train, model.predict(X_train)), mean_absolute_error(y_test, model.predict(X_test))"
   ]
  },
  {
   "cell_type": "code",
   "execution_count": 10,
   "id": "effe06a4-dde9-413b-8122-8a082a3ff3a9",
   "metadata": {},
   "outputs": [
    {
     "name": "stdout",
     "output_type": "stream",
     "text": [
      "The metrics do not differ from one another significantly\n",
      "The r2_score is 0.9977519755094116\n"
     ]
    }
   ],
   "source": [
    "r2r2_score(y_train, model.predict(X_train)), r2_score(y_test, model.predict(X_test))\n",
    "print(\"The metrics do not differ from one another significantly\")\n",
    "print(\"The r2_score is\", r2)"
   ]
  },
  {
   "cell_type": "code",
   "execution_count": 67,
   "id": "684c165a-aaac-44a2-9044-e1845f538604",
   "metadata": {},
   "outputs": [
    {
     "data": {
      "text/html": [
       "<table class=\"simpletable\">\n",
       "<caption>OLS Regression Results</caption>\n",
       "<tr>\n",
       "  <th>Dep. Variable:</th>           <td>LBM</td>       <th>  R-squared (uncentered):</th>      <td>   1.000</td> \n",
       "</tr>\n",
       "<tr>\n",
       "  <th>Model:</th>                   <td>OLS</td>       <th>  Adj. R-squared (uncentered):</th> <td>   1.000</td> \n",
       "</tr>\n",
       "<tr>\n",
       "  <th>Method:</th>             <td>Least Squares</td>  <th>  F-statistic:       </th>          <td>2.037e+05</td>\n",
       "</tr>\n",
       "<tr>\n",
       "  <th>Date:</th>             <td>Wed, 11 Oct 2023</td> <th>  Prob (F-statistic):</th>          <td>6.03e-267</td>\n",
       "</tr>\n",
       "<tr>\n",
       "  <th>Time:</th>                 <td>10:24:37</td>     <th>  Log-Likelihood:    </th>          <td> -116.14</td> \n",
       "</tr>\n",
       "<tr>\n",
       "  <th>No. Observations:</th>      <td>   140</td>      <th>  AIC:               </th>          <td>   250.3</td> \n",
       "</tr>\n",
       "<tr>\n",
       "  <th>Df Residuals:</th>          <td>   131</td>      <th>  BIC:               </th>          <td>   276.8</td> \n",
       "</tr>\n",
       "<tr>\n",
       "  <th>Df Model:</th>              <td>     9</td>      <th>                     </th>              <td> </td>    \n",
       "</tr>\n",
       "<tr>\n",
       "  <th>Covariance Type:</th>      <td>nonrobust</td>    <th>                     </th>              <td> </td>    \n",
       "</tr>\n",
       "</table>\n",
       "<table class=\"simpletable\">\n",
       "<tr>\n",
       "    <td></td>      <th>coef</th>     <th>std err</th>      <th>t</th>      <th>P>|t|</th>  <th>[0.025</th>    <th>0.975]</th>  \n",
       "</tr>\n",
       "<tr>\n",
       "  <th>Ht</th>   <td>    0.0586</td> <td>    0.005</td> <td>   11.841</td> <td> 0.000</td> <td>    0.049</td> <td>    0.068</td>\n",
       "</tr>\n",
       "<tr>\n",
       "  <th>Wt</th>   <td>    0.8468</td> <td>    0.006</td> <td>  133.462</td> <td> 0.000</td> <td>    0.834</td> <td>    0.859</td>\n",
       "</tr>\n",
       "<tr>\n",
       "  <th>RCC</th>  <td>    0.2501</td> <td>    0.288</td> <td>    0.867</td> <td> 0.387</td> <td>   -0.320</td> <td>    0.820</td>\n",
       "</tr>\n",
       "<tr>\n",
       "  <th>Hg</th>   <td>    0.1823</td> <td>    0.150</td> <td>    1.218</td> <td> 0.225</td> <td>   -0.114</td> <td>    0.478</td>\n",
       "</tr>\n",
       "<tr>\n",
       "  <th>WCC</th>  <td>    0.0025</td> <td>    0.035</td> <td>    0.071</td> <td> 0.943</td> <td>   -0.067</td> <td>    0.072</td>\n",
       "</tr>\n",
       "<tr>\n",
       "  <th>Hc</th>   <td>   -0.0734</td> <td>    0.057</td> <td>   -1.296</td> <td> 0.197</td> <td>   -0.185</td> <td>    0.039</td>\n",
       "</tr>\n",
       "<tr>\n",
       "  <th>Fe</th>   <td>   -0.0001</td> <td>    0.001</td> <td>   -0.091</td> <td> 0.927</td> <td>   -0.003</td> <td>    0.002</td>\n",
       "</tr>\n",
       "<tr>\n",
       "  <th>SSF</th>  <td>   -0.0173</td> <td>    0.008</td> <td>   -2.061</td> <td> 0.041</td> <td>   -0.034</td> <td>   -0.001</td>\n",
       "</tr>\n",
       "<tr>\n",
       "  <th>Bfat</th> <td>   -0.6379</td> <td>    0.040</td> <td>  -15.820</td> <td> 0.000</td> <td>   -0.718</td> <td>   -0.558</td>\n",
       "</tr>\n",
       "</table>\n",
       "<table class=\"simpletable\">\n",
       "<tr>\n",
       "  <th>Omnibus:</th>       <td> 0.672</td> <th>  Durbin-Watson:     </th> <td>   2.217</td>\n",
       "</tr>\n",
       "<tr>\n",
       "  <th>Prob(Omnibus):</th> <td> 0.714</td> <th>  Jarque-Bera (JB):  </th> <td>   0.807</td>\n",
       "</tr>\n",
       "<tr>\n",
       "  <th>Skew:</th>          <td>-0.126</td> <th>  Prob(JB):          </th> <td>   0.668</td>\n",
       "</tr>\n",
       "<tr>\n",
       "  <th>Kurtosis:</th>      <td> 2.726</td> <th>  Cond. No.          </th> <td>1.34e+03</td>\n",
       "</tr>\n",
       "</table><br/><br/>Notes:<br/>[1] R² is computed without centering (uncentered) since the model does not contain a constant.<br/>[2] Standard Errors assume that the covariance matrix of the errors is correctly specified.<br/>[3] The condition number is large, 1.34e+03. This might indicate that there are<br/>strong multicollinearity or other numerical problems."
      ],
      "text/latex": [
       "\\begin{center}\n",
       "\\begin{tabular}{lclc}\n",
       "\\toprule\n",
       "\\textbf{Dep. Variable:}    &       LBM        & \\textbf{  R-squared (uncentered):}      &     1.000   \\\\\n",
       "\\textbf{Model:}            &       OLS        & \\textbf{  Adj. R-squared (uncentered):} &     1.000   \\\\\n",
       "\\textbf{Method:}           &  Least Squares   & \\textbf{  F-statistic:       }          & 2.037e+05   \\\\\n",
       "\\textbf{Date:}             & Wed, 11 Oct 2023 & \\textbf{  Prob (F-statistic):}          & 6.03e-267   \\\\\n",
       "\\textbf{Time:}             &     10:24:37     & \\textbf{  Log-Likelihood:    }          &   -116.14   \\\\\n",
       "\\textbf{No. Observations:} &         140      & \\textbf{  AIC:               }          &     250.3   \\\\\n",
       "\\textbf{Df Residuals:}     &         131      & \\textbf{  BIC:               }          &     276.8   \\\\\n",
       "\\textbf{Df Model:}         &           9      & \\textbf{                     }          &             \\\\\n",
       "\\textbf{Covariance Type:}  &    nonrobust     & \\textbf{                     }          &             \\\\\n",
       "\\bottomrule\n",
       "\\end{tabular}\n",
       "\\begin{tabular}{lcccccc}\n",
       "              & \\textbf{coef} & \\textbf{std err} & \\textbf{t} & \\textbf{P$> |$t$|$} & \\textbf{[0.025} & \\textbf{0.975]}  \\\\\n",
       "\\midrule\n",
       "\\textbf{Ht}   &       0.0586  &        0.005     &    11.841  &         0.000        &        0.049    &        0.068     \\\\\n",
       "\\textbf{Wt}   &       0.8468  &        0.006     &   133.462  &         0.000        &        0.834    &        0.859     \\\\\n",
       "\\textbf{RCC}  &       0.2501  &        0.288     &     0.867  &         0.387        &       -0.320    &        0.820     \\\\\n",
       "\\textbf{Hg}   &       0.1823  &        0.150     &     1.218  &         0.225        &       -0.114    &        0.478     \\\\\n",
       "\\textbf{WCC}  &       0.0025  &        0.035     &     0.071  &         0.943        &       -0.067    &        0.072     \\\\\n",
       "\\textbf{Hc}   &      -0.0734  &        0.057     &    -1.296  &         0.197        &       -0.185    &        0.039     \\\\\n",
       "\\textbf{Fe}   &      -0.0001  &        0.001     &    -0.091  &         0.927        &       -0.003    &        0.002     \\\\\n",
       "\\textbf{SSF}  &      -0.0173  &        0.008     &    -2.061  &         0.041        &       -0.034    &       -0.001     \\\\\n",
       "\\textbf{Bfat} &      -0.6379  &        0.040     &   -15.820  &         0.000        &       -0.718    &       -0.558     \\\\\n",
       "\\bottomrule\n",
       "\\end{tabular}\n",
       "\\begin{tabular}{lclc}\n",
       "\\textbf{Omnibus:}       &  0.672 & \\textbf{  Durbin-Watson:     } &    2.217  \\\\\n",
       "\\textbf{Prob(Omnibus):} &  0.714 & \\textbf{  Jarque-Bera (JB):  } &    0.807  \\\\\n",
       "\\textbf{Skew:}          & -0.126 & \\textbf{  Prob(JB):          } &    0.668  \\\\\n",
       "\\textbf{Kurtosis:}      &  2.726 & \\textbf{  Cond. No.          } & 1.34e+03  \\\\\n",
       "\\bottomrule\n",
       "\\end{tabular}\n",
       "%\\caption{OLS Regression Results}\n",
       "\\end{center}\n",
       "\n",
       "Notes: \\newline\n",
       " [1] R² is computed without centering (uncentered) since the model does not contain a constant. \\newline\n",
       " [2] Standard Errors assume that the covariance matrix of the errors is correctly specified. \\newline\n",
       " [3] The condition number is large, 1.34e+03. This might indicate that there are \\newline\n",
       " strong multicollinearity or other numerical problems."
      ],
      "text/plain": [
       "<class 'statsmodels.iolib.summary.Summary'>\n",
       "\"\"\"\n",
       "                                 OLS Regression Results                                \n",
       "=======================================================================================\n",
       "Dep. Variable:                    LBM   R-squared (uncentered):                   1.000\n",
       "Model:                            OLS   Adj. R-squared (uncentered):              1.000\n",
       "Method:                 Least Squares   F-statistic:                          2.037e+05\n",
       "Date:                Wed, 11 Oct 2023   Prob (F-statistic):                   6.03e-267\n",
       "Time:                        10:24:37   Log-Likelihood:                         -116.14\n",
       "No. Observations:                 140   AIC:                                      250.3\n",
       "Df Residuals:                     131   BIC:                                      276.8\n",
       "Df Model:                           9                                                  \n",
       "Covariance Type:            nonrobust                                                  \n",
       "==============================================================================\n",
       "                 coef    std err          t      P>|t|      [0.025      0.975]\n",
       "------------------------------------------------------------------------------\n",
       "Ht             0.0586      0.005     11.841      0.000       0.049       0.068\n",
       "Wt             0.8468      0.006    133.462      0.000       0.834       0.859\n",
       "RCC            0.2501      0.288      0.867      0.387      -0.320       0.820\n",
       "Hg             0.1823      0.150      1.218      0.225      -0.114       0.478\n",
       "WCC            0.0025      0.035      0.071      0.943      -0.067       0.072\n",
       "Hc            -0.0734      0.057     -1.296      0.197      -0.185       0.039\n",
       "Fe            -0.0001      0.001     -0.091      0.927      -0.003       0.002\n",
       "SSF           -0.0173      0.008     -2.061      0.041      -0.034      -0.001\n",
       "Bfat          -0.6379      0.040    -15.820      0.000      -0.718      -0.558\n",
       "==============================================================================\n",
       "Omnibus:                        0.672   Durbin-Watson:                   2.217\n",
       "Prob(Omnibus):                  0.714   Jarque-Bera (JB):                0.807\n",
       "Skew:                          -0.126   Prob(JB):                        0.668\n",
       "Kurtosis:                       2.726   Cond. No.                     1.34e+03\n",
       "==============================================================================\n",
       "\n",
       "Notes:\n",
       "[1] R² is computed without centering (uncentered) since the model does not contain a constant.\n",
       "[2] Standard Errors assume that the covariance matrix of the errors is correctly specified.\n",
       "[3] The condition number is large, 1.34e+03. This might indicate that there are\n",
       "strong multicollinearity or other numerical problems.\n",
       "\"\"\""
      ]
     },
     "execution_count": 67,
     "metadata": {},
     "output_type": "execute_result"
    }
   ],
   "source": [
    "# Variable selection: The sklearn can not directly be used for the variable selection purpose. To this end, we can alternatively do the \n",
    "# regression using the statsmodels.api package as follows: \n",
    "\n",
    "import statsmodels.api as sm\n",
    "model = sm.OLS(y_train, X_train).fit()\n",
    "model.summary()"
   ]
  },
  {
   "cell_type": "code",
   "execution_count": 68,
   "id": "6f6c4ead-a90d-4b98-bb02-0400780d6c1f",
   "metadata": {},
   "outputs": [
    {
     "data": {
      "text/plain": [
       "(2.526755260455637,\n",
       " array([ 0.04468388,  0.85733938, -0.01482241, -0.65962809]))"
      ]
     },
     "execution_count": 68,
     "metadata": {},
     "output_type": "execute_result"
    }
   ],
   "source": [
    "X = ais[[\"Ht\", \"Wt\", \"SSF\",\t\"Bfat\"]]\n",
    "y = ais.LBM\n",
    "\n",
    "import numpy as np\n",
    "\n",
    "np.random.seed(12345)\n",
    "i = np.random.choice(y.index, size = len(y), replace = True)\n",
    "\n",
    "n_train = 140\n",
    "\n",
    "X_train = X.loc[i][:n_train]\n",
    "y_train = y.loc[i][:n_train]\n",
    "\n",
    "X_test = X.loc[i][n_train:]\n",
    "y_test = y.loc[i][n_train:]\n",
    "\n",
    "\n",
    "from sklearn.linear_model import LinearRegression\n",
    "model = LinearRegression().fit(X_train, y_train)\n",
    "model.intercept_, model.coef_"
   ]
  },
  {
   "cell_type": "code",
   "execution_count": 69,
   "id": "29c8bb42-b682-4cf7-8177-748041ea7780",
   "metadata": {},
   "outputs": [
    {
     "data": {
      "text/plain": [
       "(0.9980511300131897, 0.9978218104454646)"
      ]
     },
     "execution_count": 69,
     "metadata": {},
     "output_type": "execute_result"
    }
   ],
   "source": [
    "from sklearn.metrics import r2_score, mean_squared_error, mean_absolute_error\n",
    "\n",
    "r2_score(y_train, model.predict(X_train)), r2_score(y_test, model.predict(X_test))"
   ]
  },
  {
   "cell_type": "code",
   "execution_count": 70,
   "id": "ecb4390b-b662-4862-8a9c-bacf27425ed9",
   "metadata": {},
   "outputs": [
    {
     "data": {
      "text/html": [
       "<div>\n",
       "<style scoped>\n",
       "    .dataframe tbody tr th:only-of-type {\n",
       "        vertical-align: middle;\n",
       "    }\n",
       "\n",
       "    .dataframe tbody tr th {\n",
       "        vertical-align: top;\n",
       "    }\n",
       "\n",
       "    .dataframe thead th {\n",
       "        text-align: right;\n",
       "    }\n",
       "</style>\n",
       "<table border=\"1\" class=\"dataframe\">\n",
       "  <thead>\n",
       "    <tr style=\"text-align: right;\">\n",
       "      <th></th>\n",
       "      <th>Ht</th>\n",
       "      <th>Wt</th>\n",
       "      <th>SSF</th>\n",
       "      <th>Bfat</th>\n",
       "    </tr>\n",
       "  </thead>\n",
       "  <tbody>\n",
       "    <tr>\n",
       "      <th>0</th>\n",
       "      <td>212</td>\n",
       "      <td>100</td>\n",
       "      <td>100</td>\n",
       "      <td>20</td>\n",
       "    </tr>\n",
       "    <tr>\n",
       "      <th>1</th>\n",
       "      <td>180</td>\n",
       "      <td>90</td>\n",
       "      <td>92</td>\n",
       "      <td>17</td>\n",
       "    </tr>\n",
       "  </tbody>\n",
       "</table>\n",
       "</div>"
      ],
      "text/plain": [
       "    Ht   Wt  SSF  Bfat\n",
       "0  212  100  100    20\n",
       "1  180   90   92    17"
      ]
     },
     "execution_count": 70,
     "metadata": {},
     "output_type": "execute_result"
    }
   ],
   "source": [
    "# Prediction of new observations:\n",
    "\n",
    "import pandas as pd\n",
    "\n",
    "X_new = {\"Ht\": [212, 180], \"Wt\": [100, 90], \"SSF\": [100, 92], \"Bfat\": [20, 17]}\n",
    "X_new = pd.DataFrame(X_new)\n",
    "\n",
    "X_new"
   ]
  },
  {
   "cell_type": "code",
   "execution_count": 64,
   "id": "31515ac8-1b2e-435a-9c34-26c81865a436",
   "metadata": {},
   "outputs": [
    {
     "data": {
      "text/plain": [
       "array([83.05887237, 75.15305807])"
      ]
     },
     "execution_count": 64,
     "metadata": {},
     "output_type": "execute_result"
    }
   ],
   "source": [
    "model.predict(X_new)"
   ]
  },
  {
   "cell_type": "code",
   "execution_count": null,
   "id": "b1810e99-a4bb-45a7-ae08-fb68bf873a74",
   "metadata": {},
   "outputs": [],
   "source": [
    "# A point:\n",
    "# In the multiple linear regression, it is best to use the adjusted R-squared rather than the R-squared. \n",
    "# The latter usually over-estimate the coefficient of determination. You can simply calculate the adjusted one as follows:\n",
    "\n",
    "n = X_test.shape[0]  # number of train observations\n",
    "d = X_test.shape[1]  # number of predictors\n",
    "\n",
    "# Calculate the adjusted R-squared\n",
    "r2_adj = 1 - (1 - r2) * (n - 1) / (n - d - 1)\n",
    "\n",
    "# Additional point:\n",
    "\n",
    "# The step remained is to check the model diagnostics including\n",
    "\n",
    "# 1. The normality test for the residuals,\n",
    "# 2. Checking that whether the variances of the residuals are constant?\n",
    "# 3. Check that the residuals are uncorrelated.\n",
    "# 4. To check the multi-colinearity\n"
   ]
  }
 ],
 "metadata": {
  "kernelspec": {
   "display_name": "Python 3 (ipykernel)",
   "language": "python",
   "name": "python3"
  },
  "language_info": {
   "codemirror_mode": {
    "name": "ipython",
    "version": 3
   },
   "file_extension": ".py",
   "mimetype": "text/x-python",
   "name": "python",
   "nbconvert_exporter": "python",
   "pygments_lexer": "ipython3",
   "version": "3.11.3"
  }
 },
 "nbformat": 4,
 "nbformat_minor": 5
}
