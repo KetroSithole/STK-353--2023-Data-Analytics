{
 "cells": [
  {
   "cell_type": "markdown",
   "id": "9bfcdaad-5faf-4155-ba71-2bc8b8719634",
   "metadata": {},
   "source": [
    "# Chapter 2: Text Mining\n",
    "Text mining deals with helping computers understand the meaning of a text. Some of the common text mining applications include sentiment analysis e.g. if a Tweet about a movie says something positive or not, and text classification e.g. classifying the mails you get as spam or ham etc.\n",
    "\n",
    "_Example: Suppose that you are the owner of a supermarket \n",
    "and you have collected billions of market baske \n",
    "data. What information would you extract from  t\n",
    "and how would you use it?_\n",
    "\n",
    "In this tutorial, we will learn about text mining and use some Python modules to implement some common text mining techniques. The content is as follows:\n",
    "\n",
    "- Working with string data\n",
    "- Working with pandas tools for strings\n",
    "- Preprocessing a text data and Corpus Analysis\n",
    "- How to build word clouds\n",
    "- Sentiment Analysis (if we had time!)"
   ]
  },
  {
   "cell_type": "markdown",
   "id": "361a73ea-c224-48c6-80ea-89223d82bd94",
   "metadata": {},
   "source": [
    "## Working with string data type\n",
    "Before starting the text mining with Python, we should be familiar with working with _str_ data types which is the short of **string**."
   ]
  },
  {
   "cell_type": "code",
   "execution_count": 262,
   "id": "96ba7edb-2c65-4c00-8f01-8811c85e66ff",
   "metadata": {},
   "outputs": [
    {
     "data": {
      "text/plain": [
       "'Pretoria'"
      ]
     },
     "execution_count": 262,
     "metadata": {},
     "output_type": "execute_result"
    }
   ],
   "source": [
    "# We know that there are 5 built-in variable types in Python including:\n",
    "# boolean < int < float < complex < string (str)\n",
    "\n",
    "# Thus, strings are the basic data type for text in Python. \n",
    "# They can be surrounded by quote marks or double quote marks like this:\n",
    "\n",
    "\"Pretoria\""
   ]
  },
  {
   "cell_type": "code",
   "execution_count": 263,
   "id": "27472f2b-48d3-4b77-b4b2-6b4bb7ac9869",
   "metadata": {},
   "outputs": [
    {
     "data": {
      "text/plain": [
       "'Pretoria'"
      ]
     },
     "execution_count": 263,
     "metadata": {},
     "output_type": "execute_result"
    }
   ],
   "source": [
    "'Pretoria'"
   ]
  },
  {
   "cell_type": "code",
   "execution_count": 48,
   "id": "96462c87-abda-44db-b389-b8a18ae88fc8",
   "metadata": {},
   "outputs": [
    {
     "data": {
      "text/plain": [
       "str"
      ]
     },
     "execution_count": 48,
     "metadata": {},
     "output_type": "execute_result"
    }
   ],
   "source": [
    "x = \"Pretoria\"\n",
    "type(x)\n"
   ]
  },
  {
   "cell_type": "code",
   "execution_count": 44,
   "id": "d72e501c-994d-456a-aa00-72887e1aee9e",
   "metadata": {},
   "outputs": [
    {
     "data": {
      "text/plain": [
       "'Pretoria University is located in \"Gauteng\" province'"
      ]
     },
     "execution_count": 44,
     "metadata": {},
     "output_type": "execute_result"
    }
   ],
   "source": [
    "# The quote mark or double quote mark can be used inside each other\n",
    "'Pretoria University is located in \"Gauteng\" province'"
   ]
  },
  {
   "cell_type": "code",
   "execution_count": 45,
   "id": "f5ef22de-c88c-4849-9792-df9855d8ed5a",
   "metadata": {},
   "outputs": [
    {
     "data": {
      "text/plain": [
       "\"Pretoria University is located in 'Gauteng' province\""
      ]
     },
     "execution_count": 45,
     "metadata": {},
     "output_type": "execute_result"
    }
   ],
   "source": [
    "\"Pretoria University is located in 'Gauteng' province\""
   ]
  },
  {
   "cell_type": "code",
   "execution_count": 46,
   "id": "62de76bb-244d-4a6d-af24-4003c9a8cd3a",
   "metadata": {},
   "outputs": [
    {
     "ename": "SyntaxError",
     "evalue": "invalid syntax (3817236118.py, line 1)",
     "output_type": "error",
     "traceback": [
      "\u001b[0;36m  Cell \u001b[0;32mIn[46], line 1\u001b[0;36m\u001b[0m\n\u001b[0;31m    \"Pretoria University is located in \"Gauteng\" province\"\u001b[0m\n\u001b[0m                                        ^\u001b[0m\n\u001b[0;31mSyntaxError\u001b[0m\u001b[0;31m:\u001b[0m invalid syntax\n"
     ]
    }
   ],
   "source": [
    "\"Pretoria University is located in \"Gauteng\" province\""
   ]
  },
  {
   "cell_type": "code",
   "execution_count": 55,
   "id": "9c934a59-e65d-44b8-88c8-e759a848c1b0",
   "metadata": {},
   "outputs": [
    {
     "data": {
      "text/plain": [
       "('P', 'eto', 'a', 'rt', 'Peoi')"
      ]
     },
     "execution_count": 55,
     "metadata": {},
     "output_type": "execute_result"
    }
   ],
   "source": [
    "# Strings in Python can be indexed:\n",
    "x[0], x[2:5], x[-1], x[1:5:2], x[::2]"
   ]
  },
  {
   "cell_type": "code",
   "execution_count": 5,
   "id": "c060abbe-85eb-4b29-a4c0-33c65e532898",
   "metadata": {},
   "outputs": [
    {
     "ename": "TypeError",
     "evalue": "'str' object does not support item assignment",
     "output_type": "error",
     "traceback": [
      "\u001b[0;31m---------------------------------------------------------------------------\u001b[0m",
      "\u001b[0;31mTypeError\u001b[0m                                 Traceback (most recent call last)",
      "Cell \u001b[0;32mIn[5], line 2\u001b[0m\n\u001b[1;32m      1\u001b[0m \u001b[38;5;66;03m# But, strings are immutable:\u001b[39;00m\n\u001b[0;32m----> 2\u001b[0m x[\u001b[38;5;241m2\u001b[39m] \u001b[38;5;241m=\u001b[39m \u001b[38;5;124m'\u001b[39m\u001b[38;5;124mR\u001b[39m\u001b[38;5;124m'\u001b[39m\n",
      "\u001b[0;31mTypeError\u001b[0m: 'str' object does not support item assignment"
     ]
    }
   ],
   "source": [
    "# But, strings are immutable:\n",
    "x[2] = 'R'\n",
    "\n",
    "# We should know a method to do this. Will see it later."
   ]
  },
  {
   "cell_type": "code",
   "execution_count": 7,
   "id": "3875e96c-3720-4f67-aae7-dc4ff0fd2cf5",
   "metadata": {},
   "outputs": [
    {
     "data": {
      "text/plain": [
       "8"
      ]
     },
     "execution_count": 7,
     "metadata": {},
     "output_type": "execute_result"
    }
   ],
   "source": [
    "# Similar to other data types, we can find the length of a string using the len()\n",
    "x = \"Pretoria\"\n",
    "len(x)\n",
    "\n",
    "# It is equivalent with nchar() in R!"
   ]
  },
  {
   "cell_type": "code",
   "execution_count": 49,
   "id": "930ca76e-fab8-4346-bd2c-a7516aca153f",
   "metadata": {},
   "outputs": [
    {
     "data": {
      "text/plain": [
       "3"
      ]
     },
     "execution_count": 49,
     "metadata": {},
     "output_type": "execute_result"
    }
   ],
   "source": [
    "y = [\"Pretoria\", \"is a big city in\", \"South Africa\"]\n",
    "len(y)"
   ]
  },
  {
   "cell_type": "code",
   "execution_count": 50,
   "id": "3e801fec-a197-4fe1-b41c-d28dedcbb6ff",
   "metadata": {},
   "outputs": [
    {
     "data": {
      "text/plain": [
       "[8, 16, 12]"
      ]
     },
     "execution_count": 50,
     "metadata": {},
     "output_type": "execute_result"
    }
   ],
   "source": [
    "# To obtain the length of strings involved in a list, we can use the \n",
    "# map() function as follows:\n",
    "\n",
    "list(map(len, y))"
   ]
  },
  {
   "cell_type": "code",
   "execution_count": 51,
   "id": "79d4725c-ccad-49f9-9caa-c15f592c2c4b",
   "metadata": {},
   "outputs": [
    {
     "data": {
      "text/plain": [
       "'Pretoria University'"
      ]
     },
     "execution_count": 51,
     "metadata": {},
     "output_type": "execute_result"
    }
   ],
   "source": [
    "# Concatenating two strings is very simple in Python: Just use '+' operator:\n",
    "# It is equivalent with paste() in R!\n",
    "\n",
    "'Pretoria' + ' ' + 'University'"
   ]
  },
  {
   "cell_type": "code",
   "execution_count": 52,
   "id": "0f912bbf-a232-4732-9396-2fa058639940",
   "metadata": {},
   "outputs": [
    {
     "data": {
      "text/plain": [
       "['Pretoria', 'is a big city in', 'South Africa']"
      ]
     },
     "execution_count": 52,
     "metadata": {},
     "output_type": "execute_result"
    }
   ],
   "source": [
    "# If you have your strings in a list, you can do so:\n",
    "y"
   ]
  },
  {
   "cell_type": "code",
   "execution_count": 53,
   "id": "6d401dd2-5317-4200-a4d8-855d93eb68db",
   "metadata": {},
   "outputs": [
    {
     "data": {
      "text/plain": [
       "'Pretoria is a big city in South Africa'"
      ]
     },
     "execution_count": 53,
     "metadata": {},
     "output_type": "execute_result"
    }
   ],
   "source": [
    "' '.join(y)"
   ]
  },
  {
   "cell_type": "code",
   "execution_count": 54,
   "id": "d84b6298-2785-4692-a931-9067d6ea48b3",
   "metadata": {},
   "outputs": [
    {
     "data": {
      "text/plain": [
       "'Pretoria/is a big city in/South Africa'"
      ]
     },
     "execution_count": 54,
     "metadata": {},
     "output_type": "execute_result"
    }
   ],
   "source": [
    "'/'.join(y)"
   ]
  },
  {
   "cell_type": "code",
   "execution_count": 15,
   "id": "2996d139-77c0-4a2c-bf88-bcfca02dfd18",
   "metadata": {},
   "outputs": [
    {
     "data": {
      "text/plain": [
       "'PRETORIA'"
      ]
     },
     "execution_count": 15,
     "metadata": {},
     "output_type": "execute_result"
    }
   ],
   "source": [
    "# If you want to unify the entire text, it is best to make\n",
    "# all of the words uppercase or lowercase\n",
    "x.upper()"
   ]
  },
  {
   "cell_type": "code",
   "execution_count": 16,
   "id": "feb6f41d-a46e-4914-a807-6a5d84f2fb1f",
   "metadata": {},
   "outputs": [
    {
     "data": {
      "text/plain": [
       "'pretoria'"
      ]
     },
     "execution_count": 16,
     "metadata": {},
     "output_type": "execute_result"
    }
   ],
   "source": [
    "x.lower()"
   ]
  },
  {
   "cell_type": "code",
   "execution_count": 19,
   "id": "1b55f60d-4424-4adb-8ae3-318cf2dddcbd",
   "metadata": {},
   "outputs": [
    {
     "data": {
      "text/plain": [
       "'Pretoria'"
      ]
     },
     "execution_count": 19,
     "metadata": {},
     "output_type": "execute_result"
    }
   ],
   "source": [
    "x.title()"
   ]
  },
  {
   "cell_type": "code",
   "execution_count": 55,
   "id": "b196590d-312a-48d2-a125-2fc106683a38",
   "metadata": {},
   "outputs": [
    {
     "data": {
      "text/plain": [
       "'Pretoria is a big city in South Africa'"
      ]
     },
     "execution_count": 55,
     "metadata": {},
     "output_type": "execute_result"
    }
   ],
   "source": [
    "y = ' '.join(y)\n",
    "y"
   ]
  },
  {
   "cell_type": "code",
   "execution_count": 56,
   "id": "519be491-99ce-40ed-9917-10cb0f590259",
   "metadata": {},
   "outputs": [
    {
     "data": {
      "text/plain": [
       "'Pretoria Is A Big City In South Africa'"
      ]
     },
     "execution_count": 56,
     "metadata": {},
     "output_type": "execute_result"
    }
   ],
   "source": [
    "y.title()"
   ]
  },
  {
   "cell_type": "code",
   "execution_count": 57,
   "id": "6f7667d4-c1ca-4470-a89a-bbcd87661b58",
   "metadata": {},
   "outputs": [
    {
     "data": {
      "text/plain": [
       "'Pretoria is a big city in south africa'"
      ]
     },
     "execution_count": 57,
     "metadata": {},
     "output_type": "execute_result"
    }
   ],
   "source": [
    "y.capitalize()"
   ]
  },
  {
   "cell_type": "code",
   "execution_count": 58,
   "id": "3dfc9087-fe26-47dd-9c1d-45bb3b1e6d3b",
   "metadata": {},
   "outputs": [
    {
     "data": {
      "text/plain": [
       "'PrEtoria'"
      ]
     },
     "execution_count": 58,
     "metadata": {},
     "output_type": "execute_result"
    }
   ],
   "source": [
    "# We said that strings are immutable. But, we can use the replace() to fix this bug:\n",
    "x.replace('e', \"E\")"
   ]
  },
  {
   "cell_type": "code",
   "execution_count": 24,
   "id": "c15ba973-baba-4ae3-aadc-5613650ef023",
   "metadata": {},
   "outputs": [
    {
     "data": {
      "text/plain": [
       "'!\"#$%&\\'()*+,-./:;<=>?@[\\\\]^_`{|}~'"
      ]
     },
     "execution_count": 24,
     "metadata": {},
     "output_type": "execute_result"
    }
   ],
   "source": [
    "# The Python string module is a built-in library that offers a rich collection of tools\n",
    "# for working with strings.\n",
    "\n",
    "import string\n",
    "string.punctuation"
   ]
  },
  {
   "cell_type": "code",
   "execution_count": 25,
   "id": "89cd3dd2-8724-4a5d-8b85-9bb12df0a794",
   "metadata": {},
   "outputs": [
    {
     "data": {
      "text/plain": [
       "32"
      ]
     },
     "execution_count": 25,
     "metadata": {},
     "output_type": "execute_result"
    }
   ],
   "source": [
    "len(string.punctuation)\n",
    "\n",
    "# We will see that the punctuation should be eliminated from the text given."
   ]
  },
  {
   "cell_type": "code",
   "execution_count": 26,
   "id": "bb60ed5e-5bca-4b91-bcf5-89643961cd6f",
   "metadata": {},
   "outputs": [
    {
     "data": {
      "text/plain": [
       "('abcdefghijklmnopqrstuvwxyz', 'ABCDEFGHIJKLMNOPQRSTUVWXYZ', '0123456789')"
      ]
     },
     "execution_count": 26,
     "metadata": {},
     "output_type": "execute_result"
    }
   ],
   "source": [
    "string.ascii_lowercase, string.ascii_uppercase, string.digits"
   ]
  },
  {
   "cell_type": "markdown",
   "id": "a7781d48-6fc6-44ac-aa6d-0e4c4c5140c5",
   "metadata": {},
   "source": [
    "Note:\n",
    "\n",
    "Let's see what other methods can be applied on str data types:"
   ]
  },
  {
   "cell_type": "code",
   "execution_count": 29,
   "id": "8310f858-70a2-4f0e-b217-4d486fe158bc",
   "metadata": {
    "scrolled": true
   },
   "outputs": [
    {
     "data": {
      "text/html": [
       "<pre style=\"white-space:pre;overflow-x:auto;line-height:normal;font-family:Menlo,'DejaVu Sans Mono',consolas,'Courier New',monospace\"><span style=\"color: #000080; text-decoration-color: #000080\">╭───────────────────────────────────────────────── </span><span style=\"color: #000080; text-decoration-color: #000080; font-weight: bold\">&lt;</span><span style=\"color: #ff00ff; text-decoration-color: #ff00ff; font-weight: bold\">class</span><span style=\"color: #000000; text-decoration-color: #000000\"> </span><span style=\"color: #008000; text-decoration-color: #008000\">'str'</span><span style=\"color: #000080; text-decoration-color: #000080; font-weight: bold\">&gt;</span><span style=\"color: #000080; text-decoration-color: #000080\"> ─────────────────────────────────────────────────╮</span>\n",
       "<span style=\"color: #000080; text-decoration-color: #000080\">│</span> <span style=\"color: #800080; text-decoration-color: #800080; font-weight: bold\">str</span><span style=\"color: #008080; text-decoration-color: #008080; font-weight: bold\">(</span><span style=\"color: #808000; text-decoration-color: #808000\">object</span><span style=\"color: #008080; text-decoration-color: #008080\">=</span><span style=\"color: #008000; text-decoration-color: #008000\">''</span><span style=\"color: #008080; text-decoration-color: #008080; font-weight: bold\">)</span><span style=\"color: #008080; text-decoration-color: #008080\"> -&gt; str</span>                                                                                           <span style=\"color: #000080; text-decoration-color: #000080\">│</span>\n",
       "<span style=\"color: #000080; text-decoration-color: #000080\">│</span> <span style=\"color: #800080; text-decoration-color: #800080; font-weight: bold\">str</span><span style=\"color: #008080; text-decoration-color: #008080; font-weight: bold\">(</span><span style=\"color: #008080; text-decoration-color: #008080\">bytes_or_buffer</span><span style=\"color: #008080; text-decoration-color: #008080; font-weight: bold\">[</span><span style=\"color: #008080; text-decoration-color: #008080\">, encoding</span><span style=\"color: #008080; text-decoration-color: #008080; font-weight: bold\">[</span><span style=\"color: #008080; text-decoration-color: #008080\">, errors</span><span style=\"color: #008080; text-decoration-color: #008080; font-weight: bold\">]])</span><span style=\"color: #008080; text-decoration-color: #008080\"> -&gt; str</span>                                                               <span style=\"color: #000080; text-decoration-color: #000080\">│</span>\n",
       "<span style=\"color: #000080; text-decoration-color: #000080\">│</span>                                                                                                                 <span style=\"color: #000080; text-decoration-color: #000080\">│</span>\n",
       "<span style=\"color: #000080; text-decoration-color: #000080\">│</span> <span style=\"color: #008000; text-decoration-color: #008000\">╭─────────────────────────────────────────────────────────────────────────────────────────────────────────────╮</span> <span style=\"color: #000080; text-decoration-color: #000080\">│</span>\n",
       "<span style=\"color: #000080; text-decoration-color: #000080\">│</span> <span style=\"color: #008000; text-decoration-color: #008000\">│</span> <span style=\"color: #008000; text-decoration-color: #008000\">''</span>                                                                                                          <span style=\"color: #008000; text-decoration-color: #008000\">│</span> <span style=\"color: #000080; text-decoration-color: #000080\">│</span>\n",
       "<span style=\"color: #000080; text-decoration-color: #000080\">│</span> <span style=\"color: #008000; text-decoration-color: #008000\">╰─────────────────────────────────────────────────────────────────────────────────────────────────────────────╯</span> <span style=\"color: #000080; text-decoration-color: #000080\">│</span>\n",
       "<span style=\"color: #000080; text-decoration-color: #000080\">│</span>                                                                                                                 <span style=\"color: #000080; text-decoration-color: #000080\">│</span>\n",
       "<span style=\"color: #000080; text-decoration-color: #000080\">│</span>   <span style=\"color: #808000; text-decoration-color: #808000; font-style: italic\">capitalize</span> = <span style=\"color: #00ffff; text-decoration-color: #00ffff; font-style: italic\">def </span><span style=\"color: #800000; text-decoration-color: #800000; font-weight: bold\">capitalize</span><span style=\"font-weight: bold\">()</span>: <span style=\"color: #7f7f7f; text-decoration-color: #7f7f7f\">Return a capitalized version of the string.</span>                                    <span style=\"color: #000080; text-decoration-color: #000080\">│</span>\n",
       "<span style=\"color: #000080; text-decoration-color: #000080\">│</span>     <span style=\"color: #808000; text-decoration-color: #808000; font-style: italic\">casefold</span> = <span style=\"color: #00ffff; text-decoration-color: #00ffff; font-style: italic\">def </span><span style=\"color: #800000; text-decoration-color: #800000; font-weight: bold\">casefold</span><span style=\"font-weight: bold\">()</span>: <span style=\"color: #7f7f7f; text-decoration-color: #7f7f7f\">Return a version of the string suitable for caseless comparisons.</span>                <span style=\"color: #000080; text-decoration-color: #000080\">│</span>\n",
       "<span style=\"color: #000080; text-decoration-color: #000080\">│</span>       <span style=\"color: #808000; text-decoration-color: #808000; font-style: italic\">center</span> = <span style=\"color: #00ffff; text-decoration-color: #00ffff; font-style: italic\">def </span><span style=\"color: #800000; text-decoration-color: #800000; font-weight: bold\">center</span><span style=\"font-weight: bold\">(</span>width, <span style=\"color: #808000; text-decoration-color: #808000\">fillchar</span>=<span style=\"color: #008000; text-decoration-color: #008000\">' '</span>, <span style=\"color: #800080; text-decoration-color: #800080\">/</span><span style=\"font-weight: bold\">)</span>: <span style=\"color: #7f7f7f; text-decoration-color: #7f7f7f\">Return a centered string of length width.</span>                    <span style=\"color: #000080; text-decoration-color: #000080\">│</span>\n",
       "<span style=\"color: #000080; text-decoration-color: #000080\">│</span>        <span style=\"color: #808000; text-decoration-color: #808000; font-style: italic\">count</span> = <span style=\"color: #00ffff; text-decoration-color: #00ffff; font-style: italic\">def </span><span style=\"color: #800000; text-decoration-color: #800000; font-weight: bold\">count</span><span style=\"font-weight: bold\">(</span><span style=\"color: #808000; text-decoration-color: #808000\">...</span><span style=\"font-weight: bold\">)</span> <span style=\"color: #bf7fbf; text-decoration-color: #bf7fbf; font-weight: bold\">S.count</span><span style=\"color: #7f7f7f; text-decoration-color: #7f7f7f; font-weight: bold\">(</span><span style=\"color: #7f7f7f; text-decoration-color: #7f7f7f\">sub</span><span style=\"color: #7f7f7f; text-decoration-color: #7f7f7f; font-weight: bold\">[</span><span style=\"color: #7f7f7f; text-decoration-color: #7f7f7f\">, start</span><span style=\"color: #7f7f7f; text-decoration-color: #7f7f7f; font-weight: bold\">[</span><span style=\"color: #7f7f7f; text-decoration-color: #7f7f7f\">, end</span><span style=\"color: #7f7f7f; text-decoration-color: #7f7f7f; font-weight: bold\">]])</span><span style=\"color: #7f7f7f; text-decoration-color: #7f7f7f\"> -&gt; int</span>                                               <span style=\"color: #000080; text-decoration-color: #000080\">│</span>\n",
       "<span style=\"color: #000080; text-decoration-color: #000080\">│</span>       <span style=\"color: #808000; text-decoration-color: #808000; font-style: italic\">encode</span> = <span style=\"color: #00ffff; text-decoration-color: #00ffff; font-style: italic\">def </span><span style=\"color: #800000; text-decoration-color: #800000; font-weight: bold\">encode</span><span style=\"font-weight: bold\">(</span><span style=\"color: #808000; text-decoration-color: #808000\">encoding</span>=<span style=\"color: #008000; text-decoration-color: #008000\">'utf-8'</span>, <span style=\"color: #808000; text-decoration-color: #808000\">errors</span>=<span style=\"color: #008000; text-decoration-color: #008000\">'strict'</span><span style=\"font-weight: bold\">)</span>: <span style=\"color: #7f7f7f; text-decoration-color: #7f7f7f\">Encode the string using the codec registered for </span> <span style=\"color: #000080; text-decoration-color: #000080\">│</span>\n",
       "<span style=\"color: #000080; text-decoration-color: #000080\">│</span>                <span style=\"color: #7f7f7f; text-decoration-color: #7f7f7f\">encoding.</span>                                                                                        <span style=\"color: #000080; text-decoration-color: #000080\">│</span>\n",
       "<span style=\"color: #000080; text-decoration-color: #000080\">│</span>     <span style=\"color: #808000; text-decoration-color: #808000; font-style: italic\">endswith</span> = <span style=\"color: #00ffff; text-decoration-color: #00ffff; font-style: italic\">def </span><span style=\"color: #800000; text-decoration-color: #800000; font-weight: bold\">endswith</span><span style=\"font-weight: bold\">(</span><span style=\"color: #808000; text-decoration-color: #808000\">...</span><span style=\"font-weight: bold\">)</span> <span style=\"color: #bf7fbf; text-decoration-color: #bf7fbf; font-weight: bold\">S.endswith</span><span style=\"color: #7f7f7f; text-decoration-color: #7f7f7f; font-weight: bold\">(</span><span style=\"color: #7f7f7f; text-decoration-color: #7f7f7f\">suffix</span><span style=\"color: #7f7f7f; text-decoration-color: #7f7f7f; font-weight: bold\">[</span><span style=\"color: #7f7f7f; text-decoration-color: #7f7f7f\">, start</span><span style=\"color: #7f7f7f; text-decoration-color: #7f7f7f; font-weight: bold\">[</span><span style=\"color: #7f7f7f; text-decoration-color: #7f7f7f\">, end</span><span style=\"color: #7f7f7f; text-decoration-color: #7f7f7f; font-weight: bold\">]])</span><span style=\"color: #7f7f7f; text-decoration-color: #7f7f7f\"> -&gt; bool</span>                                     <span style=\"color: #000080; text-decoration-color: #000080\">│</span>\n",
       "<span style=\"color: #000080; text-decoration-color: #000080\">│</span>   <span style=\"color: #808000; text-decoration-color: #808000; font-style: italic\">expandtabs</span> = <span style=\"color: #00ffff; text-decoration-color: #00ffff; font-style: italic\">def </span><span style=\"color: #800000; text-decoration-color: #800000; font-weight: bold\">expandtabs</span><span style=\"font-weight: bold\">(</span><span style=\"color: #808000; text-decoration-color: #808000\">tabsize</span>=<span style=\"color: #008080; text-decoration-color: #008080; font-weight: bold\">8</span><span style=\"font-weight: bold\">)</span>: <span style=\"color: #7f7f7f; text-decoration-color: #7f7f7f\">Return a copy where all tab characters are expanded using spaces.</span>     <span style=\"color: #000080; text-decoration-color: #000080\">│</span>\n",
       "<span style=\"color: #000080; text-decoration-color: #000080\">│</span>         <span style=\"color: #808000; text-decoration-color: #808000; font-style: italic\">find</span> = <span style=\"color: #00ffff; text-decoration-color: #00ffff; font-style: italic\">def </span><span style=\"color: #800000; text-decoration-color: #800000; font-weight: bold\">find</span><span style=\"font-weight: bold\">(</span><span style=\"color: #808000; text-decoration-color: #808000\">...</span><span style=\"font-weight: bold\">)</span> <span style=\"color: #bf7fbf; text-decoration-color: #bf7fbf; font-weight: bold\">S.find</span><span style=\"color: #7f7f7f; text-decoration-color: #7f7f7f; font-weight: bold\">(</span><span style=\"color: #7f7f7f; text-decoration-color: #7f7f7f\">sub</span><span style=\"color: #7f7f7f; text-decoration-color: #7f7f7f; font-weight: bold\">[</span><span style=\"color: #7f7f7f; text-decoration-color: #7f7f7f\">, start</span><span style=\"color: #7f7f7f; text-decoration-color: #7f7f7f; font-weight: bold\">[</span><span style=\"color: #7f7f7f; text-decoration-color: #7f7f7f\">, end</span><span style=\"color: #7f7f7f; text-decoration-color: #7f7f7f; font-weight: bold\">]])</span><span style=\"color: #7f7f7f; text-decoration-color: #7f7f7f\"> -&gt; int</span>                                                 <span style=\"color: #000080; text-decoration-color: #000080\">│</span>\n",
       "<span style=\"color: #000080; text-decoration-color: #000080\">│</span>       <span style=\"color: #808000; text-decoration-color: #808000; font-style: italic\">format</span> = <span style=\"color: #00ffff; text-decoration-color: #00ffff; font-style: italic\">def </span><span style=\"color: #800000; text-decoration-color: #800000; font-weight: bold\">format</span><span style=\"font-weight: bold\">(</span><span style=\"color: #808000; text-decoration-color: #808000\">...</span><span style=\"font-weight: bold\">)</span> <span style=\"color: #bf7fbf; text-decoration-color: #bf7fbf; font-weight: bold\">S.format</span><span style=\"color: #7f7f7f; text-decoration-color: #7f7f7f; font-weight: bold\">(</span><span style=\"color: #7f7f7f; text-decoration-color: #7f7f7f\">*args, **kwargs</span><span style=\"color: #7f7f7f; text-decoration-color: #7f7f7f; font-weight: bold\">)</span><span style=\"color: #7f7f7f; text-decoration-color: #7f7f7f\"> -&gt; str</span>                                                 <span style=\"color: #000080; text-decoration-color: #000080\">│</span>\n",
       "<span style=\"color: #000080; text-decoration-color: #000080\">│</span>   <span style=\"color: #808000; text-decoration-color: #808000; font-style: italic\">format_map</span> = <span style=\"color: #00ffff; text-decoration-color: #00ffff; font-style: italic\">def </span><span style=\"color: #800000; text-decoration-color: #800000; font-weight: bold\">format_map</span><span style=\"font-weight: bold\">(</span><span style=\"color: #808000; text-decoration-color: #808000\">...</span><span style=\"font-weight: bold\">)</span> <span style=\"color: #bf7fbf; text-decoration-color: #bf7fbf; font-weight: bold\">S.format_map</span><span style=\"color: #7f7f7f; text-decoration-color: #7f7f7f; font-weight: bold\">(</span><span style=\"color: #7f7f7f; text-decoration-color: #7f7f7f\">mapping</span><span style=\"color: #7f7f7f; text-decoration-color: #7f7f7f; font-weight: bold\">)</span><span style=\"color: #7f7f7f; text-decoration-color: #7f7f7f\"> -&gt; str</span>                                                 <span style=\"color: #000080; text-decoration-color: #000080\">│</span>\n",
       "<span style=\"color: #000080; text-decoration-color: #000080\">│</span>        <span style=\"color: #808000; text-decoration-color: #808000; font-style: italic\">index</span> = <span style=\"color: #00ffff; text-decoration-color: #00ffff; font-style: italic\">def </span><span style=\"color: #800000; text-decoration-color: #800000; font-weight: bold\">index</span><span style=\"font-weight: bold\">(</span><span style=\"color: #808000; text-decoration-color: #808000\">...</span><span style=\"font-weight: bold\">)</span> <span style=\"color: #bf7fbf; text-decoration-color: #bf7fbf; font-weight: bold\">S.index</span><span style=\"color: #7f7f7f; text-decoration-color: #7f7f7f; font-weight: bold\">(</span><span style=\"color: #7f7f7f; text-decoration-color: #7f7f7f\">sub</span><span style=\"color: #7f7f7f; text-decoration-color: #7f7f7f; font-weight: bold\">[</span><span style=\"color: #7f7f7f; text-decoration-color: #7f7f7f\">, start</span><span style=\"color: #7f7f7f; text-decoration-color: #7f7f7f; font-weight: bold\">[</span><span style=\"color: #7f7f7f; text-decoration-color: #7f7f7f\">, end</span><span style=\"color: #7f7f7f; text-decoration-color: #7f7f7f; font-weight: bold\">]])</span><span style=\"color: #7f7f7f; text-decoration-color: #7f7f7f\"> -&gt; int</span>                                               <span style=\"color: #000080; text-decoration-color: #000080\">│</span>\n",
       "<span style=\"color: #000080; text-decoration-color: #000080\">│</span>      <span style=\"color: #808000; text-decoration-color: #808000; font-style: italic\">isalnum</span> = <span style=\"color: #00ffff; text-decoration-color: #00ffff; font-style: italic\">def </span><span style=\"color: #800000; text-decoration-color: #800000; font-weight: bold\">isalnum</span><span style=\"font-weight: bold\">()</span>: <span style=\"color: #7f7f7f; text-decoration-color: #7f7f7f\">Return </span><span style=\"color: #7fff7f; text-decoration-color: #7fff7f; font-style: italic\">True</span><span style=\"color: #7f7f7f; text-decoration-color: #7f7f7f\"> if the string is an alpha-numeric string, </span><span style=\"color: #ff7f7f; text-decoration-color: #ff7f7f; font-style: italic\">False</span><span style=\"color: #7f7f7f; text-decoration-color: #7f7f7f\"> otherwise.</span>            <span style=\"color: #000080; text-decoration-color: #000080\">│</span>\n",
       "<span style=\"color: #000080; text-decoration-color: #000080\">│</span>      <span style=\"color: #808000; text-decoration-color: #808000; font-style: italic\">isalpha</span> = <span style=\"color: #00ffff; text-decoration-color: #00ffff; font-style: italic\">def </span><span style=\"color: #800000; text-decoration-color: #800000; font-weight: bold\">isalpha</span><span style=\"font-weight: bold\">()</span>: <span style=\"color: #7f7f7f; text-decoration-color: #7f7f7f\">Return </span><span style=\"color: #7fff7f; text-decoration-color: #7fff7f; font-style: italic\">True</span><span style=\"color: #7f7f7f; text-decoration-color: #7f7f7f\"> if the string is an alphabetic string, </span><span style=\"color: #ff7f7f; text-decoration-color: #ff7f7f; font-style: italic\">False</span><span style=\"color: #7f7f7f; text-decoration-color: #7f7f7f\"> otherwise.</span>               <span style=\"color: #000080; text-decoration-color: #000080\">│</span>\n",
       "<span style=\"color: #000080; text-decoration-color: #000080\">│</span>      <span style=\"color: #808000; text-decoration-color: #808000; font-style: italic\">isascii</span> = <span style=\"color: #00ffff; text-decoration-color: #00ffff; font-style: italic\">def </span><span style=\"color: #800000; text-decoration-color: #800000; font-weight: bold\">isascii</span><span style=\"font-weight: bold\">()</span>: <span style=\"color: #7f7f7f; text-decoration-color: #7f7f7f\">Return </span><span style=\"color: #7fff7f; text-decoration-color: #7fff7f; font-style: italic\">True</span><span style=\"color: #7f7f7f; text-decoration-color: #7f7f7f\"> if all characters in the string are ASCII, </span><span style=\"color: #ff7f7f; text-decoration-color: #ff7f7f; font-style: italic\">False</span><span style=\"color: #7f7f7f; text-decoration-color: #7f7f7f\"> otherwise.</span>           <span style=\"color: #000080; text-decoration-color: #000080\">│</span>\n",
       "<span style=\"color: #000080; text-decoration-color: #000080\">│</span>    <span style=\"color: #808000; text-decoration-color: #808000; font-style: italic\">isdecimal</span> = <span style=\"color: #00ffff; text-decoration-color: #00ffff; font-style: italic\">def </span><span style=\"color: #800000; text-decoration-color: #800000; font-weight: bold\">isdecimal</span><span style=\"font-weight: bold\">()</span>: <span style=\"color: #7f7f7f; text-decoration-color: #7f7f7f\">Return </span><span style=\"color: #7fff7f; text-decoration-color: #7fff7f; font-style: italic\">True</span><span style=\"color: #7f7f7f; text-decoration-color: #7f7f7f\"> if the string is a decimal string, </span><span style=\"color: #ff7f7f; text-decoration-color: #ff7f7f; font-style: italic\">False</span><span style=\"color: #7f7f7f; text-decoration-color: #7f7f7f\"> otherwise.</span>                 <span style=\"color: #000080; text-decoration-color: #000080\">│</span>\n",
       "<span style=\"color: #000080; text-decoration-color: #000080\">│</span>      <span style=\"color: #808000; text-decoration-color: #808000; font-style: italic\">isdigit</span> = <span style=\"color: #00ffff; text-decoration-color: #00ffff; font-style: italic\">def </span><span style=\"color: #800000; text-decoration-color: #800000; font-weight: bold\">isdigit</span><span style=\"font-weight: bold\">()</span>: <span style=\"color: #7f7f7f; text-decoration-color: #7f7f7f\">Return </span><span style=\"color: #7fff7f; text-decoration-color: #7fff7f; font-style: italic\">True</span><span style=\"color: #7f7f7f; text-decoration-color: #7f7f7f\"> if the string is a digit string, </span><span style=\"color: #ff7f7f; text-decoration-color: #ff7f7f; font-style: italic\">False</span><span style=\"color: #7f7f7f; text-decoration-color: #7f7f7f\"> otherwise.</span>                     <span style=\"color: #000080; text-decoration-color: #000080\">│</span>\n",
       "<span style=\"color: #000080; text-decoration-color: #000080\">│</span> <span style=\"color: #808000; text-decoration-color: #808000; font-style: italic\">isidentifier</span> = <span style=\"color: #00ffff; text-decoration-color: #00ffff; font-style: italic\">def </span><span style=\"color: #800000; text-decoration-color: #800000; font-weight: bold\">isidentifier</span><span style=\"font-weight: bold\">()</span>: <span style=\"color: #7f7f7f; text-decoration-color: #7f7f7f\">Return </span><span style=\"color: #7fff7f; text-decoration-color: #7fff7f; font-style: italic\">True</span><span style=\"color: #7f7f7f; text-decoration-color: #7f7f7f\"> if the string is a valid Python identifier, </span><span style=\"color: #ff7f7f; text-decoration-color: #ff7f7f; font-style: italic\">False</span><span style=\"color: #7f7f7f; text-decoration-color: #7f7f7f\"> otherwise.</span>     <span style=\"color: #000080; text-decoration-color: #000080\">│</span>\n",
       "<span style=\"color: #000080; text-decoration-color: #000080\">│</span>      <span style=\"color: #808000; text-decoration-color: #808000; font-style: italic\">islower</span> = <span style=\"color: #00ffff; text-decoration-color: #00ffff; font-style: italic\">def </span><span style=\"color: #800000; text-decoration-color: #800000; font-weight: bold\">islower</span><span style=\"font-weight: bold\">()</span>: <span style=\"color: #7f7f7f; text-decoration-color: #7f7f7f\">Return </span><span style=\"color: #7fff7f; text-decoration-color: #7fff7f; font-style: italic\">True</span><span style=\"color: #7f7f7f; text-decoration-color: #7f7f7f\"> if the string is a lowercase string, </span><span style=\"color: #ff7f7f; text-decoration-color: #ff7f7f; font-style: italic\">False</span><span style=\"color: #7f7f7f; text-decoration-color: #7f7f7f\"> otherwise.</span>                 <span style=\"color: #000080; text-decoration-color: #000080\">│</span>\n",
       "<span style=\"color: #000080; text-decoration-color: #000080\">│</span>    <span style=\"color: #808000; text-decoration-color: #808000; font-style: italic\">isnumeric</span> = <span style=\"color: #00ffff; text-decoration-color: #00ffff; font-style: italic\">def </span><span style=\"color: #800000; text-decoration-color: #800000; font-weight: bold\">isnumeric</span><span style=\"font-weight: bold\">()</span>: <span style=\"color: #7f7f7f; text-decoration-color: #7f7f7f\">Return </span><span style=\"color: #7fff7f; text-decoration-color: #7fff7f; font-style: italic\">True</span><span style=\"color: #7f7f7f; text-decoration-color: #7f7f7f\"> if the string is a numeric string, </span><span style=\"color: #ff7f7f; text-decoration-color: #ff7f7f; font-style: italic\">False</span><span style=\"color: #7f7f7f; text-decoration-color: #7f7f7f\"> otherwise.</span>                 <span style=\"color: #000080; text-decoration-color: #000080\">│</span>\n",
       "<span style=\"color: #000080; text-decoration-color: #000080\">│</span>  <span style=\"color: #808000; text-decoration-color: #808000; font-style: italic\">isprintable</span> = <span style=\"color: #00ffff; text-decoration-color: #00ffff; font-style: italic\">def </span><span style=\"color: #800000; text-decoration-color: #800000; font-weight: bold\">isprintable</span><span style=\"font-weight: bold\">()</span>: <span style=\"color: #7f7f7f; text-decoration-color: #7f7f7f\">Return </span><span style=\"color: #7fff7f; text-decoration-color: #7fff7f; font-style: italic\">True</span><span style=\"color: #7f7f7f; text-decoration-color: #7f7f7f\"> if the string is printable, </span><span style=\"color: #ff7f7f; text-decoration-color: #ff7f7f; font-style: italic\">False</span><span style=\"color: #7f7f7f; text-decoration-color: #7f7f7f\"> otherwise.</span>                      <span style=\"color: #000080; text-decoration-color: #000080\">│</span>\n",
       "<span style=\"color: #000080; text-decoration-color: #000080\">│</span>      <span style=\"color: #808000; text-decoration-color: #808000; font-style: italic\">isspace</span> = <span style=\"color: #00ffff; text-decoration-color: #00ffff; font-style: italic\">def </span><span style=\"color: #800000; text-decoration-color: #800000; font-weight: bold\">isspace</span><span style=\"font-weight: bold\">()</span>: <span style=\"color: #7f7f7f; text-decoration-color: #7f7f7f\">Return </span><span style=\"color: #7fff7f; text-decoration-color: #7fff7f; font-style: italic\">True</span><span style=\"color: #7f7f7f; text-decoration-color: #7f7f7f\"> if the string is a whitespace string, </span><span style=\"color: #ff7f7f; text-decoration-color: #ff7f7f; font-style: italic\">False</span><span style=\"color: #7f7f7f; text-decoration-color: #7f7f7f\"> otherwise.</span>                <span style=\"color: #000080; text-decoration-color: #000080\">│</span>\n",
       "<span style=\"color: #000080; text-decoration-color: #000080\">│</span>      <span style=\"color: #808000; text-decoration-color: #808000; font-style: italic\">istitle</span> = <span style=\"color: #00ffff; text-decoration-color: #00ffff; font-style: italic\">def </span><span style=\"color: #800000; text-decoration-color: #800000; font-weight: bold\">istitle</span><span style=\"font-weight: bold\">()</span>: <span style=\"color: #7f7f7f; text-decoration-color: #7f7f7f\">Return </span><span style=\"color: #7fff7f; text-decoration-color: #7fff7f; font-style: italic\">True</span><span style=\"color: #7f7f7f; text-decoration-color: #7f7f7f\"> if the string is a title-cased string, </span><span style=\"color: #ff7f7f; text-decoration-color: #ff7f7f; font-style: italic\">False</span><span style=\"color: #7f7f7f; text-decoration-color: #7f7f7f\"> otherwise.</span>               <span style=\"color: #000080; text-decoration-color: #000080\">│</span>\n",
       "<span style=\"color: #000080; text-decoration-color: #000080\">│</span>      <span style=\"color: #808000; text-decoration-color: #808000; font-style: italic\">isupper</span> = <span style=\"color: #00ffff; text-decoration-color: #00ffff; font-style: italic\">def </span><span style=\"color: #800000; text-decoration-color: #800000; font-weight: bold\">isupper</span><span style=\"font-weight: bold\">()</span>: <span style=\"color: #7f7f7f; text-decoration-color: #7f7f7f\">Return </span><span style=\"color: #7fff7f; text-decoration-color: #7fff7f; font-style: italic\">True</span><span style=\"color: #7f7f7f; text-decoration-color: #7f7f7f\"> if the string is an uppercase string, </span><span style=\"color: #ff7f7f; text-decoration-color: #ff7f7f; font-style: italic\">False</span><span style=\"color: #7f7f7f; text-decoration-color: #7f7f7f\"> otherwise.</span>                <span style=\"color: #000080; text-decoration-color: #000080\">│</span>\n",
       "<span style=\"color: #000080; text-decoration-color: #000080\">│</span>         <span style=\"color: #808000; text-decoration-color: #808000; font-style: italic\">join</span> = <span style=\"color: #00ffff; text-decoration-color: #00ffff; font-style: italic\">def </span><span style=\"color: #800000; text-decoration-color: #800000; font-weight: bold\">join</span><span style=\"font-weight: bold\">(</span>iterable, <span style=\"color: #800080; text-decoration-color: #800080\">/</span><span style=\"font-weight: bold\">)</span>: <span style=\"color: #7f7f7f; text-decoration-color: #7f7f7f\">Concatenate any number of strings.</span>                                        <span style=\"color: #000080; text-decoration-color: #000080\">│</span>\n",
       "<span style=\"color: #000080; text-decoration-color: #000080\">│</span>        <span style=\"color: #808000; text-decoration-color: #808000; font-style: italic\">ljust</span> = <span style=\"color: #00ffff; text-decoration-color: #00ffff; font-style: italic\">def </span><span style=\"color: #800000; text-decoration-color: #800000; font-weight: bold\">ljust</span><span style=\"font-weight: bold\">(</span>width, <span style=\"color: #808000; text-decoration-color: #808000\">fillchar</span>=<span style=\"color: #008000; text-decoration-color: #008000\">' '</span>, <span style=\"color: #800080; text-decoration-color: #800080\">/</span><span style=\"font-weight: bold\">)</span>: <span style=\"color: #7f7f7f; text-decoration-color: #7f7f7f\">Return a left-justified string of length width.</span>               <span style=\"color: #000080; text-decoration-color: #000080\">│</span>\n",
       "<span style=\"color: #000080; text-decoration-color: #000080\">│</span>        <span style=\"color: #808000; text-decoration-color: #808000; font-style: italic\">lower</span> = <span style=\"color: #00ffff; text-decoration-color: #00ffff; font-style: italic\">def </span><span style=\"color: #800000; text-decoration-color: #800000; font-weight: bold\">lower</span><span style=\"font-weight: bold\">()</span>: <span style=\"color: #7f7f7f; text-decoration-color: #7f7f7f\">Return a copy of the string converted to lowercase.</span>                                 <span style=\"color: #000080; text-decoration-color: #000080\">│</span>\n",
       "<span style=\"color: #000080; text-decoration-color: #000080\">│</span>       <span style=\"color: #808000; text-decoration-color: #808000; font-style: italic\">lstrip</span> = <span style=\"color: #00ffff; text-decoration-color: #00ffff; font-style: italic\">def </span><span style=\"color: #800000; text-decoration-color: #800000; font-weight: bold\">lstrip</span><span style=\"font-weight: bold\">(</span><span style=\"color: #808000; text-decoration-color: #808000\">chars</span>=<span style=\"color: #800080; text-decoration-color: #800080; font-style: italic\">None</span>, <span style=\"color: #800080; text-decoration-color: #800080\">/</span><span style=\"font-weight: bold\">)</span>: <span style=\"color: #7f7f7f; text-decoration-color: #7f7f7f\">Return a copy of the string with leading whitespace removed.</span>          <span style=\"color: #000080; text-decoration-color: #000080\">│</span>\n",
       "<span style=\"color: #000080; text-decoration-color: #000080\">│</span>    <span style=\"color: #808000; text-decoration-color: #808000; font-style: italic\">maketrans</span> = <span style=\"color: #00ffff; text-decoration-color: #00ffff; font-style: italic\">def </span><span style=\"color: #800000; text-decoration-color: #800000; font-weight: bold\">maketrans</span><span style=\"font-weight: bold\">(</span><span style=\"color: #808000; text-decoration-color: #808000\">...</span><span style=\"font-weight: bold\">)</span> <span style=\"color: #7f7f7f; text-decoration-color: #7f7f7f\">Return a translation table usable for </span><span style=\"color: #bf7fbf; text-decoration-color: #bf7fbf; font-weight: bold\">str.translate</span><span style=\"color: #7f7f7f; text-decoration-color: #7f7f7f; font-weight: bold\">()</span><span style=\"color: #7f7f7f; text-decoration-color: #7f7f7f\">.</span>                        <span style=\"color: #000080; text-decoration-color: #000080\">│</span>\n",
       "<span style=\"color: #000080; text-decoration-color: #000080\">│</span>    <span style=\"color: #808000; text-decoration-color: #808000; font-style: italic\">partition</span> = <span style=\"color: #00ffff; text-decoration-color: #00ffff; font-style: italic\">def </span><span style=\"color: #800000; text-decoration-color: #800000; font-weight: bold\">partition</span><span style=\"font-weight: bold\">(</span>sep, <span style=\"color: #800080; text-decoration-color: #800080\">/</span><span style=\"font-weight: bold\">)</span>: <span style=\"color: #7f7f7f; text-decoration-color: #7f7f7f\">Partition the string into three parts using the given separator.</span>          <span style=\"color: #000080; text-decoration-color: #000080\">│</span>\n",
       "<span style=\"color: #000080; text-decoration-color: #000080\">│</span> <span style=\"color: #808000; text-decoration-color: #808000; font-style: italic\">removeprefix</span> = <span style=\"color: #00ffff; text-decoration-color: #00ffff; font-style: italic\">def </span><span style=\"color: #800000; text-decoration-color: #800000; font-weight: bold\">removeprefix</span><span style=\"font-weight: bold\">(</span>prefix, <span style=\"color: #800080; text-decoration-color: #800080\">/</span><span style=\"font-weight: bold\">)</span>: <span style=\"color: #7f7f7f; text-decoration-color: #7f7f7f\">Return a str with the given prefix string removed if present.</span>       <span style=\"color: #000080; text-decoration-color: #000080\">│</span>\n",
       "<span style=\"color: #000080; text-decoration-color: #000080\">│</span> <span style=\"color: #808000; text-decoration-color: #808000; font-style: italic\">removesuffix</span> = <span style=\"color: #00ffff; text-decoration-color: #00ffff; font-style: italic\">def </span><span style=\"color: #800000; text-decoration-color: #800000; font-weight: bold\">removesuffix</span><span style=\"font-weight: bold\">(</span>suffix, <span style=\"color: #800080; text-decoration-color: #800080\">/</span><span style=\"font-weight: bold\">)</span>: <span style=\"color: #7f7f7f; text-decoration-color: #7f7f7f\">Return a str with the given suffix string removed if present.</span>       <span style=\"color: #000080; text-decoration-color: #000080\">│</span>\n",
       "<span style=\"color: #000080; text-decoration-color: #000080\">│</span>      <span style=\"color: #808000; text-decoration-color: #808000; font-style: italic\">replace</span> = <span style=\"color: #00ffff; text-decoration-color: #00ffff; font-style: italic\">def </span><span style=\"color: #800000; text-decoration-color: #800000; font-weight: bold\">replace</span><span style=\"font-weight: bold\">(</span>old, new, <span style=\"color: #808000; text-decoration-color: #808000\">count</span>=<span style=\"color: #008080; text-decoration-color: #008080; font-weight: bold\">-1</span>, <span style=\"color: #800080; text-decoration-color: #800080\">/</span><span style=\"font-weight: bold\">)</span>: <span style=\"color: #7f7f7f; text-decoration-color: #7f7f7f\">Return a copy with all occurrences of substring old replaced</span> <span style=\"color: #000080; text-decoration-color: #000080\">│</span>\n",
       "<span style=\"color: #000080; text-decoration-color: #000080\">│</span>                <span style=\"color: #7f7f7f; text-decoration-color: #7f7f7f\">by new.</span>                                                                                          <span style=\"color: #000080; text-decoration-color: #000080\">│</span>\n",
       "<span style=\"color: #000080; text-decoration-color: #000080\">│</span>        <span style=\"color: #808000; text-decoration-color: #808000; font-style: italic\">rfind</span> = <span style=\"color: #00ffff; text-decoration-color: #00ffff; font-style: italic\">def </span><span style=\"color: #800000; text-decoration-color: #800000; font-weight: bold\">rfind</span><span style=\"font-weight: bold\">(</span><span style=\"color: #808000; text-decoration-color: #808000\">...</span><span style=\"font-weight: bold\">)</span> <span style=\"color: #bf7fbf; text-decoration-color: #bf7fbf; font-weight: bold\">S.rfind</span><span style=\"color: #7f7f7f; text-decoration-color: #7f7f7f; font-weight: bold\">(</span><span style=\"color: #7f7f7f; text-decoration-color: #7f7f7f\">sub</span><span style=\"color: #7f7f7f; text-decoration-color: #7f7f7f; font-weight: bold\">[</span><span style=\"color: #7f7f7f; text-decoration-color: #7f7f7f\">, start</span><span style=\"color: #7f7f7f; text-decoration-color: #7f7f7f; font-weight: bold\">[</span><span style=\"color: #7f7f7f; text-decoration-color: #7f7f7f\">, end</span><span style=\"color: #7f7f7f; text-decoration-color: #7f7f7f; font-weight: bold\">]])</span><span style=\"color: #7f7f7f; text-decoration-color: #7f7f7f\"> -&gt; int</span>                                               <span style=\"color: #000080; text-decoration-color: #000080\">│</span>\n",
       "<span style=\"color: #000080; text-decoration-color: #000080\">│</span>       <span style=\"color: #808000; text-decoration-color: #808000; font-style: italic\">rindex</span> = <span style=\"color: #00ffff; text-decoration-color: #00ffff; font-style: italic\">def </span><span style=\"color: #800000; text-decoration-color: #800000; font-weight: bold\">rindex</span><span style=\"font-weight: bold\">(</span><span style=\"color: #808000; text-decoration-color: #808000\">...</span><span style=\"font-weight: bold\">)</span> <span style=\"color: #bf7fbf; text-decoration-color: #bf7fbf; font-weight: bold\">S.rindex</span><span style=\"color: #7f7f7f; text-decoration-color: #7f7f7f; font-weight: bold\">(</span><span style=\"color: #7f7f7f; text-decoration-color: #7f7f7f\">sub</span><span style=\"color: #7f7f7f; text-decoration-color: #7f7f7f; font-weight: bold\">[</span><span style=\"color: #7f7f7f; text-decoration-color: #7f7f7f\">, start</span><span style=\"color: #7f7f7f; text-decoration-color: #7f7f7f; font-weight: bold\">[</span><span style=\"color: #7f7f7f; text-decoration-color: #7f7f7f\">, end</span><span style=\"color: #7f7f7f; text-decoration-color: #7f7f7f; font-weight: bold\">]])</span><span style=\"color: #7f7f7f; text-decoration-color: #7f7f7f\"> -&gt; int</span>                                             <span style=\"color: #000080; text-decoration-color: #000080\">│</span>\n",
       "<span style=\"color: #000080; text-decoration-color: #000080\">│</span>        <span style=\"color: #808000; text-decoration-color: #808000; font-style: italic\">rjust</span> = <span style=\"color: #00ffff; text-decoration-color: #00ffff; font-style: italic\">def </span><span style=\"color: #800000; text-decoration-color: #800000; font-weight: bold\">rjust</span><span style=\"font-weight: bold\">(</span>width, <span style=\"color: #808000; text-decoration-color: #808000\">fillchar</span>=<span style=\"color: #008000; text-decoration-color: #008000\">' '</span>, <span style=\"color: #800080; text-decoration-color: #800080\">/</span><span style=\"font-weight: bold\">)</span>: <span style=\"color: #7f7f7f; text-decoration-color: #7f7f7f\">Return a right-justified string of length width.</span>              <span style=\"color: #000080; text-decoration-color: #000080\">│</span>\n",
       "<span style=\"color: #000080; text-decoration-color: #000080\">│</span>   <span style=\"color: #808000; text-decoration-color: #808000; font-style: italic\">rpartition</span> = <span style=\"color: #00ffff; text-decoration-color: #00ffff; font-style: italic\">def </span><span style=\"color: #800000; text-decoration-color: #800000; font-weight: bold\">rpartition</span><span style=\"font-weight: bold\">(</span>sep, <span style=\"color: #800080; text-decoration-color: #800080\">/</span><span style=\"font-weight: bold\">)</span>: <span style=\"color: #7f7f7f; text-decoration-color: #7f7f7f\">Partition the string into three parts using the given separator.</span>         <span style=\"color: #000080; text-decoration-color: #000080\">│</span>\n",
       "<span style=\"color: #000080; text-decoration-color: #000080\">│</span>       <span style=\"color: #808000; text-decoration-color: #808000; font-style: italic\">rsplit</span> = <span style=\"color: #00ffff; text-decoration-color: #00ffff; font-style: italic\">def </span><span style=\"color: #800000; text-decoration-color: #800000; font-weight: bold\">rsplit</span><span style=\"font-weight: bold\">(</span><span style=\"color: #808000; text-decoration-color: #808000\">sep</span>=<span style=\"color: #800080; text-decoration-color: #800080; font-style: italic\">None</span>, <span style=\"color: #808000; text-decoration-color: #808000\">maxsplit</span>=<span style=\"color: #008080; text-decoration-color: #008080; font-weight: bold\">-1</span><span style=\"font-weight: bold\">)</span>: <span style=\"color: #7f7f7f; text-decoration-color: #7f7f7f\">Return a list of the substrings in the string, using sep as </span>  <span style=\"color: #000080; text-decoration-color: #000080\">│</span>\n",
       "<span style=\"color: #000080; text-decoration-color: #000080\">│</span>                <span style=\"color: #7f7f7f; text-decoration-color: #7f7f7f\">the separator string.</span>                                                                            <span style=\"color: #000080; text-decoration-color: #000080\">│</span>\n",
       "<span style=\"color: #000080; text-decoration-color: #000080\">│</span>       <span style=\"color: #808000; text-decoration-color: #808000; font-style: italic\">rstrip</span> = <span style=\"color: #00ffff; text-decoration-color: #00ffff; font-style: italic\">def </span><span style=\"color: #800000; text-decoration-color: #800000; font-weight: bold\">rstrip</span><span style=\"font-weight: bold\">(</span><span style=\"color: #808000; text-decoration-color: #808000\">chars</span>=<span style=\"color: #800080; text-decoration-color: #800080; font-style: italic\">None</span>, <span style=\"color: #800080; text-decoration-color: #800080\">/</span><span style=\"font-weight: bold\">)</span>: <span style=\"color: #7f7f7f; text-decoration-color: #7f7f7f\">Return a copy of the string with trailing whitespace removed.</span>         <span style=\"color: #000080; text-decoration-color: #000080\">│</span>\n",
       "<span style=\"color: #000080; text-decoration-color: #000080\">│</span>        <span style=\"color: #808000; text-decoration-color: #808000; font-style: italic\">split</span> = <span style=\"color: #00ffff; text-decoration-color: #00ffff; font-style: italic\">def </span><span style=\"color: #800000; text-decoration-color: #800000; font-weight: bold\">split</span><span style=\"font-weight: bold\">(</span><span style=\"color: #808000; text-decoration-color: #808000\">sep</span>=<span style=\"color: #800080; text-decoration-color: #800080; font-style: italic\">None</span>, <span style=\"color: #808000; text-decoration-color: #808000\">maxsplit</span>=<span style=\"color: #008080; text-decoration-color: #008080; font-weight: bold\">-1</span><span style=\"font-weight: bold\">)</span>: <span style=\"color: #7f7f7f; text-decoration-color: #7f7f7f\">Return a list of the substrings in the string, using sep as </span>   <span style=\"color: #000080; text-decoration-color: #000080\">│</span>\n",
       "<span style=\"color: #000080; text-decoration-color: #000080\">│</span>                <span style=\"color: #7f7f7f; text-decoration-color: #7f7f7f\">the separator string.</span>                                                                            <span style=\"color: #000080; text-decoration-color: #000080\">│</span>\n",
       "<span style=\"color: #000080; text-decoration-color: #000080\">│</span>   <span style=\"color: #808000; text-decoration-color: #808000; font-style: italic\">splitlines</span> = <span style=\"color: #00ffff; text-decoration-color: #00ffff; font-style: italic\">def </span><span style=\"color: #800000; text-decoration-color: #800000; font-weight: bold\">splitlines</span><span style=\"font-weight: bold\">(</span><span style=\"color: #808000; text-decoration-color: #808000\">keepends</span>=<span style=\"color: #ff0000; text-decoration-color: #ff0000; font-style: italic\">False</span><span style=\"font-weight: bold\">)</span>: <span style=\"color: #7f7f7f; text-decoration-color: #7f7f7f\">Return a list of the lines in the string, breaking at line </span>      <span style=\"color: #000080; text-decoration-color: #000080\">│</span>\n",
       "<span style=\"color: #000080; text-decoration-color: #000080\">│</span>                <span style=\"color: #7f7f7f; text-decoration-color: #7f7f7f\">boundaries.</span>                                                                                      <span style=\"color: #000080; text-decoration-color: #000080\">│</span>\n",
       "<span style=\"color: #000080; text-decoration-color: #000080\">│</span>   <span style=\"color: #808000; text-decoration-color: #808000; font-style: italic\">startswith</span> = <span style=\"color: #00ffff; text-decoration-color: #00ffff; font-style: italic\">def </span><span style=\"color: #800000; text-decoration-color: #800000; font-weight: bold\">startswith</span><span style=\"font-weight: bold\">(</span><span style=\"color: #808000; text-decoration-color: #808000\">...</span><span style=\"font-weight: bold\">)</span> <span style=\"color: #bf7fbf; text-decoration-color: #bf7fbf; font-weight: bold\">S.startswith</span><span style=\"color: #7f7f7f; text-decoration-color: #7f7f7f; font-weight: bold\">(</span><span style=\"color: #7f7f7f; text-decoration-color: #7f7f7f\">prefix</span><span style=\"color: #7f7f7f; text-decoration-color: #7f7f7f; font-weight: bold\">[</span><span style=\"color: #7f7f7f; text-decoration-color: #7f7f7f\">, start</span><span style=\"color: #7f7f7f; text-decoration-color: #7f7f7f; font-weight: bold\">[</span><span style=\"color: #7f7f7f; text-decoration-color: #7f7f7f\">, end</span><span style=\"color: #7f7f7f; text-decoration-color: #7f7f7f; font-weight: bold\">]])</span><span style=\"color: #7f7f7f; text-decoration-color: #7f7f7f\"> -&gt; bool</span>                                 <span style=\"color: #000080; text-decoration-color: #000080\">│</span>\n",
       "<span style=\"color: #000080; text-decoration-color: #000080\">│</span>        <span style=\"color: #808000; text-decoration-color: #808000; font-style: italic\">strip</span> = <span style=\"color: #00ffff; text-decoration-color: #00ffff; font-style: italic\">def </span><span style=\"color: #800000; text-decoration-color: #800000; font-weight: bold\">strip</span><span style=\"font-weight: bold\">(</span><span style=\"color: #808000; text-decoration-color: #808000\">chars</span>=<span style=\"color: #800080; text-decoration-color: #800080; font-style: italic\">None</span>, <span style=\"color: #800080; text-decoration-color: #800080\">/</span><span style=\"font-weight: bold\">)</span>: <span style=\"color: #7f7f7f; text-decoration-color: #7f7f7f\">Return a copy of the string with leading and trailing whitespace </span>      <span style=\"color: #000080; text-decoration-color: #000080\">│</span>\n",
       "<span style=\"color: #000080; text-decoration-color: #000080\">│</span>                <span style=\"color: #7f7f7f; text-decoration-color: #7f7f7f\">removed.</span>                                                                                         <span style=\"color: #000080; text-decoration-color: #000080\">│</span>\n",
       "<span style=\"color: #000080; text-decoration-color: #000080\">│</span>     <span style=\"color: #808000; text-decoration-color: #808000; font-style: italic\">swapcase</span> = <span style=\"color: #00ffff; text-decoration-color: #00ffff; font-style: italic\">def </span><span style=\"color: #800000; text-decoration-color: #800000; font-weight: bold\">swapcase</span><span style=\"font-weight: bold\">()</span>: <span style=\"color: #7f7f7f; text-decoration-color: #7f7f7f\">Convert uppercase characters to lowercase and lowercase characters to uppercase.</span> <span style=\"color: #000080; text-decoration-color: #000080\">│</span>\n",
       "<span style=\"color: #000080; text-decoration-color: #000080\">│</span>        <span style=\"color: #808000; text-decoration-color: #808000; font-style: italic\">title</span> = <span style=\"color: #00ffff; text-decoration-color: #00ffff; font-style: italic\">def </span><span style=\"color: #800000; text-decoration-color: #800000; font-weight: bold\">title</span><span style=\"font-weight: bold\">()</span>: <span style=\"color: #7f7f7f; text-decoration-color: #7f7f7f\">Return a version of the string where each word is titlecased.</span>                       <span style=\"color: #000080; text-decoration-color: #000080\">│</span>\n",
       "<span style=\"color: #000080; text-decoration-color: #000080\">│</span>    <span style=\"color: #808000; text-decoration-color: #808000; font-style: italic\">translate</span> = <span style=\"color: #00ffff; text-decoration-color: #00ffff; font-style: italic\">def </span><span style=\"color: #800000; text-decoration-color: #800000; font-weight: bold\">translate</span><span style=\"font-weight: bold\">(</span>table, <span style=\"color: #800080; text-decoration-color: #800080\">/</span><span style=\"font-weight: bold\">)</span>: <span style=\"color: #7f7f7f; text-decoration-color: #7f7f7f\">Replace each character in the string using the given translation table.</span> <span style=\"color: #000080; text-decoration-color: #000080\">│</span>\n",
       "<span style=\"color: #000080; text-decoration-color: #000080\">│</span>        <span style=\"color: #808000; text-decoration-color: #808000; font-style: italic\">upper</span> = <span style=\"color: #00ffff; text-decoration-color: #00ffff; font-style: italic\">def </span><span style=\"color: #800000; text-decoration-color: #800000; font-weight: bold\">upper</span><span style=\"font-weight: bold\">()</span>: <span style=\"color: #7f7f7f; text-decoration-color: #7f7f7f\">Return a copy of the string converted to uppercase.</span>                                 <span style=\"color: #000080; text-decoration-color: #000080\">│</span>\n",
       "<span style=\"color: #000080; text-decoration-color: #000080\">│</span>        <span style=\"color: #808000; text-decoration-color: #808000; font-style: italic\">zfill</span> = <span style=\"color: #00ffff; text-decoration-color: #00ffff; font-style: italic\">def </span><span style=\"color: #800000; text-decoration-color: #800000; font-weight: bold\">zfill</span><span style=\"font-weight: bold\">(</span>width, <span style=\"color: #800080; text-decoration-color: #800080\">/</span><span style=\"font-weight: bold\">)</span>: <span style=\"color: #7f7f7f; text-decoration-color: #7f7f7f\">Pad a numeric string with zeros on the left, to fill a field of the given </span>  <span style=\"color: #000080; text-decoration-color: #000080\">│</span>\n",
       "<span style=\"color: #000080; text-decoration-color: #000080\">│</span>                <span style=\"color: #7f7f7f; text-decoration-color: #7f7f7f\">width.</span>                                                                                           <span style=\"color: #000080; text-decoration-color: #000080\">│</span>\n",
       "<span style=\"color: #000080; text-decoration-color: #000080\">╰─────────────────────────────────────────────────────────────────────────────────────────────────────────────────╯</span>\n",
       "</pre>\n"
      ],
      "text/plain": [
       "\u001b[34m╭─\u001b[0m\u001b[34m────────────────────────────────────────────────\u001b[0m\u001b[34m \u001b[0m\u001b[1;34m<\u001b[0m\u001b[1;95mclass\u001b[0m\u001b[39m \u001b[0m\u001b[32m'str'\u001b[0m\u001b[1;34m>\u001b[0m\u001b[34m \u001b[0m\u001b[34m────────────────────────────────────────────────\u001b[0m\u001b[34m─╮\u001b[0m\n",
       "\u001b[34m│\u001b[0m \u001b[1;35mstr\u001b[0m\u001b[1;36m(\u001b[0m\u001b[33mobject\u001b[0m\u001b[36m=\u001b[0m\u001b[32m''\u001b[0m\u001b[1;36m)\u001b[0m\u001b[36m -> str\u001b[0m                                                                                           \u001b[34m│\u001b[0m\n",
       "\u001b[34m│\u001b[0m \u001b[1;35mstr\u001b[0m\u001b[1;36m(\u001b[0m\u001b[36mbytes_or_buffer\u001b[0m\u001b[1;36m[\u001b[0m\u001b[36m, encoding\u001b[0m\u001b[1;36m[\u001b[0m\u001b[36m, errors\u001b[0m\u001b[1;36m]\u001b[0m\u001b[1;36m]\u001b[0m\u001b[1;36m)\u001b[0m\u001b[36m -> str\u001b[0m                                                               \u001b[34m│\u001b[0m\n",
       "\u001b[34m│\u001b[0m                                                                                                                 \u001b[34m│\u001b[0m\n",
       "\u001b[34m│\u001b[0m \u001b[32m╭─────────────────────────────────────────────────────────────────────────────────────────────────────────────╮\u001b[0m \u001b[34m│\u001b[0m\n",
       "\u001b[34m│\u001b[0m \u001b[32m│\u001b[0m \u001b[32m''\u001b[0m                                                                                                          \u001b[32m│\u001b[0m \u001b[34m│\u001b[0m\n",
       "\u001b[34m│\u001b[0m \u001b[32m╰─────────────────────────────────────────────────────────────────────────────────────────────────────────────╯\u001b[0m \u001b[34m│\u001b[0m\n",
       "\u001b[34m│\u001b[0m                                                                                                                 \u001b[34m│\u001b[0m\n",
       "\u001b[34m│\u001b[0m   \u001b[3;33mcapitalize\u001b[0m = \u001b[3;96mdef \u001b[0m\u001b[1;31mcapitalize\u001b[0m\u001b[1m(\u001b[0m\u001b[1m)\u001b[0m: \u001b[2mReturn a capitalized version of the string.\u001b[0m                                    \u001b[34m│\u001b[0m\n",
       "\u001b[34m│\u001b[0m     \u001b[3;33mcasefold\u001b[0m = \u001b[3;96mdef \u001b[0m\u001b[1;31mcasefold\u001b[0m\u001b[1m(\u001b[0m\u001b[1m)\u001b[0m: \u001b[2mReturn a version of the string suitable for caseless comparisons.\u001b[0m                \u001b[34m│\u001b[0m\n",
       "\u001b[34m│\u001b[0m       \u001b[3;33mcenter\u001b[0m = \u001b[3;96mdef \u001b[0m\u001b[1;31mcenter\u001b[0m\u001b[1m(\u001b[0mwidth, \u001b[33mfillchar\u001b[0m=\u001b[32m' '\u001b[0m, \u001b[35m/\u001b[0m\u001b[1m)\u001b[0m: \u001b[2mReturn a centered string of length width.\u001b[0m                    \u001b[34m│\u001b[0m\n",
       "\u001b[34m│\u001b[0m        \u001b[3;33mcount\u001b[0m = \u001b[3;96mdef \u001b[0m\u001b[1;31mcount\u001b[0m\u001b[1m(\u001b[0m\u001b[33m...\u001b[0m\u001b[1m)\u001b[0m \u001b[1;2;35mS.count\u001b[0m\u001b[1;2m(\u001b[0m\u001b[2msub\u001b[0m\u001b[1;2m[\u001b[0m\u001b[2m, start\u001b[0m\u001b[1;2m[\u001b[0m\u001b[2m, end\u001b[0m\u001b[1;2m]\u001b[0m\u001b[1;2m]\u001b[0m\u001b[1;2m)\u001b[0m\u001b[2m -> int\u001b[0m                                               \u001b[34m│\u001b[0m\n",
       "\u001b[34m│\u001b[0m       \u001b[3;33mencode\u001b[0m = \u001b[3;96mdef \u001b[0m\u001b[1;31mencode\u001b[0m\u001b[1m(\u001b[0m\u001b[33mencoding\u001b[0m=\u001b[32m'utf-8'\u001b[0m, \u001b[33merrors\u001b[0m=\u001b[32m'strict'\u001b[0m\u001b[1m)\u001b[0m: \u001b[2mEncode the string using the codec registered for \u001b[0m \u001b[34m│\u001b[0m\n",
       "\u001b[34m│\u001b[0m                \u001b[2mencoding.\u001b[0m                                                                                        \u001b[34m│\u001b[0m\n",
       "\u001b[34m│\u001b[0m     \u001b[3;33mendswith\u001b[0m = \u001b[3;96mdef \u001b[0m\u001b[1;31mendswith\u001b[0m\u001b[1m(\u001b[0m\u001b[33m...\u001b[0m\u001b[1m)\u001b[0m \u001b[1;2;35mS.endswith\u001b[0m\u001b[1;2m(\u001b[0m\u001b[2msuffix\u001b[0m\u001b[1;2m[\u001b[0m\u001b[2m, start\u001b[0m\u001b[1;2m[\u001b[0m\u001b[2m, end\u001b[0m\u001b[1;2m]\u001b[0m\u001b[1;2m]\u001b[0m\u001b[1;2m)\u001b[0m\u001b[2m -> bool\u001b[0m                                     \u001b[34m│\u001b[0m\n",
       "\u001b[34m│\u001b[0m   \u001b[3;33mexpandtabs\u001b[0m = \u001b[3;96mdef \u001b[0m\u001b[1;31mexpandtabs\u001b[0m\u001b[1m(\u001b[0m\u001b[33mtabsize\u001b[0m=\u001b[1;36m8\u001b[0m\u001b[1m)\u001b[0m: \u001b[2mReturn a copy where all tab characters are expanded using spaces.\u001b[0m     \u001b[34m│\u001b[0m\n",
       "\u001b[34m│\u001b[0m         \u001b[3;33mfind\u001b[0m = \u001b[3;96mdef \u001b[0m\u001b[1;31mfind\u001b[0m\u001b[1m(\u001b[0m\u001b[33m...\u001b[0m\u001b[1m)\u001b[0m \u001b[1;2;35mS.find\u001b[0m\u001b[1;2m(\u001b[0m\u001b[2msub\u001b[0m\u001b[1;2m[\u001b[0m\u001b[2m, start\u001b[0m\u001b[1;2m[\u001b[0m\u001b[2m, end\u001b[0m\u001b[1;2m]\u001b[0m\u001b[1;2m]\u001b[0m\u001b[1;2m)\u001b[0m\u001b[2m -> int\u001b[0m                                                 \u001b[34m│\u001b[0m\n",
       "\u001b[34m│\u001b[0m       \u001b[3;33mformat\u001b[0m = \u001b[3;96mdef \u001b[0m\u001b[1;31mformat\u001b[0m\u001b[1m(\u001b[0m\u001b[33m...\u001b[0m\u001b[1m)\u001b[0m \u001b[1;2;35mS.format\u001b[0m\u001b[1;2m(\u001b[0m\u001b[2m*args, **kwargs\u001b[0m\u001b[1;2m)\u001b[0m\u001b[2m -> str\u001b[0m                                                 \u001b[34m│\u001b[0m\n",
       "\u001b[34m│\u001b[0m   \u001b[3;33mformat_map\u001b[0m = \u001b[3;96mdef \u001b[0m\u001b[1;31mformat_map\u001b[0m\u001b[1m(\u001b[0m\u001b[33m...\u001b[0m\u001b[1m)\u001b[0m \u001b[1;2;35mS.format_map\u001b[0m\u001b[1;2m(\u001b[0m\u001b[2mmapping\u001b[0m\u001b[1;2m)\u001b[0m\u001b[2m -> str\u001b[0m                                                 \u001b[34m│\u001b[0m\n",
       "\u001b[34m│\u001b[0m        \u001b[3;33mindex\u001b[0m = \u001b[3;96mdef \u001b[0m\u001b[1;31mindex\u001b[0m\u001b[1m(\u001b[0m\u001b[33m...\u001b[0m\u001b[1m)\u001b[0m \u001b[1;2;35mS.index\u001b[0m\u001b[1;2m(\u001b[0m\u001b[2msub\u001b[0m\u001b[1;2m[\u001b[0m\u001b[2m, start\u001b[0m\u001b[1;2m[\u001b[0m\u001b[2m, end\u001b[0m\u001b[1;2m]\u001b[0m\u001b[1;2m]\u001b[0m\u001b[1;2m)\u001b[0m\u001b[2m -> int\u001b[0m                                               \u001b[34m│\u001b[0m\n",
       "\u001b[34m│\u001b[0m      \u001b[3;33misalnum\u001b[0m = \u001b[3;96mdef \u001b[0m\u001b[1;31misalnum\u001b[0m\u001b[1m(\u001b[0m\u001b[1m)\u001b[0m: \u001b[2mReturn \u001b[0m\u001b[2;3;92mTrue\u001b[0m\u001b[2m if the string is an alpha-numeric string, \u001b[0m\u001b[2;3;91mFalse\u001b[0m\u001b[2m otherwise.\u001b[0m            \u001b[34m│\u001b[0m\n",
       "\u001b[34m│\u001b[0m      \u001b[3;33misalpha\u001b[0m = \u001b[3;96mdef \u001b[0m\u001b[1;31misalpha\u001b[0m\u001b[1m(\u001b[0m\u001b[1m)\u001b[0m: \u001b[2mReturn \u001b[0m\u001b[2;3;92mTrue\u001b[0m\u001b[2m if the string is an alphabetic string, \u001b[0m\u001b[2;3;91mFalse\u001b[0m\u001b[2m otherwise.\u001b[0m               \u001b[34m│\u001b[0m\n",
       "\u001b[34m│\u001b[0m      \u001b[3;33misascii\u001b[0m = \u001b[3;96mdef \u001b[0m\u001b[1;31misascii\u001b[0m\u001b[1m(\u001b[0m\u001b[1m)\u001b[0m: \u001b[2mReturn \u001b[0m\u001b[2;3;92mTrue\u001b[0m\u001b[2m if all characters in the string are ASCII, \u001b[0m\u001b[2;3;91mFalse\u001b[0m\u001b[2m otherwise.\u001b[0m           \u001b[34m│\u001b[0m\n",
       "\u001b[34m│\u001b[0m    \u001b[3;33misdecimal\u001b[0m = \u001b[3;96mdef \u001b[0m\u001b[1;31misdecimal\u001b[0m\u001b[1m(\u001b[0m\u001b[1m)\u001b[0m: \u001b[2mReturn \u001b[0m\u001b[2;3;92mTrue\u001b[0m\u001b[2m if the string is a decimal string, \u001b[0m\u001b[2;3;91mFalse\u001b[0m\u001b[2m otherwise.\u001b[0m                 \u001b[34m│\u001b[0m\n",
       "\u001b[34m│\u001b[0m      \u001b[3;33misdigit\u001b[0m = \u001b[3;96mdef \u001b[0m\u001b[1;31misdigit\u001b[0m\u001b[1m(\u001b[0m\u001b[1m)\u001b[0m: \u001b[2mReturn \u001b[0m\u001b[2;3;92mTrue\u001b[0m\u001b[2m if the string is a digit string, \u001b[0m\u001b[2;3;91mFalse\u001b[0m\u001b[2m otherwise.\u001b[0m                     \u001b[34m│\u001b[0m\n",
       "\u001b[34m│\u001b[0m \u001b[3;33misidentifier\u001b[0m = \u001b[3;96mdef \u001b[0m\u001b[1;31misidentifier\u001b[0m\u001b[1m(\u001b[0m\u001b[1m)\u001b[0m: \u001b[2mReturn \u001b[0m\u001b[2;3;92mTrue\u001b[0m\u001b[2m if the string is a valid Python identifier, \u001b[0m\u001b[2;3;91mFalse\u001b[0m\u001b[2m otherwise.\u001b[0m     \u001b[34m│\u001b[0m\n",
       "\u001b[34m│\u001b[0m      \u001b[3;33mislower\u001b[0m = \u001b[3;96mdef \u001b[0m\u001b[1;31mislower\u001b[0m\u001b[1m(\u001b[0m\u001b[1m)\u001b[0m: \u001b[2mReturn \u001b[0m\u001b[2;3;92mTrue\u001b[0m\u001b[2m if the string is a lowercase string, \u001b[0m\u001b[2;3;91mFalse\u001b[0m\u001b[2m otherwise.\u001b[0m                 \u001b[34m│\u001b[0m\n",
       "\u001b[34m│\u001b[0m    \u001b[3;33misnumeric\u001b[0m = \u001b[3;96mdef \u001b[0m\u001b[1;31misnumeric\u001b[0m\u001b[1m(\u001b[0m\u001b[1m)\u001b[0m: \u001b[2mReturn \u001b[0m\u001b[2;3;92mTrue\u001b[0m\u001b[2m if the string is a numeric string, \u001b[0m\u001b[2;3;91mFalse\u001b[0m\u001b[2m otherwise.\u001b[0m                 \u001b[34m│\u001b[0m\n",
       "\u001b[34m│\u001b[0m  \u001b[3;33misprintable\u001b[0m = \u001b[3;96mdef \u001b[0m\u001b[1;31misprintable\u001b[0m\u001b[1m(\u001b[0m\u001b[1m)\u001b[0m: \u001b[2mReturn \u001b[0m\u001b[2;3;92mTrue\u001b[0m\u001b[2m if the string is printable, \u001b[0m\u001b[2;3;91mFalse\u001b[0m\u001b[2m otherwise.\u001b[0m                      \u001b[34m│\u001b[0m\n",
       "\u001b[34m│\u001b[0m      \u001b[3;33misspace\u001b[0m = \u001b[3;96mdef \u001b[0m\u001b[1;31misspace\u001b[0m\u001b[1m(\u001b[0m\u001b[1m)\u001b[0m: \u001b[2mReturn \u001b[0m\u001b[2;3;92mTrue\u001b[0m\u001b[2m if the string is a whitespace string, \u001b[0m\u001b[2;3;91mFalse\u001b[0m\u001b[2m otherwise.\u001b[0m                \u001b[34m│\u001b[0m\n",
       "\u001b[34m│\u001b[0m      \u001b[3;33mistitle\u001b[0m = \u001b[3;96mdef \u001b[0m\u001b[1;31mistitle\u001b[0m\u001b[1m(\u001b[0m\u001b[1m)\u001b[0m: \u001b[2mReturn \u001b[0m\u001b[2;3;92mTrue\u001b[0m\u001b[2m if the string is a title-cased string, \u001b[0m\u001b[2;3;91mFalse\u001b[0m\u001b[2m otherwise.\u001b[0m               \u001b[34m│\u001b[0m\n",
       "\u001b[34m│\u001b[0m      \u001b[3;33misupper\u001b[0m = \u001b[3;96mdef \u001b[0m\u001b[1;31misupper\u001b[0m\u001b[1m(\u001b[0m\u001b[1m)\u001b[0m: \u001b[2mReturn \u001b[0m\u001b[2;3;92mTrue\u001b[0m\u001b[2m if the string is an uppercase string, \u001b[0m\u001b[2;3;91mFalse\u001b[0m\u001b[2m otherwise.\u001b[0m                \u001b[34m│\u001b[0m\n",
       "\u001b[34m│\u001b[0m         \u001b[3;33mjoin\u001b[0m = \u001b[3;96mdef \u001b[0m\u001b[1;31mjoin\u001b[0m\u001b[1m(\u001b[0miterable, \u001b[35m/\u001b[0m\u001b[1m)\u001b[0m: \u001b[2mConcatenate any number of strings.\u001b[0m                                        \u001b[34m│\u001b[0m\n",
       "\u001b[34m│\u001b[0m        \u001b[3;33mljust\u001b[0m = \u001b[3;96mdef \u001b[0m\u001b[1;31mljust\u001b[0m\u001b[1m(\u001b[0mwidth, \u001b[33mfillchar\u001b[0m=\u001b[32m' '\u001b[0m, \u001b[35m/\u001b[0m\u001b[1m)\u001b[0m: \u001b[2mReturn a left-justified string of length width.\u001b[0m               \u001b[34m│\u001b[0m\n",
       "\u001b[34m│\u001b[0m        \u001b[3;33mlower\u001b[0m = \u001b[3;96mdef \u001b[0m\u001b[1;31mlower\u001b[0m\u001b[1m(\u001b[0m\u001b[1m)\u001b[0m: \u001b[2mReturn a copy of the string converted to lowercase.\u001b[0m                                 \u001b[34m│\u001b[0m\n",
       "\u001b[34m│\u001b[0m       \u001b[3;33mlstrip\u001b[0m = \u001b[3;96mdef \u001b[0m\u001b[1;31mlstrip\u001b[0m\u001b[1m(\u001b[0m\u001b[33mchars\u001b[0m=\u001b[3;35mNone\u001b[0m, \u001b[35m/\u001b[0m\u001b[1m)\u001b[0m: \u001b[2mReturn a copy of the string with leading whitespace removed.\u001b[0m          \u001b[34m│\u001b[0m\n",
       "\u001b[34m│\u001b[0m    \u001b[3;33mmaketrans\u001b[0m = \u001b[3;96mdef \u001b[0m\u001b[1;31mmaketrans\u001b[0m\u001b[1m(\u001b[0m\u001b[33m...\u001b[0m\u001b[1m)\u001b[0m \u001b[2mReturn a translation table usable for \u001b[0m\u001b[1;2;35mstr.translate\u001b[0m\u001b[1;2m(\u001b[0m\u001b[1;2m)\u001b[0m\u001b[2m.\u001b[0m                        \u001b[34m│\u001b[0m\n",
       "\u001b[34m│\u001b[0m    \u001b[3;33mpartition\u001b[0m = \u001b[3;96mdef \u001b[0m\u001b[1;31mpartition\u001b[0m\u001b[1m(\u001b[0msep, \u001b[35m/\u001b[0m\u001b[1m)\u001b[0m: \u001b[2mPartition the string into three parts using the given separator.\u001b[0m          \u001b[34m│\u001b[0m\n",
       "\u001b[34m│\u001b[0m \u001b[3;33mremoveprefix\u001b[0m = \u001b[3;96mdef \u001b[0m\u001b[1;31mremoveprefix\u001b[0m\u001b[1m(\u001b[0mprefix, \u001b[35m/\u001b[0m\u001b[1m)\u001b[0m: \u001b[2mReturn a str with the given prefix string removed if present.\u001b[0m       \u001b[34m│\u001b[0m\n",
       "\u001b[34m│\u001b[0m \u001b[3;33mremovesuffix\u001b[0m = \u001b[3;96mdef \u001b[0m\u001b[1;31mremovesuffix\u001b[0m\u001b[1m(\u001b[0msuffix, \u001b[35m/\u001b[0m\u001b[1m)\u001b[0m: \u001b[2mReturn a str with the given suffix string removed if present.\u001b[0m       \u001b[34m│\u001b[0m\n",
       "\u001b[34m│\u001b[0m      \u001b[3;33mreplace\u001b[0m = \u001b[3;96mdef \u001b[0m\u001b[1;31mreplace\u001b[0m\u001b[1m(\u001b[0mold, new, \u001b[33mcount\u001b[0m=\u001b[1;36m-1\u001b[0m, \u001b[35m/\u001b[0m\u001b[1m)\u001b[0m: \u001b[2mReturn a copy with all occurrences of substring old replaced\u001b[0m \u001b[34m│\u001b[0m\n",
       "\u001b[34m│\u001b[0m                \u001b[2mby new.\u001b[0m                                                                                          \u001b[34m│\u001b[0m\n",
       "\u001b[34m│\u001b[0m        \u001b[3;33mrfind\u001b[0m = \u001b[3;96mdef \u001b[0m\u001b[1;31mrfind\u001b[0m\u001b[1m(\u001b[0m\u001b[33m...\u001b[0m\u001b[1m)\u001b[0m \u001b[1;2;35mS.rfind\u001b[0m\u001b[1;2m(\u001b[0m\u001b[2msub\u001b[0m\u001b[1;2m[\u001b[0m\u001b[2m, start\u001b[0m\u001b[1;2m[\u001b[0m\u001b[2m, end\u001b[0m\u001b[1;2m]\u001b[0m\u001b[1;2m]\u001b[0m\u001b[1;2m)\u001b[0m\u001b[2m -> int\u001b[0m                                               \u001b[34m│\u001b[0m\n",
       "\u001b[34m│\u001b[0m       \u001b[3;33mrindex\u001b[0m = \u001b[3;96mdef \u001b[0m\u001b[1;31mrindex\u001b[0m\u001b[1m(\u001b[0m\u001b[33m...\u001b[0m\u001b[1m)\u001b[0m \u001b[1;2;35mS.rindex\u001b[0m\u001b[1;2m(\u001b[0m\u001b[2msub\u001b[0m\u001b[1;2m[\u001b[0m\u001b[2m, start\u001b[0m\u001b[1;2m[\u001b[0m\u001b[2m, end\u001b[0m\u001b[1;2m]\u001b[0m\u001b[1;2m]\u001b[0m\u001b[1;2m)\u001b[0m\u001b[2m -> int\u001b[0m                                             \u001b[34m│\u001b[0m\n",
       "\u001b[34m│\u001b[0m        \u001b[3;33mrjust\u001b[0m = \u001b[3;96mdef \u001b[0m\u001b[1;31mrjust\u001b[0m\u001b[1m(\u001b[0mwidth, \u001b[33mfillchar\u001b[0m=\u001b[32m' '\u001b[0m, \u001b[35m/\u001b[0m\u001b[1m)\u001b[0m: \u001b[2mReturn a right-justified string of length width.\u001b[0m              \u001b[34m│\u001b[0m\n",
       "\u001b[34m│\u001b[0m   \u001b[3;33mrpartition\u001b[0m = \u001b[3;96mdef \u001b[0m\u001b[1;31mrpartition\u001b[0m\u001b[1m(\u001b[0msep, \u001b[35m/\u001b[0m\u001b[1m)\u001b[0m: \u001b[2mPartition the string into three parts using the given separator.\u001b[0m         \u001b[34m│\u001b[0m\n",
       "\u001b[34m│\u001b[0m       \u001b[3;33mrsplit\u001b[0m = \u001b[3;96mdef \u001b[0m\u001b[1;31mrsplit\u001b[0m\u001b[1m(\u001b[0m\u001b[33msep\u001b[0m=\u001b[3;35mNone\u001b[0m, \u001b[33mmaxsplit\u001b[0m=\u001b[1;36m-1\u001b[0m\u001b[1m)\u001b[0m: \u001b[2mReturn a list of the substrings in the string, using sep as \u001b[0m  \u001b[34m│\u001b[0m\n",
       "\u001b[34m│\u001b[0m                \u001b[2mthe separator string.\u001b[0m                                                                            \u001b[34m│\u001b[0m\n",
       "\u001b[34m│\u001b[0m       \u001b[3;33mrstrip\u001b[0m = \u001b[3;96mdef \u001b[0m\u001b[1;31mrstrip\u001b[0m\u001b[1m(\u001b[0m\u001b[33mchars\u001b[0m=\u001b[3;35mNone\u001b[0m, \u001b[35m/\u001b[0m\u001b[1m)\u001b[0m: \u001b[2mReturn a copy of the string with trailing whitespace removed.\u001b[0m         \u001b[34m│\u001b[0m\n",
       "\u001b[34m│\u001b[0m        \u001b[3;33msplit\u001b[0m = \u001b[3;96mdef \u001b[0m\u001b[1;31msplit\u001b[0m\u001b[1m(\u001b[0m\u001b[33msep\u001b[0m=\u001b[3;35mNone\u001b[0m, \u001b[33mmaxsplit\u001b[0m=\u001b[1;36m-1\u001b[0m\u001b[1m)\u001b[0m: \u001b[2mReturn a list of the substrings in the string, using sep as \u001b[0m   \u001b[34m│\u001b[0m\n",
       "\u001b[34m│\u001b[0m                \u001b[2mthe separator string.\u001b[0m                                                                            \u001b[34m│\u001b[0m\n",
       "\u001b[34m│\u001b[0m   \u001b[3;33msplitlines\u001b[0m = \u001b[3;96mdef \u001b[0m\u001b[1;31msplitlines\u001b[0m\u001b[1m(\u001b[0m\u001b[33mkeepends\u001b[0m=\u001b[3;91mFalse\u001b[0m\u001b[1m)\u001b[0m: \u001b[2mReturn a list of the lines in the string, breaking at line \u001b[0m      \u001b[34m│\u001b[0m\n",
       "\u001b[34m│\u001b[0m                \u001b[2mboundaries.\u001b[0m                                                                                      \u001b[34m│\u001b[0m\n",
       "\u001b[34m│\u001b[0m   \u001b[3;33mstartswith\u001b[0m = \u001b[3;96mdef \u001b[0m\u001b[1;31mstartswith\u001b[0m\u001b[1m(\u001b[0m\u001b[33m...\u001b[0m\u001b[1m)\u001b[0m \u001b[1;2;35mS.startswith\u001b[0m\u001b[1;2m(\u001b[0m\u001b[2mprefix\u001b[0m\u001b[1;2m[\u001b[0m\u001b[2m, start\u001b[0m\u001b[1;2m[\u001b[0m\u001b[2m, end\u001b[0m\u001b[1;2m]\u001b[0m\u001b[1;2m]\u001b[0m\u001b[1;2m)\u001b[0m\u001b[2m -> bool\u001b[0m                                 \u001b[34m│\u001b[0m\n",
       "\u001b[34m│\u001b[0m        \u001b[3;33mstrip\u001b[0m = \u001b[3;96mdef \u001b[0m\u001b[1;31mstrip\u001b[0m\u001b[1m(\u001b[0m\u001b[33mchars\u001b[0m=\u001b[3;35mNone\u001b[0m, \u001b[35m/\u001b[0m\u001b[1m)\u001b[0m: \u001b[2mReturn a copy of the string with leading and trailing whitespace \u001b[0m      \u001b[34m│\u001b[0m\n",
       "\u001b[34m│\u001b[0m                \u001b[2mremoved.\u001b[0m                                                                                         \u001b[34m│\u001b[0m\n",
       "\u001b[34m│\u001b[0m     \u001b[3;33mswapcase\u001b[0m = \u001b[3;96mdef \u001b[0m\u001b[1;31mswapcase\u001b[0m\u001b[1m(\u001b[0m\u001b[1m)\u001b[0m: \u001b[2mConvert uppercase characters to lowercase and lowercase characters to uppercase.\u001b[0m \u001b[34m│\u001b[0m\n",
       "\u001b[34m│\u001b[0m        \u001b[3;33mtitle\u001b[0m = \u001b[3;96mdef \u001b[0m\u001b[1;31mtitle\u001b[0m\u001b[1m(\u001b[0m\u001b[1m)\u001b[0m: \u001b[2mReturn a version of the string where each word is titlecased.\u001b[0m                       \u001b[34m│\u001b[0m\n",
       "\u001b[34m│\u001b[0m    \u001b[3;33mtranslate\u001b[0m = \u001b[3;96mdef \u001b[0m\u001b[1;31mtranslate\u001b[0m\u001b[1m(\u001b[0mtable, \u001b[35m/\u001b[0m\u001b[1m)\u001b[0m: \u001b[2mReplace each character in the string using the given translation table.\u001b[0m \u001b[34m│\u001b[0m\n",
       "\u001b[34m│\u001b[0m        \u001b[3;33mupper\u001b[0m = \u001b[3;96mdef \u001b[0m\u001b[1;31mupper\u001b[0m\u001b[1m(\u001b[0m\u001b[1m)\u001b[0m: \u001b[2mReturn a copy of the string converted to uppercase.\u001b[0m                                 \u001b[34m│\u001b[0m\n",
       "\u001b[34m│\u001b[0m        \u001b[3;33mzfill\u001b[0m = \u001b[3;96mdef \u001b[0m\u001b[1;31mzfill\u001b[0m\u001b[1m(\u001b[0mwidth, \u001b[35m/\u001b[0m\u001b[1m)\u001b[0m: \u001b[2mPad a numeric string with zeros on the left, to fill a field of the given \u001b[0m  \u001b[34m│\u001b[0m\n",
       "\u001b[34m│\u001b[0m                \u001b[2mwidth.\u001b[0m                                                                                           \u001b[34m│\u001b[0m\n",
       "\u001b[34m╰─────────────────────────────────────────────────────────────────────────────────────────────────────────────────╯\u001b[0m\n"
      ]
     },
     "metadata": {},
     "output_type": "display_data"
    }
   ],
   "source": [
    "from rich import inspect\n",
    "inspect(\"\", methods=True)"
   ]
  },
  {
   "cell_type": "code",
   "execution_count": 35,
   "id": "c3c5505c-b3cf-4ec3-8040-bf013261d941",
   "metadata": {},
   "outputs": [
    {
     "data": {
      "text/plain": [
       "True"
      ]
     },
     "execution_count": 35,
     "metadata": {},
     "output_type": "execute_result"
    }
   ],
   "source": [
    "z = \"Text Mining\"\n",
    "z.istitle()"
   ]
  },
  {
   "cell_type": "code",
   "execution_count": 36,
   "id": "32d6a5a9-5090-4612-81e6-553276e46a72",
   "metadata": {},
   "outputs": [
    {
     "name": "stdout",
     "output_type": "stream",
     "text": [
      "The Current Section Of STK 353 Is Text Mining\n"
     ]
    }
   ],
   "source": [
    "if z.istitle():\n",
    "    print(\"The Current Section Of STK 353 Is\" + \" \" + z)"
   ]
  },
  {
   "cell_type": "code",
   "execution_count": 37,
   "id": "72045139-6b50-4061-9d75-86e9fde5412a",
   "metadata": {},
   "outputs": [
    {
     "data": {
      "text/plain": [
       "['Text', 'Mining']"
      ]
     },
     "execution_count": 37,
     "metadata": {},
     "output_type": "execute_result"
    }
   ],
   "source": [
    "# How to split a text with respect to a given character/word?\n",
    "# For example, we want to split a sentence/expression into its words:\n",
    "z.split(' ')"
   ]
  },
  {
   "cell_type": "code",
   "execution_count": 238,
   "id": "7d15a004-62b0-46b7-a2e3-4e545591c8c6",
   "metadata": {},
   "outputs": [
    {
     "data": {
      "text/plain": [
       "['Text M', 'n', 'ng']"
      ]
     },
     "execution_count": 238,
     "metadata": {},
     "output_type": "execute_result"
    }
   ],
   "source": [
    "z.split('i')"
   ]
  },
  {
   "cell_type": "code",
   "execution_count": 43,
   "id": "68b344a9-c5eb-4527-bd66-d368885037ce",
   "metadata": {},
   "outputs": [
    {
     "data": {
      "text/plain": [
       "'Text Mining'"
      ]
     },
     "execution_count": 43,
     "metadata": {},
     "output_type": "execute_result"
    }
   ],
   "source": [
    "# The split() is the opposite of the join():\n",
    "\n",
    "' '.join(z.split(' '))"
   ]
  },
  {
   "cell_type": "code",
   "execution_count": 59,
   "id": "7aab391f-4db0-4e7e-9135-705f66982c97",
   "metadata": {},
   "outputs": [
    {
     "data": {
      "text/plain": [
       "'Pretoria is a big city in South Africa'"
      ]
     },
     "execution_count": 59,
     "metadata": {},
     "output_type": "execute_result"
    }
   ],
   "source": [
    "# To find and replace specific characters in a string:\n",
    "y"
   ]
  },
  {
   "cell_type": "code",
   "execution_count": 69,
   "id": "eda8fd39-bedf-4a8d-bc72-06ad88d6254c",
   "metadata": {},
   "outputs": [
    {
     "data": {
      "text/plain": [
       "'PreToria is a big ciTy in SouTh Africa'"
      ]
     },
     "execution_count": 69,
     "metadata": {},
     "output_type": "execute_result"
    }
   ],
   "source": [
    "y.replace('t', 'T')"
   ]
  },
  {
   "cell_type": "code",
   "execution_count": 72,
   "id": "8d1b91b1-1071-4dbf-8a40-8133d1a39df8",
   "metadata": {},
   "outputs": [
    {
     "data": {
      "text/plain": [
       "'PreTorIa Is a bIg cITy In SouTh AfrIca'"
      ]
     },
     "execution_count": 72,
     "metadata": {},
     "output_type": "execute_result"
    }
   ],
   "source": [
    "# If we want to generalize the replace(), we can \n",
    "chars = {'t': 'T', 'i': 'I'}\n",
    "changes = y.maketrans(chars)\n",
    "y.translate(changes)"
   ]
  },
  {
   "cell_type": "code",
   "execution_count": 73,
   "id": "889ad1c6-c15a-44ff-af0e-c7651374b012",
   "metadata": {},
   "outputs": [
    {
     "data": {
      "text/plain": [
       "{'!': '',\n",
       " '\"': '',\n",
       " '#': '',\n",
       " '$': '',\n",
       " '%': '',\n",
       " '&': '',\n",
       " \"'\": '',\n",
       " '(': '',\n",
       " ')': '',\n",
       " '*': '',\n",
       " '+': '',\n",
       " ',': '',\n",
       " '-': '',\n",
       " '.': '',\n",
       " '/': '',\n",
       " ':': '',\n",
       " ';': '',\n",
       " '<': '',\n",
       " '=': '',\n",
       " '>': '',\n",
       " '?': '',\n",
       " '@': '',\n",
       " '[': '',\n",
       " '\\\\': '',\n",
       " ']': '',\n",
       " '^': '',\n",
       " '_': '',\n",
       " '`': '',\n",
       " '{': '',\n",
       " '|': '',\n",
       " '}': '',\n",
       " '~': ''}"
      ]
     },
     "execution_count": 73,
     "metadata": {},
     "output_type": "execute_result"
    }
   ],
   "source": [
    "# Example: Use the translate() to remove punctuation\n",
    "text = \"[Text Mining], is _one_ of the 'topics' of STK-353\"\n",
    "chars = {x : \"\" for x in string.punctuation}\n",
    "chars"
   ]
  },
  {
   "cell_type": "code",
   "execution_count": 74,
   "id": "cbd6733a-9cc0-477b-90d3-7c1d53550aa7",
   "metadata": {},
   "outputs": [
    {
     "data": {
      "text/plain": [
       "'Text Mining is one of the topics of STK353'"
      ]
     },
     "execution_count": 74,
     "metadata": {},
     "output_type": "execute_result"
    }
   ],
   "source": [
    "changes = text.maketrans(chars)\n",
    "new_text = text.translate(changes)\n",
    "new_text"
   ]
  },
  {
   "cell_type": "code",
   "execution_count": 75,
   "id": "c988e8a0-dcdd-4b32-9671-1c36c6d79690",
   "metadata": {},
   "outputs": [
    {
     "data": {
      "text/plain": [
       "'Text Mining is one of the topics of STK353'"
      ]
     },
     "execution_count": 75,
     "metadata": {},
     "output_type": "execute_result"
    }
   ],
   "source": [
    "# An alternative solution:\n",
    "\n",
    "# The str.maketrans() can also be used with three parameters: \n",
    "# str.maketrans(x, y, z): \n",
    "# x: the old string\n",
    "# y: the new string\n",
    "# z: A string describing which characters to remove from the original string.\n",
    "\n",
    "text.translate(text.maketrans('', '', string.punctuation)) "
   ]
  },
  {
   "cell_type": "code",
   "execution_count": 252,
   "id": "158bf31d-5d60-47c9-a636-7235eaed3068",
   "metadata": {},
   "outputs": [
    {
     "data": {
      "text/plain": [
       "(2, 0)"
      ]
     },
     "execution_count": 252,
     "metadata": {},
     "output_type": "execute_result"
    }
   ],
   "source": [
    "# The frequency of occurrence of a letter/word and its first position:\n",
    "\n",
    "new_text.count('T'), new_text.find('T')"
   ]
  },
  {
   "cell_type": "markdown",
   "id": "26bca342-80a8-429d-8d9b-1fb5c62cbd82",
   "metadata": {},
   "source": [
    "## Working with pandas tools\n",
    "\n",
    "Sometimes, our strings are given by a pandas Series or a data frame. In this case we can also use the str methods given by pandas to tackle with the string columns."
   ]
  },
  {
   "cell_type": "code",
   "execution_count": 76,
   "id": "4a09a0bf-dfb5-457d-91d0-01264a969381",
   "metadata": {},
   "outputs": [
    {
     "data": {
      "text/plain": [
       "0              intro to PYTHON\n",
       "1             Sampling methods\n",
       "2                  text mining\n",
       "3    intro to machine learning\n",
       "4          Supervised learning\n",
       "5        unsupervised learning\n",
       "dtype: object"
      ]
     },
     "execution_count": 76,
     "metadata": {},
     "output_type": "execute_result"
    }
   ],
   "source": [
    "# Let's have a pandas series containing strings:\n",
    "\n",
    "import pandas as pd\n",
    "\n",
    "STK = pd.Series([\n",
    "    \"intro to PYTHON\",\n",
    "    \"Sampling methods\",\n",
    "    \"text mining\",\n",
    "    \"intro to machine learning\",\n",
    "    \"Supervised learning\",\n",
    "    \"unsupervised learning\"\n",
    "])\n",
    "STK"
   ]
  },
  {
   "cell_type": "code",
   "execution_count": 77,
   "id": "ac1aba3c-27a8-4431-959e-e6107810fed6",
   "metadata": {},
   "outputs": [
    {
     "data": {
      "text/plain": [
       "0    15\n",
       "1    16\n",
       "2    11\n",
       "3    25\n",
       "4    19\n",
       "5    21\n",
       "dtype: int64"
      ]
     },
     "execution_count": 77,
     "metadata": {},
     "output_type": "execute_result"
    }
   ],
   "source": [
    "# By using the str methods given by pandas, \n",
    "# we can do almost all of the above methods for strings\n",
    "\n",
    "STK.str.len()"
   ]
  },
  {
   "cell_type": "code",
   "execution_count": 78,
   "id": "65431f28-3736-4aee-8dc6-c9c226ce6a92",
   "metadata": {},
   "outputs": [
    {
     "data": {
      "text/plain": [
       "0              Intro To Python\n",
       "1             Sampling Methods\n",
       "2                  Text Mining\n",
       "3    Intro To Machine Learning\n",
       "4          Supervised Learning\n",
       "5        Unsupervised Learning\n",
       "dtype: object"
      ]
     },
     "execution_count": 78,
     "metadata": {},
     "output_type": "execute_result"
    }
   ],
   "source": [
    "STK = STK.str.title()\n",
    "STK"
   ]
  },
  {
   "cell_type": "code",
   "execution_count": 79,
   "id": "0eee0dff-f9d6-4d52-ae38-ee122a3617cf",
   "metadata": {},
   "outputs": [
    {
     "data": {
      "text/plain": [
       "0    I\n",
       "1    S\n",
       "2    T\n",
       "3    I\n",
       "4    S\n",
       "5    U\n",
       "dtype: object"
      ]
     },
     "execution_count": 79,
     "metadata": {},
     "output_type": "execute_result"
    }
   ],
   "source": [
    "# Getting the ith element of each row by str.get(i)\n",
    "STK.str.get(0)"
   ]
  },
  {
   "cell_type": "code",
   "execution_count": 80,
   "id": "46338afb-2ced-491b-b717-97d9f39311c2",
   "metadata": {},
   "outputs": [
    {
     "data": {
      "text/plain": [
       "0    I\n",
       "1    S\n",
       "2    T\n",
       "3    I\n",
       "4    S\n",
       "5    U\n",
       "dtype: object"
      ]
     },
     "execution_count": 80,
     "metadata": {},
     "output_type": "execute_result"
    }
   ],
   "source": [
    "# An alternative solution:\n",
    "STK.str[0]"
   ]
  },
  {
   "cell_type": "code",
   "execution_count": 82,
   "id": "c5ca77e7-87ad-4c11-b289-351944aaac3d",
   "metadata": {},
   "outputs": [
    {
     "data": {
      "text/plain": [
       "'Intro To Python'"
      ]
     },
     "execution_count": 82,
     "metadata": {},
     "output_type": "execute_result"
    }
   ],
   "source": [
    "# Be careful!\n",
    "STK[0]"
   ]
  },
  {
   "cell_type": "code",
   "execution_count": 83,
   "id": "9072d179-b90e-4edb-b2d1-c676b35f7e8e",
   "metadata": {},
   "outputs": [
    {
     "data": {
      "text/plain": [
       "0    Intro T\n",
       "1    Samplin\n",
       "2    Text Mi\n",
       "3    Intro T\n",
       "4    Supervi\n",
       "5    Unsuper\n",
       "dtype: object"
      ]
     },
     "execution_count": 83,
     "metadata": {},
     "output_type": "execute_result"
    }
   ],
   "source": [
    "# Getting the ith-jth elements of each row by str.slice(i, j)\n",
    "STK.str.slice(0, 7)"
   ]
  },
  {
   "cell_type": "code",
   "execution_count": 84,
   "id": "b93fb1af-d634-41a1-aaf6-8688d990af07",
   "metadata": {},
   "outputs": [
    {
     "data": {
      "text/plain": [
       "0    Intro T\n",
       "1    Samplin\n",
       "2    Text Mi\n",
       "3    Intro T\n",
       "4    Supervi\n",
       "5    Unsuper\n",
       "dtype: object"
      ]
     },
     "execution_count": 84,
     "metadata": {},
     "output_type": "execute_result"
    }
   ],
   "source": [
    "# An alternative solution:\n",
    "STK.str[0:7]"
   ]
  },
  {
   "cell_type": "code",
   "execution_count": 85,
   "id": "c3482e91-1b36-4b02-b17e-33a7be07e94c",
   "metadata": {},
   "outputs": [
    {
     "data": {
      "text/plain": [
       "0               [Intro, To, Python]\n",
       "1               [Sampling, Methods]\n",
       "2                    [Text, Mining]\n",
       "3    [Intro, To, Machine, Learning]\n",
       "4            [Supervised, Learning]\n",
       "5          [Unsupervised, Learning]\n",
       "dtype: object"
      ]
     },
     "execution_count": 85,
     "metadata": {},
     "output_type": "execute_result"
    }
   ],
   "source": [
    "STK.str.split(\" \")"
   ]
  },
  {
   "cell_type": "code",
   "execution_count": 86,
   "id": "6f994c11-1a39-4f4e-a21f-d588e513d86d",
   "metadata": {},
   "outputs": [
    {
     "data": {
      "text/plain": [
       "0              Intro To Python\n",
       "1             Sampling Methods\n",
       "2                  Text Mining\n",
       "3    Intro To Machine Learning\n",
       "4          Supervised Learning\n",
       "5        Unsupervised Learning\n",
       "dtype: object"
      ]
     },
     "execution_count": 86,
     "metadata": {},
     "output_type": "execute_result"
    }
   ],
   "source": [
    "# The get() and slice() methods also let you get the elements of lists returned by split()\n",
    "\n",
    "# Example: Extract the first word of each expression:\n",
    "\n",
    "STK"
   ]
  },
  {
   "cell_type": "code",
   "execution_count": 87,
   "id": "23d15334-09d5-42d3-a21f-f9fbfaae7cf2",
   "metadata": {},
   "outputs": [
    {
     "data": {
      "text/plain": [
       "0     Python\n",
       "1        NaN\n",
       "2        NaN\n",
       "3    Machine\n",
       "4        NaN\n",
       "5        NaN\n",
       "dtype: object"
      ]
     },
     "execution_count": 87,
     "metadata": {},
     "output_type": "execute_result"
    }
   ],
   "source": [
    "STK.str.split(\" \").str.get(2)"
   ]
  },
  {
   "cell_type": "code",
   "execution_count": 88,
   "id": "e03ea871-53e6-45d6-92b6-3a6d899d738c",
   "metadata": {},
   "outputs": [
    {
     "data": {
      "text/plain": [
       "0                 [Intro, To]\n",
       "1         [Sampling, Methods]\n",
       "2              [Text, Mining]\n",
       "3                 [Intro, To]\n",
       "4      [Supervised, Learning]\n",
       "5    [Unsupervised, Learning]\n",
       "dtype: object"
      ]
     },
     "execution_count": 88,
     "metadata": {},
     "output_type": "execute_result"
    }
   ],
   "source": [
    "# Example: Extract the first two words of each expression:\n",
    "\n",
    "STK.str.split(\" \").str.slice(0, 2)"
   ]
  },
  {
   "cell_type": "code",
   "execution_count": 5,
   "id": "d8b76a4f-830b-472c-b1ac-68e85b9f8a2d",
   "metadata": {},
   "outputs": [
    {
     "data": {
      "text/html": [
       "<div>\n",
       "<style scoped>\n",
       "    .dataframe tbody tr th:only-of-type {\n",
       "        vertical-align: middle;\n",
       "    }\n",
       "\n",
       "    .dataframe tbody tr th {\n",
       "        vertical-align: top;\n",
       "    }\n",
       "\n",
       "    .dataframe thead th {\n",
       "        text-align: right;\n",
       "    }\n",
       "</style>\n",
       "<table border=\"1\" class=\"dataframe\">\n",
       "  <thead>\n",
       "    <tr style=\"text-align: right;\">\n",
       "      <th></th>\n",
       "      <th>Review</th>\n",
       "      <th>sentiment</th>\n",
       "    </tr>\n",
       "  </thead>\n",
       "  <tbody>\n",
       "    <tr>\n",
       "      <th>0</th>\n",
       "      <td>So there is no way for me to plug it in here i...</td>\n",
       "      <td>0</td>\n",
       "    </tr>\n",
       "    <tr>\n",
       "      <th>1</th>\n",
       "      <td>Good case, Excellent value.</td>\n",
       "      <td>1</td>\n",
       "    </tr>\n",
       "    <tr>\n",
       "      <th>2</th>\n",
       "      <td>Great for the jawbone.</td>\n",
       "      <td>1</td>\n",
       "    </tr>\n",
       "    <tr>\n",
       "      <th>3</th>\n",
       "      <td>Tied to charger for conversations lasting more...</td>\n",
       "      <td>0</td>\n",
       "    </tr>\n",
       "    <tr>\n",
       "      <th>4</th>\n",
       "      <td>The mic is great.</td>\n",
       "      <td>1</td>\n",
       "    </tr>\n",
       "    <tr>\n",
       "      <th>...</th>\n",
       "      <td>...</td>\n",
       "      <td>...</td>\n",
       "    </tr>\n",
       "    <tr>\n",
       "      <th>995</th>\n",
       "      <td>The screen does get smudged easily because it ...</td>\n",
       "      <td>0</td>\n",
       "    </tr>\n",
       "    <tr>\n",
       "      <th>996</th>\n",
       "      <td>What a piece of junk.. I lose more calls on th...</td>\n",
       "      <td>0</td>\n",
       "    </tr>\n",
       "    <tr>\n",
       "      <th>997</th>\n",
       "      <td>Item Does Not Match Picture.</td>\n",
       "      <td>0</td>\n",
       "    </tr>\n",
       "    <tr>\n",
       "      <th>998</th>\n",
       "      <td>The only thing that disappoint me is the infra...</td>\n",
       "      <td>0</td>\n",
       "    </tr>\n",
       "    <tr>\n",
       "      <th>999</th>\n",
       "      <td>You can not answer calls with the unit, never ...</td>\n",
       "      <td>0</td>\n",
       "    </tr>\n",
       "  </tbody>\n",
       "</table>\n",
       "<p>1000 rows × 2 columns</p>\n",
       "</div>"
      ],
      "text/plain": [
       "                                                Review  sentiment\n",
       "0    So there is no way for me to plug it in here i...          0\n",
       "1                          Good case, Excellent value.          1\n",
       "2                               Great for the jawbone.          1\n",
       "3    Tied to charger for conversations lasting more...          0\n",
       "4                                    The mic is great.          1\n",
       "..                                                 ...        ...\n",
       "995  The screen does get smudged easily because it ...          0\n",
       "996  What a piece of junk.. I lose more calls on th...          0\n",
       "997                       Item Does Not Match Picture.          0\n",
       "998  The only thing that disappoint me is the infra...          0\n",
       "999  You can not answer calls with the unit, never ...          0\n",
       "\n",
       "[1000 rows x 2 columns]"
      ]
     },
     "execution_count": 5,
     "metadata": {},
     "output_type": "execute_result"
    }
   ],
   "source": [
    "# Now, let's work with a pandas data frame which is read using the read_csv().\n",
    "# The 'amazon_cells_labelled.txt' is well-known in text mining. It contains the comments of 1000 customers \n",
    "# When we have a data frame, we should call the desired column first and then use the above methods:\n",
    "import pandas as pd\n",
    "import os\n",
    "os.chdir(\"/Users/marcusnkadimeng/Downloads/stk353/Notes/Text Mining/27 September\")\n",
    "amazon_df = pd.read_csv(\"amazon_cells_labelled.txt\", delimiter='\\t', header=None, names=['Review', 'sentiment'])\n",
    "amazon_df"
   ]
  },
  {
   "cell_type": "code",
   "execution_count": 6,
   "id": "0492a843-c7fa-424b-bf8e-7ea4641677c6",
   "metadata": {},
   "outputs": [
    {
     "data": {
      "text/plain": [
       "0      82\n",
       "1      27\n",
       "2      22\n",
       "3      79\n",
       "4      17\n",
       "       ..\n",
       "995    72\n",
       "996    55\n",
       "997    28\n",
       "998    63\n",
       "999    58\n",
       "Name: Review, Length: 1000, dtype: int64"
      ]
     },
     "execution_count": 6,
     "metadata": {},
     "output_type": "execute_result"
    }
   ],
   "source": [
    "amazon_df[\"Review\"].str.len()"
   ]
  },
  {
   "cell_type": "code",
   "execution_count": 7,
   "id": "d20dcd0e-0d6c-4b53-9ddd-5882ebea2a72",
   "metadata": {},
   "outputs": [
    {
     "data": {
      "text/plain": [
       "0      82\n",
       "1      27\n",
       "2      22\n",
       "3      79\n",
       "4      17\n",
       "       ..\n",
       "995    72\n",
       "996    55\n",
       "997    28\n",
       "998    63\n",
       "999    58\n",
       "Name: Review, Length: 1000, dtype: int64"
      ]
     },
     "execution_count": 7,
     "metadata": {},
     "output_type": "execute_result"
    }
   ],
   "source": [
    "# An alternative way:\n",
    "\n",
    "amazon_df.Review.str.len()"
   ]
  },
  {
   "cell_type": "code",
   "execution_count": 8,
   "id": "3725797d-74ab-4854-b224-545737e0ba2f",
   "metadata": {},
   "outputs": [
    {
     "data": {
      "text/plain": [
       "0      SO THERE IS NO WAY FOR ME TO PLUG IT IN HERE I...\n",
       "1                            GOOD CASE, EXCELLENT VALUE.\n",
       "2                                 GREAT FOR THE JAWBONE.\n",
       "3      TIED TO CHARGER FOR CONVERSATIONS LASTING MORE...\n",
       "4                                      THE MIC IS GREAT.\n",
       "                             ...                        \n",
       "995    THE SCREEN DOES GET SMUDGED EASILY BECAUSE IT ...\n",
       "996    WHAT A PIECE OF JUNK.. I LOSE MORE CALLS ON TH...\n",
       "997                         ITEM DOES NOT MATCH PICTURE.\n",
       "998    THE ONLY THING THAT DISAPPOINT ME IS THE INFRA...\n",
       "999    YOU CAN NOT ANSWER CALLS WITH THE UNIT, NEVER ...\n",
       "Name: Review, Length: 1000, dtype: object"
      ]
     },
     "execution_count": 8,
     "metadata": {},
     "output_type": "execute_result"
    }
   ],
   "source": [
    "amazon_df[\"Review\"].str.upper()"
   ]
  },
  {
   "cell_type": "code",
   "execution_count": 84,
   "id": "1efd62cf-01ef-4f24-8b2e-53d09f9d6320",
   "metadata": {},
   "outputs": [
    {
     "data": {
      "text/plain": [
       "0      [So, there, is, no, way, for, me, to, plug, it...\n",
       "1                       [Good, case,, Excellent, value.]\n",
       "2                            [Great, for, the, jawbone.]\n",
       "3      [Tied, to, charger, for, conversations, lastin...\n",
       "4                                 [The, mic, is, great.]\n",
       "                             ...                        \n",
       "995    [The, screen, does, get, smudged, easily, beca...\n",
       "996    [What, a, piece, of, junk.., I, lose, more, ca...\n",
       "997                   [Item, Does, Not, Match, Picture.]\n",
       "998    [The, only, thing, that, disappoint, me, is, t...\n",
       "999    [You, can, not, answer, calls, with, the, unit...\n",
       "Name: Review, Length: 1000, dtype: object"
      ]
     },
     "execution_count": 84,
     "metadata": {},
     "output_type": "execute_result"
    }
   ],
   "source": [
    "amazon_df[\"Review\"].str.split(\" \")\n"
   ]
  },
  {
   "cell_type": "code",
   "execution_count": 10,
   "id": "a23be507-e362-422c-b6c4-f3ced9750a9a",
   "metadata": {},
   "outputs": [
    {
     "data": {
      "text/html": [
       "<div>\n",
       "<style scoped>\n",
       "    .dataframe tbody tr th:only-of-type {\n",
       "        vertical-align: middle;\n",
       "    }\n",
       "\n",
       "    .dataframe tbody tr th {\n",
       "        vertical-align: top;\n",
       "    }\n",
       "\n",
       "    .dataframe thead th {\n",
       "        text-align: right;\n",
       "    }\n",
       "</style>\n",
       "<table border=\"1\" class=\"dataframe\">\n",
       "  <thead>\n",
       "    <tr style=\"text-align: right;\">\n",
       "      <th></th>\n",
       "      <th>0</th>\n",
       "      <th>1</th>\n",
       "      <th>2</th>\n",
       "      <th>3</th>\n",
       "    </tr>\n",
       "  </thead>\n",
       "  <tbody>\n",
       "    <tr>\n",
       "      <th>0</th>\n",
       "      <td>So</td>\n",
       "      <td>there</td>\n",
       "      <td>is</td>\n",
       "      <td>no way for me to plug it in here in the US unl...</td>\n",
       "    </tr>\n",
       "    <tr>\n",
       "      <th>1</th>\n",
       "      <td>Good</td>\n",
       "      <td>case,</td>\n",
       "      <td>Excellent</td>\n",
       "      <td>value.</td>\n",
       "    </tr>\n",
       "    <tr>\n",
       "      <th>2</th>\n",
       "      <td>Great</td>\n",
       "      <td>for</td>\n",
       "      <td>the</td>\n",
       "      <td>jawbone.</td>\n",
       "    </tr>\n",
       "    <tr>\n",
       "      <th>3</th>\n",
       "      <td>Tied</td>\n",
       "      <td>to</td>\n",
       "      <td>charger</td>\n",
       "      <td>for conversations lasting more than 45 minutes...</td>\n",
       "    </tr>\n",
       "    <tr>\n",
       "      <th>4</th>\n",
       "      <td>The</td>\n",
       "      <td>mic</td>\n",
       "      <td>is</td>\n",
       "      <td>great.</td>\n",
       "    </tr>\n",
       "    <tr>\n",
       "      <th>...</th>\n",
       "      <td>...</td>\n",
       "      <td>...</td>\n",
       "      <td>...</td>\n",
       "      <td>...</td>\n",
       "    </tr>\n",
       "    <tr>\n",
       "      <th>995</th>\n",
       "      <td>The</td>\n",
       "      <td>screen</td>\n",
       "      <td>does</td>\n",
       "      <td>get smudged easily because it touches your ear...</td>\n",
       "    </tr>\n",
       "    <tr>\n",
       "      <th>996</th>\n",
       "      <td>What</td>\n",
       "      <td>a</td>\n",
       "      <td>piece</td>\n",
       "      <td>of junk.. I lose more calls on this phone.</td>\n",
       "    </tr>\n",
       "    <tr>\n",
       "      <th>997</th>\n",
       "      <td>Item</td>\n",
       "      <td>Does</td>\n",
       "      <td>Not</td>\n",
       "      <td>Match Picture.</td>\n",
       "    </tr>\n",
       "    <tr>\n",
       "      <th>998</th>\n",
       "      <td>The</td>\n",
       "      <td>only</td>\n",
       "      <td>thing</td>\n",
       "      <td>that disappoint me is the infra red port (irda).</td>\n",
       "    </tr>\n",
       "    <tr>\n",
       "      <th>999</th>\n",
       "      <td>You</td>\n",
       "      <td>can</td>\n",
       "      <td>not</td>\n",
       "      <td>answer calls with the unit, never worked once!</td>\n",
       "    </tr>\n",
       "  </tbody>\n",
       "</table>\n",
       "<p>1000 rows × 4 columns</p>\n",
       "</div>"
      ],
      "text/plain": [
       "         0       1          2  \\\n",
       "0       So   there         is   \n",
       "1     Good   case,  Excellent   \n",
       "2    Great     for        the   \n",
       "3     Tied      to    charger   \n",
       "4      The     mic         is   \n",
       "..     ...     ...        ...   \n",
       "995    The  screen       does   \n",
       "996   What       a      piece   \n",
       "997   Item    Does        Not   \n",
       "998    The    only      thing   \n",
       "999    You     can        not   \n",
       "\n",
       "                                                     3  \n",
       "0    no way for me to plug it in here in the US unl...  \n",
       "1                                               value.  \n",
       "2                                             jawbone.  \n",
       "3    for conversations lasting more than 45 minutes...  \n",
       "4                                               great.  \n",
       "..                                                 ...  \n",
       "995  get smudged easily because it touches your ear...  \n",
       "996         of junk.. I lose more calls on this phone.  \n",
       "997                                     Match Picture.  \n",
       "998   that disappoint me is the infra red port (irda).  \n",
       "999     answer calls with the unit, never worked once!  \n",
       "\n",
       "[1000 rows x 4 columns]"
      ]
     },
     "execution_count": 10,
     "metadata": {},
     "output_type": "execute_result"
    }
   ],
   "source": [
    "amazon_df[\"Review\"].str.split(\" \", n=3, expand=True)"
   ]
  },
  {
   "cell_type": "code",
   "execution_count": 11,
   "id": "e97d96ee-1057-411d-8d3d-0c1effb0516e",
   "metadata": {},
   "outputs": [
    {
     "data": {
      "text/plain": [
       "0      21\n",
       "1       4\n",
       "2       4\n",
       "3      11\n",
       "4       4\n",
       "       ..\n",
       "995    13\n",
       "996    12\n",
       "997     5\n",
       "998    12\n",
       "999    11\n",
       "Name: Review, Length: 1000, dtype: int64"
      ]
     },
     "execution_count": 11,
     "metadata": {},
     "output_type": "execute_result"
    }
   ],
   "source": [
    "# Counting the number of words in each row\n",
    "amazon_df.Review.str.count(\" \") + 1"
   ]
  },
  {
   "cell_type": "code",
   "execution_count": 12,
   "id": "6121bc8c-b291-44fa-97ef-e9b22a06b266",
   "metadata": {},
   "outputs": [
    {
     "data": {
      "text/plain": [
       "0      21\n",
       "1       4\n",
       "2       4\n",
       "3      11\n",
       "4       4\n",
       "       ..\n",
       "995    13\n",
       "996    12\n",
       "997     5\n",
       "998    12\n",
       "999    11\n",
       "Name: Review, Length: 1000, dtype: int64"
      ]
     },
     "execution_count": 12,
     "metadata": {},
     "output_type": "execute_result"
    }
   ],
   "source": [
    "# The second approach\n",
    "amazon_df.Review.str.split(\" \").apply(len)"
   ]
  },
  {
   "cell_type": "code",
   "execution_count": null,
   "id": "e74c7051-692e-4ffb-92b4-ea8d88573884",
   "metadata": {},
   "outputs": [],
   "source": [
    "# How does apply() work?"
   ]
  },
  {
   "cell_type": "markdown",
   "id": "79f18026-5b07-4673-bfc5-5e1af63d3a65",
   "metadata": {},
   "source": [
    "## Corpus Analysis and preprocessing large text data sets\n",
    "We’ve seen how to work with individual strings. But often we want to work with a group of strings, otherwise known as a corpus, that is a collection of texts. It could be a collection of words, sentences and paragraphs. Before we dive into analyzing text, we need to clean it first. Text data contains redundant ingredients like white spaces, punctuations, and stop words. These characters do not have valuable information. For example, English stop words like “the”, \"a\", “is” etc. do not tell you much information about the sentiment of the text, entities mentioned in the text, or relationships between those entities."
   ]
  },
  {
   "cell_type": "markdown",
   "id": "c3411da8-1350-4a71-bdc7-8d8da1700bd4",
   "metadata": {},
   "source": [
    "Thus, we will carry out the following steps to ensure that the text mining in Python we are dealing with is clean:\n",
    "\n",
    "-1) Convert the text to lower case, so that words like “Text” and “text” are considered the same word for analysis\n",
    "\n",
    "-2) Remove punctuations e.g “,”, “?”, etc\n",
    "\n",
    "-3) Remove English stopwords e.g “the”, “is”, “of”, etc. These stopword lists are already compiled for different languages and we can safely use them. For example, the stopword list for English language from the _nltk_ package can be seen below.\n",
    "\n",
    "-4) Stemming the text: reducing inflected words to their word stem, base or root form. For instance changing “city”, “cities”, and “city’s” to “city”. This can also help with different verb tenses with the same semantic meaning such as obtain, obtaining, and obtains."
   ]
  },
  {
   "cell_type": "code",
   "execution_count": 2,
   "id": "49043348-5408-4a9b-bba7-2f43915f4000",
   "metadata": {},
   "outputs": [
    {
     "name": "stdout",
     "output_type": "stream",
     "text": [
      "i, me, my, myself, we, our, ours, ourselves, you, you're, you've, you'll, you'd, your, yours, yourself, yourselves, he, him, his, himself, she, she's, her, hers, herself, it, it's, its, itself, they, them, their, theirs, themselves, what, which, who, whom, this, that, that'll, these, those, am, is, are, was, were, be, been, being, have, has, had, having, do, does, did, doing, a, an, the, and, but, if, or, because, as, until, while, of, at, by, for, with, about, against, between, into, through, during, before, after, above, below, to, from, up, down, in, out, on, off, over, under, again, further, then, once, here, there, when, where, why, how, all, any, both, each, few, more, most, other, some, such, no, nor, not, only, own, same, so, than, too, very, s, t, can, will, just, don, don't, should, should've, now, d, ll, m, o, re, ve, y, ain, aren, aren't, couldn, couldn't, didn, didn't, doesn, doesn't, hadn, hadn't, hasn, hasn't, haven, haven't, isn, isn't, ma, mightn, mightn't, mustn, mustn't, needn, needn't, shan, shan't, shouldn, shouldn't, wasn, wasn't, weren, weren't, won, won't, wouldn, wouldn't\n"
     ]
    }
   ],
   "source": [
    "# We have already seen how to eliminate punctuations and also to convert the text to lowercase. So, let's continue with stopwords:\n",
    "\n",
    "# Stopwords:\n",
    "from nltk.corpus import stopwords\n",
    "\n",
    "stopwords_list = stopwords.words('english')\n",
    "stopwords_string = \", \".join(stopwords_list)\n",
    "\n",
    "print(stopwords_string)"
   ]
  },
  {
   "cell_type": "code",
   "execution_count": 3,
   "id": "3dd534bb-b930-4872-8027-5e9482e12c74",
   "metadata": {},
   "outputs": [
    {
     "data": {
      "text/plain": [
       "'listen news.'"
      ]
     },
     "execution_count": 3,
     "metadata": {},
     "output_type": "execute_result"
    }
   ],
   "source": [
    "# Removing stopwords\n",
    "\n",
    "from nltk.corpus import stopwords\n",
    "\n",
    "STOPWORDS = set(stopwords.words('english'))\n",
    "\n",
    "def rm_stopwords(text):\n",
    "    return \" \".join([word for word in text.split() if word not in STOPWORDS])\n",
    "    \n",
    "mytext = \"me and you listen to the news.\"\n",
    "rm_stopwords(mytext)"
   ]
  },
  {
   "cell_type": "code",
   "execution_count": 362,
   "id": "252c06e6-4d75-4211-90c3-4e69696a154d",
   "metadata": {},
   "outputs": [
    {
     "data": {
      "text/html": [
       "<div>\n",
       "<style scoped>\n",
       "    .dataframe tbody tr th:only-of-type {\n",
       "        vertical-align: middle;\n",
       "    }\n",
       "\n",
       "    .dataframe tbody tr th {\n",
       "        vertical-align: top;\n",
       "    }\n",
       "\n",
       "    .dataframe thead th {\n",
       "        text-align: right;\n",
       "    }\n",
       "</style>\n",
       "<table border=\"1\" class=\"dataframe\">\n",
       "  <thead>\n",
       "    <tr style=\"text-align: right;\">\n",
       "      <th></th>\n",
       "      <th>Review</th>\n",
       "      <th>sentiment</th>\n",
       "      <th>without_stopwords</th>\n",
       "    </tr>\n",
       "  </thead>\n",
       "  <tbody>\n",
       "    <tr>\n",
       "      <th>0</th>\n",
       "      <td>So there is no way for me to plug it in here i...</td>\n",
       "      <td>0</td>\n",
       "      <td>So way plug US unless I go converter.</td>\n",
       "    </tr>\n",
       "    <tr>\n",
       "      <th>1</th>\n",
       "      <td>Good case, Excellent value.</td>\n",
       "      <td>1</td>\n",
       "      <td>Good case, Excellent value.</td>\n",
       "    </tr>\n",
       "    <tr>\n",
       "      <th>2</th>\n",
       "      <td>Great for the jawbone.</td>\n",
       "      <td>1</td>\n",
       "      <td>Great jawbone.</td>\n",
       "    </tr>\n",
       "    <tr>\n",
       "      <th>3</th>\n",
       "      <td>Tied to charger for conversations lasting more...</td>\n",
       "      <td>0</td>\n",
       "      <td>Tied charger conversations lasting 45 minutes....</td>\n",
       "    </tr>\n",
       "    <tr>\n",
       "      <th>4</th>\n",
       "      <td>The mic is great.</td>\n",
       "      <td>1</td>\n",
       "      <td>The mic great.</td>\n",
       "    </tr>\n",
       "    <tr>\n",
       "      <th>...</th>\n",
       "      <td>...</td>\n",
       "      <td>...</td>\n",
       "      <td>...</td>\n",
       "    </tr>\n",
       "    <tr>\n",
       "      <th>995</th>\n",
       "      <td>The screen does get smudged easily because it ...</td>\n",
       "      <td>0</td>\n",
       "      <td>The screen get smudged easily touches ear face.</td>\n",
       "    </tr>\n",
       "    <tr>\n",
       "      <th>996</th>\n",
       "      <td>What a piece of junk.. I lose more calls on th...</td>\n",
       "      <td>0</td>\n",
       "      <td>What piece junk.. I lose calls phone.</td>\n",
       "    </tr>\n",
       "    <tr>\n",
       "      <th>997</th>\n",
       "      <td>Item Does Not Match Picture.</td>\n",
       "      <td>0</td>\n",
       "      <td>Item Does Not Match Picture.</td>\n",
       "    </tr>\n",
       "    <tr>\n",
       "      <th>998</th>\n",
       "      <td>The only thing that disappoint me is the infra...</td>\n",
       "      <td>0</td>\n",
       "      <td>The thing disappoint infra red port (irda).</td>\n",
       "    </tr>\n",
       "    <tr>\n",
       "      <th>999</th>\n",
       "      <td>You can not answer calls with the unit, never ...</td>\n",
       "      <td>0</td>\n",
       "      <td>You answer calls unit, never worked once!</td>\n",
       "    </tr>\n",
       "  </tbody>\n",
       "</table>\n",
       "<p>1000 rows × 3 columns</p>\n",
       "</div>"
      ],
      "text/plain": [
       "                                                Review  sentiment   \n",
       "0    So there is no way for me to plug it in here i...          0  \\\n",
       "1                          Good case, Excellent value.          1   \n",
       "2                               Great for the jawbone.          1   \n",
       "3    Tied to charger for conversations lasting more...          0   \n",
       "4                                    The mic is great.          1   \n",
       "..                                                 ...        ...   \n",
       "995  The screen does get smudged easily because it ...          0   \n",
       "996  What a piece of junk.. I lose more calls on th...          0   \n",
       "997                       Item Does Not Match Picture.          0   \n",
       "998  The only thing that disappoint me is the infra...          0   \n",
       "999  You can not answer calls with the unit, never ...          0   \n",
       "\n",
       "                                     without_stopwords  \n",
       "0                So way plug US unless I go converter.  \n",
       "1                          Good case, Excellent value.  \n",
       "2                                       Great jawbone.  \n",
       "3    Tied charger conversations lasting 45 minutes....  \n",
       "4                                       The mic great.  \n",
       "..                                                 ...  \n",
       "995    The screen get smudged easily touches ear face.  \n",
       "996              What piece junk.. I lose calls phone.  \n",
       "997                       Item Does Not Match Picture.  \n",
       "998        The thing disappoint infra red port (irda).  \n",
       "999          You answer calls unit, never worked once!  \n",
       "\n",
       "[1000 rows x 3 columns]"
      ]
     },
     "execution_count": 362,
     "metadata": {},
     "output_type": "execute_result"
    }
   ],
   "source": [
    "amazon_df['without_stopwords'] = amazon_df.Review.apply(lambda x: rm_stopwords(x))\n",
    "amazon_df"
   ]
  },
  {
   "cell_type": "code",
   "execution_count": 13,
   "id": "4b130c3e-9978-42ce-aa59-93f29d0239b1",
   "metadata": {},
   "outputs": [
    {
     "data": {
      "text/plain": [
       "'activ'"
      ]
     },
     "execution_count": 13,
     "metadata": {},
     "output_type": "execute_result"
    }
   ],
   "source": [
    "# Stemming a text\n",
    "\n",
    "from nltk.stem import PorterStemmer\n",
    "pst = PorterStemmer()\n",
    "pst.stem(\"activities\")"
   ]
  },
  {
   "cell_type": "code",
   "execution_count": 20,
   "id": "b4203bd6-8806-41a7-ac86-b635c1d9a51c",
   "metadata": {},
   "outputs": [
    {
     "data": {
      "text/plain": [
       "'activity'"
      ]
     },
     "execution_count": 20,
     "metadata": {},
     "output_type": "execute_result"
    }
   ],
   "source": [
    "# Lemmatizing a text\n",
    "from nltk.stem import WordNetLemmatizer\n",
    "\n",
    "lemmatizer = WordNetLemmatizer() \n",
    " \n",
    "lemmatizer.lemmatize(\"activities\")"
   ]
  },
  {
   "cell_type": "code",
   "execution_count": 23,
   "id": "db68cd8d-30f9-4d6a-bdc5-35df14d1c3a6",
   "metadata": {},
   "outputs": [
    {
     "name": "stdout",
     "output_type": "stream",
     "text": [
      "['[', 'Text', 'Mining', ']', ',', 'as', 'a', 'branch', 'of', 'data', 'mining', ',', 'is', '_one_', 'of', 'the', \"'topics\", \"'\", 'of', 'STK-353', '.', 'The', 'text', 'data', 'are', 'types', 'of', 'unstructured', 'data', '.']\n"
     ]
    }
   ],
   "source": [
    "# If we want to stem or lemmatize a sentence, we should first tokenize it, then do stemming/lemmatizing:\n",
    "\n",
    "# Example: Stem the following sentence:\n",
    "\n",
    "text = \"[Text Mining], as a branch of data mining, is _one_ of the 'topics' of STK-353. The text data are types of unstructured data. \"\n",
    "\n",
    "# First, we need to split the text into its words/tokens. We can do it via split() method or alternatively \n",
    "# we can use the word_tokenize() which is defined for this specific purpose.\n",
    "\n",
    "\n",
    "from nltk.tokenize import word_tokenize\n",
    "token = word_tokenize(text)\n",
    "print(token)"
   ]
  },
  {
   "cell_type": "code",
   "execution_count": 24,
   "id": "53977d65-d8c9-4d6e-b653-1fefabcf2500",
   "metadata": {},
   "outputs": [
    {
     "data": {
      "text/plain": [
       "\"[ text mine ] , as a branch of data mine , is _one_ of the 'topic ' of stk-353 . the text data are type of unstructur data .\""
      ]
     },
     "execution_count": 24,
     "metadata": {},
     "output_type": "execute_result"
    }
   ],
   "source": [
    "pst = PorterStemmer()\n",
    "\" \".join([pst.stem(x) for x in token])"
   ]
  },
  {
   "cell_type": "code",
   "execution_count": 25,
   "id": "4beeb732-591d-48ce-9dc4-7c4ba14355ec",
   "metadata": {},
   "outputs": [
    {
     "data": {
      "text/plain": [
       "FreqDist({'of': 4, 'data': 3, 'text': 2, 'mining': 2, ',': 2, 'the': 2, '.': 2, '[': 1, ']': 1, 'as': 1, ...})"
      ]
     },
     "execution_count": 25,
     "metadata": {},
     "output_type": "execute_result"
    }
   ],
   "source": [
    "# Finally: Obtaining the frequency table of the words:\n",
    "\n",
    "# Example: Obtain the frequency table of the words of the above sentence.\n",
    "\n",
    "# Solution: It is best to do all of the above 4 preprocessing steps, but, here, let's do only lowercasing.\n",
    "text_lo = text.lower()\n",
    "\n",
    "# First we need to tokenize the text:\n",
    "\n",
    "from nltk.tokenize import word_tokenize\n",
    "\n",
    "token = word_tokenize(text_lo)\n",
    "\n",
    "# Now by using FreqDist() we can reach our goal.\n",
    "from nltk.probability import FreqDist\n",
    "\n",
    "fdist = FreqDist(token)\n",
    "fdist"
   ]
  },
  {
   "cell_type": "code",
   "execution_count": 26,
   "id": "95aa49a5-7280-4958-b837-240c0fc284ee",
   "metadata": {},
   "outputs": [
    {
     "data": {
      "text/plain": [
       "[('of', 4), ('data', 3), ('text', 2), ('mining', 2), (',', 2)]"
      ]
     },
     "execution_count": 26,
     "metadata": {},
     "output_type": "execute_result"
    }
   ],
   "source": [
    "# To find the frequency of top 10 words\n",
    "fdist.most_common(5)"
   ]
  },
  {
   "cell_type": "markdown",
   "id": "7fb4b75d-09b3-4f5e-803d-36c83b4e3027",
   "metadata": {},
   "source": [
    "## Visualization of text data using the _wordcloud_ graph\n",
    "\n",
    "In this section, we will see how can we deal with a real data set from the preprocessing step to the visualisation part. Let's back to our _amazon_df_ dataset. In a word cloud, the size of a word typically represents its frequency or importance within a given text or dataset. The bigger the word in a word cloud, the higher its frequency or significance. "
   ]
  },
  {
   "cell_type": "code",
   "execution_count": 27,
   "id": "8a6d883a-5fbd-47e0-8ba5-bd9bdb37a488",
   "metadata": {},
   "outputs": [
    {
     "data": {
      "text/plain": [
       "0                         way plug us unless go convert\n",
       "1                                  good case excel valu\n",
       "2                                          great jawbon\n",
       "3      tie charger convers last 45 minutesmajor problem\n",
       "4                                             mic great\n",
       "                             ...                       \n",
       "995              screen get smudg easili touch ear face\n",
       "996                           piec junk lose call phone\n",
       "997                                   item match pictur\n",
       "998                thing disappoint infra red port irda\n",
       "999                         answer call unit never work\n",
       "Name: Review, Length: 1000, dtype: object"
      ]
     },
     "execution_count": 27,
     "metadata": {},
     "output_type": "execute_result"
    }
   ],
   "source": [
    "import string\n",
    "from nltk.tokenize import word_tokenize\n",
    "from nltk.stem import PorterStemmer\n",
    "\n",
    "txt = amazon_df.Review\n",
    "\n",
    "# Step 1:  Convert the text to lowercase\n",
    "txt_lo = txt.str.lower()\n",
    "\n",
    "# Step 2: Removing punctuation\n",
    "def rm_punctuation(row):\n",
    "    return row.translate(row.maketrans('', '', string.punctuation)) \n",
    "\n",
    "txt_wo_punc = txt_lo.apply(lambda x: rm_punctuation(x))\n",
    "\n",
    "# Step 3: Removing stopwords\n",
    "txt_wo_stwd = txt_wo_punc.apply(lambda x: rm_stopwords(x))\n",
    "\n",
    "# Step 4: Stemming or lemmatization\n",
    "from nltk.tokenize import word_tokenize\n",
    "from nltk.stem import PorterStemmer\n",
    "\n",
    "def stemfunc(row):\n",
    "    token = word_tokenize(row)\n",
    "    pst = PorterStemmer()\n",
    "    return \" \".join([pst.stem(x) for x in token])\n",
    "\n",
    "txt_stem = txt_wo_stwd.apply(lambda x: stemfunc(x))\n",
    "txt_stem"
   ]
  },
  {
   "cell_type": "code",
   "execution_count": 29,
   "id": "fb924cbe-30dc-4516-83dc-3e85b82c59c7",
   "metadata": {},
   "outputs": [
    {
     "data": {
      "text/plain": [
       "32544"
      ]
     },
     "execution_count": 29,
     "metadata": {},
     "output_type": "execute_result"
    }
   ],
   "source": [
    "# concatenate the rows\n",
    "final_txt = ''\n",
    "for i in txt_stem.index:\n",
    "    final_txt = final_txt + \" \" + txt_stem[i]\n",
    "    \n",
    "len(final_txt)"
   ]
  },
  {
   "cell_type": "code",
   "execution_count": 30,
   "id": "7727f4aa-0423-4f73-9c60-61e80573a115",
   "metadata": {},
   "outputs": [
    {
     "data": {
      "text/plain": [
       "FreqDist({'phone': 173, 'work': 112, 'great': 97, 'good': 75, 'use': 71, 'product': 56, 'headset': 55, 'qualiti': 49, 'batteri': 47, 'sound': 45, ...})"
      ]
     },
     "execution_count": 30,
     "metadata": {},
     "output_type": "execute_result"
    }
   ],
   "source": [
    "from nltk.probability import FreqDist\n",
    "fdist = FreqDist(word_tokenize(final_txt))\n",
    "fdist"
   ]
  },
  {
   "cell_type": "code",
   "execution_count": 31,
   "id": "38880186-80cc-4708-a769-e787f63a842f",
   "metadata": {},
   "outputs": [
    {
     "data": {
      "text/plain": [
       "[('phone', 173),\n",
       " ('work', 112),\n",
       " ('great', 97),\n",
       " ('good', 75),\n",
       " ('use', 71),\n",
       " ('product', 56),\n",
       " ('headset', 55),\n",
       " ('qualiti', 49),\n",
       " ('batteri', 47),\n",
       " ('sound', 45)]"
      ]
     },
     "execution_count": 31,
     "metadata": {},
     "output_type": "execute_result"
    }
   ],
   "source": [
    "fdist.most_common(10)"
   ]
  },
  {
   "cell_type": "code",
   "execution_count": 34,
   "id": "ab6b917d-2a69-4ac0-a113-58889ef9cb21",
   "metadata": {},
   "outputs": [
    {
     "data": {
      "text/plain": [
       "(-0.5, 799.5, 799.5, -0.5)"
      ]
     },
     "execution_count": 34,
     "metadata": {},
     "output_type": "execute_result"
    },
    {
     "data": {
      "image/png": "[encoded data removed]",
      "text/plain": [
       "<Figure size 600x600 with 1 Axes>"
      ]
     },
     "metadata": {},
     "output_type": "display_data"
    }
   ],
   "source": [
    "from wordcloud import WordCloud\n",
    "import matplotlib.pyplot as plt\n",
    "\n",
    "wordcloud = WordCloud(width = 800, height = 800,\n",
    "                background_color ='white',\n",
    "                min_font_size = 10).generate(final_txt)\n",
    " \n",
    "# plot the WordCloud image                      \n",
    "plt.figure(figsize = (6, 6), facecolor = None)\n",
    "plt.imshow(wordcloud)\n",
    "plt.axis(\"off\")\n"
   ]
  },
  {
   "cell_type": "markdown",
   "id": "da911f42-182b-4dfa-ad84-b84dcba53bd2",
   "metadata": {},
   "source": [
    "## Sentiment Analysis\n",
    "\n",
    "The aim of the sentiment analysis is to understand the sentiment conveyed in text, whether it is positive, negative, or even neutral. It can be applied to social media posts, customer reviews, news articles, and many more.\n",
    "\n",
    "The output of sentiment analysis is often a sentiment score that indicates being positive, negative, or neutral of the text.\n",
    "Besides these three scores in sentiment analysis, there is another score called the compound score. It is a metric representing the overall sentiment expressed in a text. It is a single value that combines the positive, negative, and neutral sentiment scores into a normalized and aggregated score.\n",
    "\n",
    "The compound score ranges from -1 to +1, where:\n",
    "\n",
    "- A score of -1 indicates extremely negative sentiment.\n",
    "- A score of +1 indicates extremely positive sentiment.\n",
    "- A score of 0 indicates neutral sentiment."
   ]
  },
  {
   "cell_type": "code",
   "execution_count": 37,
   "id": "e4b3ce2d-8d14-4516-92b1-09c18e702a80",
   "metadata": {},
   "outputs": [
    {
     "data": {
      "text/plain": [
       "{'neg': 0.0, 'neu': 0.595, 'pos': 0.405, 'compound': 0.8169}"
      ]
     },
     "execution_count": 37,
     "metadata": {},
     "output_type": "execute_result"
    }
   ],
   "source": [
    "# Example: Do the sentiment analysis on the following comment:\n",
    "\n",
    "newcomments = \"We love STK353 module, specifically its text mining Chapter which is really interesting!\"\n",
    "\n",
    "\n",
    "import nltk\n",
    "from nltk.sentiment import SentimentIntensityAnalyzer\n",
    "\n",
    "# First we should initialize the sentiment analyzer:\n",
    "sent_analyzer = SentimentIntensityAnalyzer()\n",
    "\n",
    "# Then, perform the sentiment analysis:\n",
    "sentiment_scores = sent_analyzer.polarity_scores(newcomments)\n",
    "\n",
    "sentiment_scores"
   ]
  },
  {
   "cell_type": "code",
   "execution_count": 38,
   "id": "3431a0cc-22e2-48f6-8a82-ad2a0cb6f077",
   "metadata": {},
   "outputs": [
    {
     "data": {
      "text/plain": [
       "0.8169"
      ]
     },
     "execution_count": 38,
     "metadata": {},
     "output_type": "execute_result"
    }
   ],
   "source": [
    "# If we want to have only one index from the sentiment analysis, we can use the compound score as below:\n",
    "sentiment_scores['compound']"
   ]
  },
  {
   "cell_type": "code",
   "execution_count": 40,
   "id": "87130bab-7725-4b6f-9d84-8b1cbe6d6700",
   "metadata": {},
   "outputs": [
    {
     "data": {
      "text/plain": [
       "0     -0.3535\n",
       "1      0.8402\n",
       "2      0.6249\n",
       "3     -0.6145\n",
       "4      0.6249\n",
       "        ...  \n",
       "995    0.3400\n",
       "996   -0.4019\n",
       "997    0.0000\n",
       "998   -0.4019\n",
       "999    0.0000\n",
       "Name: Review, Length: 1000, dtype: float64"
      ]
     },
     "execution_count": 40,
     "metadata": {},
     "output_type": "execute_result"
    }
   ],
   "source": [
    "# Example: a) Apply the sentiment analysis on the comments given by the _amazon_df_ dataframe:\n",
    "\n",
    "import nltk\n",
    "from nltk.sentiment import SentimentIntensityAnalyzer\n",
    "\n",
    "sent_analyzer = SentimentIntensityAnalyzer()\n",
    "\n",
    "def analizer(text):\n",
    "    sentiment_scores = sent_analyzer.polarity_scores(text)\n",
    "    return sentiment_scores['compound']\n",
    "\n",
    "result = amazon_df.Review.apply(analizer)\n",
    "result"
   ]
  },
  {
   "cell_type": "code",
   "execution_count": 41,
   "id": "8efb6ce7-e367-4bd0-9359-01b16cc2c3f0",
   "metadata": {},
   "outputs": [
    {
     "data": {
      "image/png": "[encoded data removed]",
      "text/plain": [
       "<Figure size 1000x400 with 1 Axes>"
      ]
     },
     "metadata": {},
     "output_type": "display_data"
    }
   ],
   "source": [
    "# b) Visualize the result of the sentiment analysis:\n",
    "\n",
    "import matplotlib.pyplot as plt\n",
    "\n",
    "plt.figure(figsize=(10, 4))\n",
    "plt.hist(result, bins = 30)\n",
    "plt.show()"
   ]
  },
  {
   "cell_type": "code",
   "execution_count": 42,
   "id": "aa71ddac-3beb-4216-b4b4-3862c041c7a3",
   "metadata": {},
   "outputs": [
    {
     "data": {
      "text/html": [
       "<div>\n",
       "<style scoped>\n",
       "    .dataframe tbody tr th:only-of-type {\n",
       "        vertical-align: middle;\n",
       "    }\n",
       "\n",
       "    .dataframe tbody tr th {\n",
       "        vertical-align: top;\n",
       "    }\n",
       "\n",
       "    .dataframe thead th {\n",
       "        text-align: right;\n",
       "    }\n",
       "</style>\n",
       "<table border=\"1\" class=\"dataframe\">\n",
       "  <thead>\n",
       "    <tr style=\"text-align: right;\">\n",
       "      <th></th>\n",
       "      <th>Review</th>\n",
       "    </tr>\n",
       "  </thead>\n",
       "  <tbody>\n",
       "    <tr>\n",
       "      <th>count</th>\n",
       "      <td>1000.000000</td>\n",
       "    </tr>\n",
       "    <tr>\n",
       "      <th>mean</th>\n",
       "      <td>0.137342</td>\n",
       "    </tr>\n",
       "    <tr>\n",
       "      <th>std</th>\n",
       "      <td>0.452209</td>\n",
       "    </tr>\n",
       "    <tr>\n",
       "      <th>min</th>\n",
       "      <td>-0.925300</td>\n",
       "    </tr>\n",
       "    <tr>\n",
       "      <th>25%</th>\n",
       "      <td>-0.271600</td>\n",
       "    </tr>\n",
       "    <tr>\n",
       "      <th>50%</th>\n",
       "      <td>0.000000</td>\n",
       "    </tr>\n",
       "    <tr>\n",
       "      <th>75%</th>\n",
       "      <td>0.571900</td>\n",
       "    </tr>\n",
       "    <tr>\n",
       "      <th>max</th>\n",
       "      <td>0.953800</td>\n",
       "    </tr>\n",
       "  </tbody>\n",
       "</table>\n",
       "</div>"
      ],
      "text/plain": [
       "            Review\n",
       "count  1000.000000\n",
       "mean      0.137342\n",
       "std       0.452209\n",
       "min      -0.925300\n",
       "25%      -0.271600\n",
       "50%       0.000000\n",
       "75%       0.571900\n",
       "max       0.953800"
      ]
     },
     "execution_count": 42,
     "metadata": {},
     "output_type": "execute_result"
    }
   ],
   "source": [
    "# c) Present a summary of statistical indexes of the sentiment analysis results:\n",
    "import pandas as pd\n",
    "pd.DataFrame(result).describe()"
   ]
  },
  {
   "cell_type": "code",
   "execution_count": 43,
   "id": "c0e4f54b-ac5f-4037-9608-5fc3676a7a1e",
   "metadata": {},
   "outputs": [
    {
     "data": {
      "text/html": [
       "<div>\n",
       "<style scoped>\n",
       "    .dataframe tbody tr th:only-of-type {\n",
       "        vertical-align: middle;\n",
       "    }\n",
       "\n",
       "    .dataframe tbody tr th {\n",
       "        vertical-align: top;\n",
       "    }\n",
       "\n",
       "    .dataframe thead th {\n",
       "        text-align: right;\n",
       "    }\n",
       "</style>\n",
       "<table border=\"1\" class=\"dataframe\">\n",
       "  <thead>\n",
       "    <tr style=\"text-align: right;\">\n",
       "      <th></th>\n",
       "      <th>Review</th>\n",
       "      <th>sentiment</th>\n",
       "      <th>Our_Sentiment_Analyze</th>\n",
       "    </tr>\n",
       "  </thead>\n",
       "  <tbody>\n",
       "    <tr>\n",
       "      <th>0</th>\n",
       "      <td>So there is no way for me to plug it in here i...</td>\n",
       "      <td>0</td>\n",
       "      <td>0</td>\n",
       "    </tr>\n",
       "    <tr>\n",
       "      <th>1</th>\n",
       "      <td>Good case, Excellent value.</td>\n",
       "      <td>1</td>\n",
       "      <td>1</td>\n",
       "    </tr>\n",
       "    <tr>\n",
       "      <th>2</th>\n",
       "      <td>Great for the jawbone.</td>\n",
       "      <td>1</td>\n",
       "      <td>1</td>\n",
       "    </tr>\n",
       "    <tr>\n",
       "      <th>3</th>\n",
       "      <td>Tied to charger for conversations lasting more...</td>\n",
       "      <td>0</td>\n",
       "      <td>0</td>\n",
       "    </tr>\n",
       "    <tr>\n",
       "      <th>4</th>\n",
       "      <td>The mic is great.</td>\n",
       "      <td>1</td>\n",
       "      <td>1</td>\n",
       "    </tr>\n",
       "    <tr>\n",
       "      <th>...</th>\n",
       "      <td>...</td>\n",
       "      <td>...</td>\n",
       "      <td>...</td>\n",
       "    </tr>\n",
       "    <tr>\n",
       "      <th>995</th>\n",
       "      <td>The screen does get smudged easily because it ...</td>\n",
       "      <td>0</td>\n",
       "      <td>1</td>\n",
       "    </tr>\n",
       "    <tr>\n",
       "      <th>996</th>\n",
       "      <td>What a piece of junk.. I lose more calls on th...</td>\n",
       "      <td>0</td>\n",
       "      <td>0</td>\n",
       "    </tr>\n",
       "    <tr>\n",
       "      <th>997</th>\n",
       "      <td>Item Does Not Match Picture.</td>\n",
       "      <td>0</td>\n",
       "      <td>0</td>\n",
       "    </tr>\n",
       "    <tr>\n",
       "      <th>998</th>\n",
       "      <td>The only thing that disappoint me is the infra...</td>\n",
       "      <td>0</td>\n",
       "      <td>0</td>\n",
       "    </tr>\n",
       "    <tr>\n",
       "      <th>999</th>\n",
       "      <td>You can not answer calls with the unit, never ...</td>\n",
       "      <td>0</td>\n",
       "      <td>0</td>\n",
       "    </tr>\n",
       "  </tbody>\n",
       "</table>\n",
       "<p>1000 rows × 3 columns</p>\n",
       "</div>"
      ],
      "text/plain": [
       "                                                Review  sentiment  \\\n",
       "0    So there is no way for me to plug it in here i...          0   \n",
       "1                          Good case, Excellent value.          1   \n",
       "2                               Great for the jawbone.          1   \n",
       "3    Tied to charger for conversations lasting more...          0   \n",
       "4                                    The mic is great.          1   \n",
       "..                                                 ...        ...   \n",
       "995  The screen does get smudged easily because it ...          0   \n",
       "996  What a piece of junk.. I lose more calls on th...          0   \n",
       "997                       Item Does Not Match Picture.          0   \n",
       "998  The only thing that disappoint me is the infra...          0   \n",
       "999  You can not answer calls with the unit, never ...          0   \n",
       "\n",
       "     Our_Sentiment_Analyze  \n",
       "0                        0  \n",
       "1                        1  \n",
       "2                        1  \n",
       "3                        0  \n",
       "4                        1  \n",
       "..                     ...  \n",
       "995                      1  \n",
       "996                      0  \n",
       "997                      0  \n",
       "998                      0  \n",
       "999                      0  \n",
       "\n",
       "[1000 rows x 3 columns]"
      ]
     },
     "execution_count": 43,
     "metadata": {},
     "output_type": "execute_result"
    }
   ],
   "source": [
    "# Add a binary column indicating the sentiment analysis results to the main dataframe:\n",
    "\n",
    "Binary_result = result.apply(lambda x: 1 if x > 0 else 0)\n",
    "amazon_df[\"Our_Sentiment_Analyze\"] = Binary_result\n",
    "amazon_df"
   ]
  }
 ],
 "metadata": {
  "kernelspec": {
   "display_name": "Python 3 (ipykernel)",
   "language": "python",
   "name": "python3"
  },
  "language_info": {
   "codemirror_mode": {
    "name": "ipython",
    "version": 3
   },
   "file_extension": ".py",
   "mimetype": "text/x-python",
   "name": "python",
   "nbconvert_exporter": "python",
   "pygments_lexer": "ipython3",
   "version": "3.11.3"
  }
 },
 "nbformat": 4,
 "nbformat_minor": 5
}
