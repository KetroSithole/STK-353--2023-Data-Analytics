{
 "cells": [
  {
   "cell_type": "markdown",
   "id": "96f11631",
   "metadata": {},
   "source": [
    "# Functions \n",
    "## Using the map function with the function & vector\n",
    "\n",
    "Suppose someone earns an income of R65000 and is taxed in the following manner: The first R10000 is not taxed, the next R20000 is taxed at a rate of 15% and the rest at a rate of 25%. How much tax does this person pay?"
   ]
  },
  {
   "cell_type": "code",
   "execution_count": 1,
   "id": "17dbe48e",
   "metadata": {},
   "outputs": [
    {
     "data": {
      "text/plain": [
       "11750.0"
      ]
     },
     "execution_count": 1,
     "metadata": {},
     "output_type": "execute_result"
    }
   ],
   "source": [
    "tax = 0                                  # initialise tax to be paid to 0\n",
    "income = 65000                           # predefine a value for income\n",
    "\n",
    "def taxed(income):\n",
    "    \n",
    "    if income<=10000:\n",
    "        tax = 0\n",
    "        \n",
    "    elif income<=30000:\n",
    "        t_inc = 30000-10000\n",
    "        \n",
    "        tax = t_inc*0.15\n",
    "        \n",
    "    else:\n",
    "        tax = 20000*0.15\n",
    "        tax += (income-30000)*0.25\n",
    "        \n",
    "    return tax                           # return value at the end of function\n",
    "\n",
    "\n",
    "taxed(65000)                             # test out the fucntion with a value of 65000"
   ]
  },
  {
   "cell_type": "code",
   "execution_count": 10,
   "id": "0b17a1c5",
   "metadata": {},
   "outputs": [
    {
     "name": "stdout",
     "output_type": "stream",
     "text": [
      "[24250.0, 14250.0, 3000.0, 0, 10500.0]\n"
     ]
    }
   ],
   "source": [
    "salaries = [115000, 75000, 24000, 9000, 60000]          # define vector of salries to be taxed\n",
    "\n",
    "taxes = list(map(taxed ,salaries))                      # use map() function to apply function over each element in the vector\n",
    "                                                        # and use the list() function to create a list object.\n",
    "\n",
    "print(taxes)"
   ]
  },
  {
   "cell_type": "code",
   "execution_count": null,
   "id": "403a4fd5",
   "metadata": {},
   "outputs": [],
   "source": []
  }
 ],
 "metadata": {
  "kernelspec": {
   "display_name": "Python 3 (ipykernel)",
   "language": "python",
   "name": "python3"
  },
  "language_info": {
   "codemirror_mode": {
    "name": "ipython",
    "version": 3
   },
   "file_extension": ".py",
   "mimetype": "text/x-python",
   "name": "python",
   "nbconvert_exporter": "python",
   "pygments_lexer": "ipython3",
   "version": "3.11.3"
  }
 },
 "nbformat": 4,
 "nbformat_minor": 5
}
