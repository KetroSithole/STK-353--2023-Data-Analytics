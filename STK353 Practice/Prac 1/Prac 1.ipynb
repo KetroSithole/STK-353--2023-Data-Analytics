{
 "cells": [
  {
   "cell_type": "markdown",
   "id": "1ca73cc0",
   "metadata": {},
   "source": [
    "# Practical 1"
   ]
  },
  {
   "cell_type": "markdown",
   "id": "cf5eb358",
   "metadata": {},
   "source": [
    "## Algorithms practice"
   ]
  },
  {
   "cell_type": "markdown",
   "id": "628904fe",
   "metadata": {},
   "source": [
    "###### Given two integer return their product only if the product is less than or equal to 500, else return their sum."
   ]
  },
  {
   "cell_type": "code",
   "execution_count": 1,
   "id": "ac4b1d2b",
   "metadata": {},
   "outputs": [
    {
     "name": "stdout",
     "output_type": "stream",
     "text": [
      "First set result:\n",
      "375\n",
      "Second set result:\n",
      "80\n"
     ]
    }
   ],
   "source": [
    "def example1(int1, int2):\n",
    "    prod = int1*int2\n",
    "    \n",
    "    if prod <= 500:\n",
    "        return prod\n",
    "        \n",
    "    else:\n",
    "        return int1 + int2\n",
    "\n",
    "    \n",
    "\n",
    "print(\"First set result:\")\n",
    "print(example1(15,25))\n",
    "\n",
    "print(\"Second set result:\")\n",
    "print(example1(20,60))"
   ]
  },
  {
   "cell_type": "markdown",
   "id": "eb47afea",
   "metadata": {},
   "source": [
    "###### Using the following list of numbers  [15, 23, 25, 37, 41, 60] print only those numbers which are divisible by 5. (Hint: Use a loop)"
   ]
  },
  {
   "cell_type": "code",
   "execution_count": 2,
   "id": "e9b68d8e",
   "metadata": {},
   "outputs": [
    {
     "name": "stdout",
     "output_type": "stream",
     "text": [
      "15\n",
      "25\n",
      "60\n"
     ]
    }
   ],
   "source": [
    "num_list = [15, 23, 25, 37, 41, 60]\n",
    "\n",
    "for num in num_list:\n",
    "    if num % 5 == 0:\n",
    "        print(num)"
   ]
  },
  {
   "cell_type": "markdown",
   "id": "a03fe1c4",
   "metadata": {},
   "source": [
    "###### Write a program to iterate the first 10 numbers, and in each iteration, print the sum of the current and previous number."
   ]
  },
  {
   "cell_type": "code",
   "execution_count": 5,
   "id": "11021929",
   "metadata": {},
   "outputs": [
    {
     "name": "stdout",
     "output_type": "stream",
     "text": [
      "Sum:  0\n",
      "Sum:  1\n",
      "Sum:  3\n",
      "Sum:  5\n",
      "Sum:  7\n",
      "Sum:  9\n",
      "Sum:  11\n",
      "Sum:  13\n",
      "Sum:  15\n",
      "Sum:  17\n",
      "Sum:  19\n"
     ]
    }
   ],
   "source": [
    "prev = 0\n",
    "\n",
    "for i in range(0, 11):\n",
    "    sum = prev + i\n",
    "    print(\"Sum: \", sum)\n",
    "    prev = i"
   ]
  },
  {
   "cell_type": "markdown",
   "id": "b229a84f",
   "metadata": {},
   "source": [
    "###### Using while loops print 10 numbers with different starting values"
   ]
  },
  {
   "cell_type": "markdown",
   "id": "33e8f3d3",
   "metadata": {},
   "source": [
    "Starting value : 1"
   ]
  },
  {
   "cell_type": "markdown",
   "id": "35ca79cd",
   "metadata": {},
   "source": [
    "Starting value : 15"
   ]
  },
  {
   "cell_type": "code",
   "execution_count": 6,
   "id": "4f27ea61",
   "metadata": {},
   "outputs": [
    {
     "name": "stdout",
     "output_type": "stream",
     "text": [
      "1\n",
      "2\n",
      "3\n",
      "4\n",
      "5\n",
      "6\n",
      "7\n",
      "8\n",
      "9\n",
      "10\n"
     ]
    }
   ],
   "source": [
    "i = 1\n",
    "n10 = i + 9\n",
    "\n",
    "while i <= n10:\n",
    "    print(i)\n",
    "    i += 1\n",
    "\n"
   ]
  },
  {
   "cell_type": "code",
   "execution_count": 7,
   "id": "333ebb52",
   "metadata": {},
   "outputs": [
    {
     "name": "stdout",
     "output_type": "stream",
     "text": [
      "15\n",
      "16\n",
      "17\n",
      "18\n",
      "19\n",
      "20\n",
      "21\n",
      "22\n",
      "23\n",
      "24\n"
     ]
    }
   ],
   "source": [
    "i = 15\n",
    "n10 = i + 9\n",
    "\n",
    "while i <= n10:\n",
    "    print(i)\n",
    "    i += 1\n",
    "    "
   ]
  },
  {
   "cell_type": "markdown",
   "id": "530f6f2f",
   "metadata": {},
   "source": [
    "### While loops are continuous until reaching a specified stopping point!!!"
   ]
  },
  {
   "cell_type": "markdown",
   "id": "02087d08",
   "metadata": {},
   "source": [
    "###### Calculate Julie's income tax for R65 000 by adhering to these rules: The first R10 000 income is not taxed, the next R20 000 is taxed 15% and the remaining is taxed 25%. "
   ]
  },
  {
   "cell_type": "code",
   "execution_count": 8,
   "id": "acff1814",
   "metadata": {},
   "outputs": [
    {
     "name": "stdout",
     "output_type": "stream",
     "text": [
      "14250.0\n",
      "14250.0\n",
      "2250.0\n"
     ]
    }
   ],
   "source": [
    "inc = 75000\n",
    "tax = 0\n",
    "\n",
    "if inc <= 10000: #Initial 10 000\n",
    "    tax = 0\n",
    "    \n",
    "elif inc <= 30000:\n",
    "    taxable = inc - 10000 #Take out initial 10 000\n",
    "        \n",
    "    tax = taxable * 0.15\n",
    "        \n",
    "else:\n",
    "        \n",
    "    tax = 20000 * 0.15\n",
    "        \n",
    "    tax += (inc - 30000) * 0.25\n",
    "        \n",
    "print(tax)\n",
    "\n",
    "def tax(income):\n",
    "    \n",
    "    if income <= 10000: #Initial 10 000\n",
    "        tax = 0\n",
    "        \n",
    "        \n",
    "    \n",
    "    elif income <= 30000:\n",
    "        taxable = income - 10000 #Take out initial 10 000\n",
    "        \n",
    "        tax = taxable * 0.15\n",
    "        \n",
    "    else:\n",
    "        \n",
    "        tax = 20000 * 0.15\n",
    "        \n",
    "        tax += (income - 30000) * 0.25\n",
    "        \n",
    "    \n",
    "    return tax\n",
    "    \n",
    "print(tax(75000))\n",
    "print(tax(25000))\n",
    "    "
   ]
  },
  {
   "cell_type": "markdown",
   "id": "8a61eb91",
   "metadata": {},
   "source": [
    "###### Write a program to count the total number of digits in a number using a while loop."
   ]
  },
  {
   "cell_type": "code",
   "execution_count": 9,
   "id": "0a572390",
   "metadata": {},
   "outputs": [
    {
     "name": "stdout",
     "output_type": "stream",
     "text": [
      "4\n",
      "7\n"
     ]
    }
   ],
   "source": [
    "num1 = 3752\n",
    "count = 0\n",
    "\n",
    "while num1 != 0:\n",
    "    # Take the last digit out of the number given by using '//'\n",
    "    num1 = num1 // 10\n",
    "    \n",
    "    count = count + 1\n",
    "    \n",
    "print(count)\n",
    "\n",
    "num2 = 1598321\n",
    "count = 0\n",
    "\n",
    "while num2 != 0:\n",
    "    num2 = num2 // 10\n",
    "    \n",
    "    count = count + 1\n",
    "    \n",
    "print(count)"
   ]
  },
  {
   "cell_type": "code",
   "execution_count": null,
   "id": "2a80800c",
   "metadata": {},
   "outputs": [],
   "source": []
  }
 ],
 "metadata": {
  "kernelspec": {
   "display_name": "Python 3 (ipykernel)",
   "language": "python",
   "name": "python3"
  },
  "language_info": {
   "codemirror_mode": {
    "name": "ipython",
    "version": 3
   },
   "file_extension": ".py",
   "mimetype": "text/x-python",
   "name": "python",
   "nbconvert_exporter": "python",
   "pygments_lexer": "ipython3",
   "version": "3.11.3"
  }
 },
 "nbformat": 4,
 "nbformat_minor": 5
}
