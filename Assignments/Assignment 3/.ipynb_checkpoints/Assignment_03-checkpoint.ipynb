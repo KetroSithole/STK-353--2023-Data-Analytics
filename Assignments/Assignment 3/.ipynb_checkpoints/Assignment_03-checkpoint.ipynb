{
 "cells": [
  {
   "cell_type": "markdown",
   "id": "c6abc2ad-a3df-426b-90da-4b70682dcb52",
   "metadata": {},
   "source": [
    "# Assignment 3\n",
    "\n",
    "**Assignment 3 consists of just 1 question with 6 parts. Its due date is Thursday, 26 October 2023 (before 11:30 AM). After providing the notebook, you will be asked to complete a quiz which is based on Assignment 3. The quiz will be during the lecture time on Thursday, 26th of October 2023 (11:30 AM - 12:20 AM).**\n",
    "\n",
    "## Question\n",
    "\n",
    "\n",
    "\n",
    "Consider the following dataset (it needs the **internet connection** to be downloaded):"
   ]
  },
  {
   "cell_type": "code",
   "execution_count": 3,
   "id": "f3369988-dd30-4d17-b603-017665de1b73",
   "metadata": {},
   "outputs": [
    {
     "data": {
      "text/html": [
       "<div>\n",
       "<style scoped>\n",
       "    .dataframe tbody tr th:only-of-type {\n",
       "        vertical-align: middle;\n",
       "    }\n",
       "\n",
       "    .dataframe tbody tr th {\n",
       "        vertical-align: top;\n",
       "    }\n",
       "\n",
       "    .dataframe thead th {\n",
       "        text-align: right;\n",
       "    }\n",
       "</style>\n",
       "<table border=\"1\" class=\"dataframe\">\n",
       "  <thead>\n",
       "    <tr style=\"text-align: right;\">\n",
       "      <th></th>\n",
       "      <th>MedInc</th>\n",
       "      <th>HouseAge</th>\n",
       "      <th>AveRooms</th>\n",
       "      <th>AveBedrms</th>\n",
       "      <th>Population</th>\n",
       "      <th>AveOccup</th>\n",
       "      <th>Latitude</th>\n",
       "      <th>Longitude</th>\n",
       "      <th>MedHouseVal</th>\n",
       "    </tr>\n",
       "  </thead>\n",
       "  <tbody>\n",
       "    <tr>\n",
       "      <th>0</th>\n",
       "      <td>8.3252</td>\n",
       "      <td>41.0</td>\n",
       "      <td>6.984127</td>\n",
       "      <td>1.023810</td>\n",
       "      <td>322.0</td>\n",
       "      <td>2.555556</td>\n",
       "      <td>37.88</td>\n",
       "      <td>-122.23</td>\n",
       "      <td>4.526</td>\n",
       "    </tr>\n",
       "    <tr>\n",
       "      <th>1</th>\n",
       "      <td>8.3014</td>\n",
       "      <td>21.0</td>\n",
       "      <td>6.238137</td>\n",
       "      <td>0.971880</td>\n",
       "      <td>2401.0</td>\n",
       "      <td>2.109842</td>\n",
       "      <td>37.86</td>\n",
       "      <td>-122.22</td>\n",
       "      <td>3.585</td>\n",
       "    </tr>\n",
       "    <tr>\n",
       "      <th>2</th>\n",
       "      <td>7.2574</td>\n",
       "      <td>52.0</td>\n",
       "      <td>8.288136</td>\n",
       "      <td>1.073446</td>\n",
       "      <td>496.0</td>\n",
       "      <td>2.802260</td>\n",
       "      <td>37.85</td>\n",
       "      <td>-122.24</td>\n",
       "      <td>3.521</td>\n",
       "    </tr>\n",
       "    <tr>\n",
       "      <th>3</th>\n",
       "      <td>5.6431</td>\n",
       "      <td>52.0</td>\n",
       "      <td>5.817352</td>\n",
       "      <td>1.073059</td>\n",
       "      <td>558.0</td>\n",
       "      <td>2.547945</td>\n",
       "      <td>37.85</td>\n",
       "      <td>-122.25</td>\n",
       "      <td>3.413</td>\n",
       "    </tr>\n",
       "    <tr>\n",
       "      <th>4</th>\n",
       "      <td>3.8462</td>\n",
       "      <td>52.0</td>\n",
       "      <td>6.281853</td>\n",
       "      <td>1.081081</td>\n",
       "      <td>565.0</td>\n",
       "      <td>2.181467</td>\n",
       "      <td>37.85</td>\n",
       "      <td>-122.25</td>\n",
       "      <td>3.422</td>\n",
       "    </tr>\n",
       "    <tr>\n",
       "      <th>...</th>\n",
       "      <td>...</td>\n",
       "      <td>...</td>\n",
       "      <td>...</td>\n",
       "      <td>...</td>\n",
       "      <td>...</td>\n",
       "      <td>...</td>\n",
       "      <td>...</td>\n",
       "      <td>...</td>\n",
       "      <td>...</td>\n",
       "    </tr>\n",
       "    <tr>\n",
       "      <th>20635</th>\n",
       "      <td>1.5603</td>\n",
       "      <td>25.0</td>\n",
       "      <td>5.045455</td>\n",
       "      <td>1.133333</td>\n",
       "      <td>845.0</td>\n",
       "      <td>2.560606</td>\n",
       "      <td>39.48</td>\n",
       "      <td>-121.09</td>\n",
       "      <td>0.781</td>\n",
       "    </tr>\n",
       "    <tr>\n",
       "      <th>20636</th>\n",
       "      <td>2.5568</td>\n",
       "      <td>18.0</td>\n",
       "      <td>6.114035</td>\n",
       "      <td>1.315789</td>\n",
       "      <td>356.0</td>\n",
       "      <td>3.122807</td>\n",
       "      <td>39.49</td>\n",
       "      <td>-121.21</td>\n",
       "      <td>0.771</td>\n",
       "    </tr>\n",
       "    <tr>\n",
       "      <th>20637</th>\n",
       "      <td>1.7000</td>\n",
       "      <td>17.0</td>\n",
       "      <td>5.205543</td>\n",
       "      <td>1.120092</td>\n",
       "      <td>1007.0</td>\n",
       "      <td>2.325635</td>\n",
       "      <td>39.43</td>\n",
       "      <td>-121.22</td>\n",
       "      <td>0.923</td>\n",
       "    </tr>\n",
       "    <tr>\n",
       "      <th>20638</th>\n",
       "      <td>1.8672</td>\n",
       "      <td>18.0</td>\n",
       "      <td>5.329513</td>\n",
       "      <td>1.171920</td>\n",
       "      <td>741.0</td>\n",
       "      <td>2.123209</td>\n",
       "      <td>39.43</td>\n",
       "      <td>-121.32</td>\n",
       "      <td>0.847</td>\n",
       "    </tr>\n",
       "    <tr>\n",
       "      <th>20639</th>\n",
       "      <td>2.3886</td>\n",
       "      <td>16.0</td>\n",
       "      <td>5.254717</td>\n",
       "      <td>1.162264</td>\n",
       "      <td>1387.0</td>\n",
       "      <td>2.616981</td>\n",
       "      <td>39.37</td>\n",
       "      <td>-121.24</td>\n",
       "      <td>0.894</td>\n",
       "    </tr>\n",
       "  </tbody>\n",
       "</table>\n",
       "<p>20640 rows × 9 columns</p>\n",
       "</div>"
      ],
      "text/plain": [
       "       MedInc  HouseAge  AveRooms  AveBedrms  Population  AveOccup  Latitude  \\\n",
       "0      8.3252      41.0  6.984127   1.023810       322.0  2.555556     37.88   \n",
       "1      8.3014      21.0  6.238137   0.971880      2401.0  2.109842     37.86   \n",
       "2      7.2574      52.0  8.288136   1.073446       496.0  2.802260     37.85   \n",
       "3      5.6431      52.0  5.817352   1.073059       558.0  2.547945     37.85   \n",
       "4      3.8462      52.0  6.281853   1.081081       565.0  2.181467     37.85   \n",
       "...       ...       ...       ...        ...         ...       ...       ...   \n",
       "20635  1.5603      25.0  5.045455   1.133333       845.0  2.560606     39.48   \n",
       "20636  2.5568      18.0  6.114035   1.315789       356.0  3.122807     39.49   \n",
       "20637  1.7000      17.0  5.205543   1.120092      1007.0  2.325635     39.43   \n",
       "20638  1.8672      18.0  5.329513   1.171920       741.0  2.123209     39.43   \n",
       "20639  2.3886      16.0  5.254717   1.162264      1387.0  2.616981     39.37   \n",
       "\n",
       "       Longitude  MedHouseVal  \n",
       "0        -122.23        4.526  \n",
       "1        -122.22        3.585  \n",
       "2        -122.24        3.521  \n",
       "3        -122.25        3.413  \n",
       "4        -122.25        3.422  \n",
       "...          ...          ...  \n",
       "20635    -121.09        0.781  \n",
       "20636    -121.21        0.771  \n",
       "20637    -121.22        0.923  \n",
       "20638    -121.32        0.847  \n",
       "20639    -121.24        0.894  \n",
       "\n",
       "[20640 rows x 9 columns]"
      ]
     },
     "execution_count": 3,
     "metadata": {},
     "output_type": "execute_result"
    }
   ],
   "source": [
    "from sklearn.datasets import fetch_california_housing\n",
    "\n",
    "California_HouseValue = fetch_california_housing(as_frame=True)\n",
    "California_HouseValue_data = California_HouseValue.frame\n",
    "California_HouseValue_data"
   ]
  },
  {
   "cell_type": "markdown",
   "id": "2ed4846a-a7a3-4a6d-8c23-1e7ca9c2a2c6",
   "metadata": {},
   "source": [
    "A description of the dataset and its variables are given by the following code:"
   ]
  },
  {
   "cell_type": "code",
   "execution_count": 4,
   "id": "d65f94fc-8b04-4967-b8c9-50cf41ec9e10",
   "metadata": {},
   "outputs": [
    {
     "name": "stdout",
     "output_type": "stream",
     "text": [
      ".. _california_housing_dataset:\n",
      "\n",
      "California Housing dataset\n",
      "--------------------------\n",
      "\n",
      "**Data Set Characteristics:**\n",
      "\n",
      "    :Number of Instances: 20640\n",
      "\n",
      "    :Number of Attributes: 8 numeric, predictive attributes and the target\n",
      "\n",
      "    :Attribute Information:\n",
      "        - MedInc        median income in block group\n",
      "        - HouseAge      median house age in block group\n",
      "        - AveRooms      average number of rooms per household\n",
      "        - AveBedrms     average number of bedrooms per household\n",
      "        - Population    block group population\n",
      "        - AveOccup      average number of household members\n",
      "        - Latitude      block group latitude\n",
      "        - Longitude     block group longitude\n",
      "\n",
      "    :Missing Attribute Values: None\n",
      "\n",
      "This dataset was obtained from the StatLib repository.\n",
      "https://www.dcc.fc.up.pt/~ltorgo/Regression/cal_housing.html\n",
      "\n",
      "The target variable is the median house value for California districts,\n",
      "expressed in hundreds of thousands of dollars ($100,000).\n",
      "\n",
      "This dataset was derived from the 1990 U.S. census, using one row per census\n",
      "block group. A block group is the smallest geographical unit for which the U.S.\n",
      "Census Bureau publishes sample data (a block group typically has a population\n",
      "of 600 to 3,000 people).\n",
      "\n",
      "A household is a group of people residing within a home. Since the average\n",
      "number of rooms and bedrooms in this dataset are provided per household, these\n",
      "columns may take surprisingly large values for block groups with few households\n",
      "and many empty houses, such as vacation resorts.\n",
      "\n",
      "It can be downloaded/loaded using the\n",
      ":func:`sklearn.datasets.fetch_california_housing` function.\n",
      "\n",
      ".. topic:: References\n",
      "\n",
      "    - Pace, R. Kelley and Ronald Barry, Sparse Spatial Autoregressions,\n",
      "      Statistics and Probability Letters, 33 (1997) 291-297\n",
      "\n"
     ]
    }
   ],
   "source": [
    "print(California_HouseValue.DESCR)"
   ]
  },
  {
   "cell_type": "markdown",
   "id": "058f09fb-ae14-4d76-b301-6549d54acad0",
   "metadata": {},
   "source": [
    "Considering `MedHouseVal` as the response variable and the remaining ones as the explanatory variables (`MedInc`, `HouseAge`, ..., `Longitude`), answer the following questions."
   ]
  },
  {
   "cell_type": "markdown",
   "id": "1c89b5b8-4aec-4cf0-925a-d27ceb3f8318",
   "metadata": {},
   "source": [
    "- a) Before implementing the regression model, indicate the explanatory variables having the maximum and the minimum linear relationships with `MedHouseVal`."
   ]
  },
  {
   "cell_type": "code",
   "execution_count": 8,
   "id": "4f87d2ee-28fa-4adb-94a5-d4137ce8922b",
   "metadata": {},
   "outputs": [
    {
     "name": "stdout",
     "output_type": "stream",
     "text": [
      "Explanatory variable with maximum linear relationship: MedInc\n",
      "Explanatory variable with minimum linear relationship: Latitude\n"
     ]
    }
   ],
   "source": [
    "import pandas as pd\n",
    "import numpy as np\n",
    "\n",
    "correlation_matrix = California_HouseValue_data.corr()\n",
    "\n",
    "# Extract the correlation values of each explanatory variable with MedHouseVal\n",
    "correlation_values = correlation_matrix['MedHouseVal']\n",
    "\n",
    "# Remove the correlation value of MedHouseVal with itself\n",
    "correlation_values = correlation_values.drop('MedHouseVal')\n",
    "\n",
    "# Find the maximum and minimum correlation values\n",
    "max_corr_variable = correlation_values.idxmax()\n",
    "min_corr_variable = correlation_values.idxmin()\n",
    "\n",
    "print(f\"Explanatory variable with maximum linear relationship: {max_corr_variable}\")\n",
    "print(f\"Explanatory variable with minimum linear relationship: {min_corr_variable}\")"
   ]
  },
  {
   "cell_type": "markdown",
   "id": "d137e4fa-de46-4de0-89b0-6c82fd07e042",
   "metadata": {},
   "source": [
    "- b) Fit a multiple linear regression considering 80% of the observations as the training data set (Set seed = 100000001 when you are going to split the data)."
   ]
  },
  {
   "cell_type": "code",
   "execution_count": 21,
   "id": "3cd5b942-9e34-4446-8db5-36fd2f43d5f7",
   "metadata": {},
   "outputs": [
    {
     "name": "stdout",
     "output_type": "stream",
     "text": [
      "The intercept of the fitted model is -37.143544647403054\n",
      "The coefficients of the fitted model are: [ 4.33637577e-01  9.36444411e-03 -9.83162344e-02  5.92706166e-01\n",
      " -3.64885618e-07 -3.95467451e-03 -4.20894434e-01 -4.36216255e-01]\n"
     ]
    }
   ],
   "source": [
    "from sklearn.linear_model import LinearRegression\n",
    "from sklearn.metrics import r2_score\n",
    "from sklearn.model_selection import train_test_split\n",
    "import matplotlib.pyplot as plt\n",
    "\n",
    "\n",
    "X = California_HouseValue_data[[\"MedInc\",\"HouseAge\",\"AveRooms\",\"AveBedrms\",\"Population\",\"AveOccup\",\"Latitude\",\"Longitude\"]]\n",
    "y = California_HouseValue_data.MedHouseVal\n",
    "\n",
    "\n",
    "X_train, X_test, y_train, y_test = train_test_split(X, y, test_size = 0.2, random_state = 100000001)\n",
    "\n",
    "\n",
    "reg = LinearRegression()                  # calling the LinearRegression() method into a variable\n",
    "model = reg.fit(X_train, y_train)                            # Fitting the linear regression model\n",
    "intercept = model.intercept_                                 # the fitted model's intercept\n",
    "coefs = model.coef_                                          # the fitted model's coefficients\n",
    "\n",
    "y_pred = model.predict(X_test)                               # Making predictions on the test set\n",
    "\n",
    "print(\"The intercept of the fitted model is\",intercept)\n",
    "print(\"The coefficients of the fitted model are:\",coefs)"
   ]
  },
  {
   "cell_type": "markdown",
   "id": "70c89021-f689-4f9a-befd-17418df08a01",
   "metadata": {},
   "source": [
    "- c) Obtain the determination coefficient as an evaluation metric. How do you interpret it?"
   ]
  },
  {
   "cell_type": "code",
   "execution_count": 40,
   "id": "9aad2e7f-97b4-43ed-ad45-bd6ac375353e",
   "metadata": {},
   "outputs": [
    {
     "name": "stdout",
     "output_type": "stream",
     "text": [
      "R-squared score: 0.6100790587634295\n",
      "The model can predict about 61% of the relationship between the response and explanatory variables\n"
     ]
    }
   ],
   "source": [
    "r2 = r2_score(y_test, y_pred)                        # Calculating the R-squared score\n",
    "\n",
    "print(f\"R-squared score: {r2}\")\n",
    "print(\"The model can predict about 61% of the relationship between the response and explanatory variables\")\n"
   ]
  },
  {
   "cell_type": "markdown",
   "id": "3651a83c-4374-4019-bbaa-78f0b7866baf",
   "metadata": {},
   "source": [
    "- d) Considering $R_0^2 = 0.5$ as the threshold (the models having an $R^2$ greater than this values are considered as acceptable regression models), is the model trained a good fit or it suffers from underfitting/overfitting?"
   ]
  },
  {
   "cell_type": "code",
   "execution_count": 39,
   "id": "baeaeab7-a03e-485c-a411-95942f266c17",
   "metadata": {},
   "outputs": [
    {
     "name": "stdout",
     "output_type": "stream",
     "text": [
      "Since the R-squared value is significantly higher than 0.5 it implies that the model is performing better than a simple model that always predicts the mean of the target variable. \n"
     ]
    }
   ],
   "source": [
    "from sklearn.metrics import mean_squared_error, mean_absolute_error\n",
    "\n",
    "mean_squared_error(y_test, y_pred), mean_squared_error(y_train, model.predict(X_train))\n",
    "\n",
    "print(\"Since the R-squared value is significantly higher than 0.5\", \n",
    "      \"it implies that the model is performing \"\n",
    "      \"better than a simple model that always predicts the mean of the target variable. \")"
   ]
  },
  {
   "cell_type": "markdown",
   "id": "f032f64c-9b6f-4383-9222-dd9eb8c21024",
   "metadata": {},
   "source": [
    "- e) Indicate the significant variables that should be retained in the model. Is the intercept significant? Which predictors have had a high impact on the response variable? Interpret the last question considering the answer you have already given in Part (a).\n",
    "\n",
    "- \n",
    "_Hint: You should include the intercept in the model using an appropriate `method` if you use the `statsmodels.api` module. This should be done since the module mentioned does not include an intercept in the model by default._"
   ]
  },
  {
   "cell_type": "code",
   "execution_count": 47,
   "id": "33bae01a-a7e8-43b1-bb97-c78348843fc9",
   "metadata": {},
   "outputs": [
    {
     "name": "stdout",
     "output_type": "stream",
     "text": [
      "All the variables excluding the Population variable should be retained as their P is < 0.05\n",
      "Since the p-value of the intercept (const coef) < 0.05, then the intercept is significant\n",
      "The predictors with the highest impact are: MedInc, Latitude, Longitude, AveBedrms, AveRooms\n"
     ]
    }
   ],
   "source": [
    "import statsmodels.api as sm\n",
    "\n",
    "X_train = sm.add_constant(X_train)                # Adding intercept to X_train\n",
    "\n",
    "ols_reg = sm.OLS(y_train, X_train).fit()          # Fitting the OLS regression model\n",
    "\n",
    "ols_reg.summary()\n",
    "\n",
    "print(\"All the variables excluding the Population variable should be retained as their P is < 0.05\")\n",
    "print(\"Since the p-value of the intercept (const coef) < 0.05, then the intercept is significant\")\n",
    "print(\"The predictors with the highest impact are: MedInc, Latitude, Longitude, AveBedrms, AveRooms\")"
   ]
  },
  {
   "cell_type": "markdown",
   "id": "46c723df-acf6-441d-8861-8be04cd618ce",
   "metadata": {},
   "source": [
    "- f) Suppose we have observed two new observations as below. Predict the median house values (the response variable) for them considering the full model given by (b).\n",
    "```\n",
    "MedInc: 8, 9\n",
    "HouseAge: 41, 10\n",
    "AveRooms: 7, 10\n",
    "AveBedrms: 1, 2\n",
    "Population: 320, 100\n",
    "AveOccup: 2, 2\n",
    "Latitude: 37, 36\n",
    "Longitude:-122, -123\n",
    "```"
   ]
  },
  {
   "cell_type": "code",
   "execution_count": 38,
   "id": "30593d50-00e1-4fb4-b773-c9742826e62a",
   "metadata": {},
   "outputs": [
    {
     "data": {
      "text/plain": [
       "array([4.25125364, 5.54954187])"
      ]
     },
     "execution_count": 38,
     "metadata": {},
     "output_type": "execute_result"
    }
   ],
   "source": [
    "new_X = {\"MedInc\": [8,9], \"HouseAge\": [41, 10], \"AveRooms\": [7, 10], \"AveBedrms\": [1,2], \"Population\": [320, 100], \"AveOccup\": [2, 2], \"Latitude\": [37, 36], \"Longitude\": [-122, -123]}\n",
    "new_X = pd.DataFrame(new_X)\n",
    "\n",
    "model.predict(new_X)"
   ]
  }
 ],
 "metadata": {
  "kernelspec": {
   "display_name": "Python 3 (ipykernel)",
   "language": "python",
   "name": "python3"
  },
  "language_info": {
   "codemirror_mode": {
    "name": "ipython",
    "version": 3
   },
   "file_extension": ".py",
   "mimetype": "text/x-python",
   "name": "python",
   "nbconvert_exporter": "python",
   "pygments_lexer": "ipython3",
   "version": "3.11.3"
  }
 },
 "nbformat": 4,
 "nbformat_minor": 5
}
