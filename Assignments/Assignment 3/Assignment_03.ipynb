{
 "cells": [
  {
   "cell_type": "markdown",
   "id": "c6abc2ad-a3df-426b-90da-4b70682dcb52",
   "metadata": {},
   "source": [
    "# Assignment 3\n",
    "\n",
    "**Assignment 3 consists of just 1 question with 6 parts. Its due date is Thursday, 26 October 2023 (before 11:30 AM). After providing the notebook, you will be asked to complete a quiz which is based on Assignment 3. The quiz will be during the lecture time on Thursday, 26th of October 2023 (11:30 AM - 12:20 AM).**\n",
    "\n",
    "## Question\n",
    "\n",
    "\n",
    "\n",
    "Consider the following dataset (it needs the **internet connection** to be downloaded):"
   ]
  },
  {
   "cell_type": "code",
   "execution_count": 3,
   "id": "f3369988-dd30-4d17-b603-017665de1b73",
   "metadata": {},
   "outputs": [
    {
     "data": {
      "text/html": [
       "<div>\n",
       "<style scoped>\n",
       "    .dataframe tbody tr th:only-of-type {\n",
       "        vertical-align: middle;\n",
       "    }\n",
       "\n",
       "    .dataframe tbody tr th {\n",
       "        vertical-align: top;\n",
       "    }\n",
       "\n",
       "    .dataframe thead th {\n",
       "        text-align: right;\n",
       "    }\n",
       "</style>\n",
       "<table border=\"1\" class=\"dataframe\">\n",
       "  <thead>\n",
       "    <tr style=\"text-align: right;\">\n",
       "      <th></th>\n",
       "      <th>MedInc</th>\n",
       "      <th>HouseAge</th>\n",
       "      <th>AveRooms</th>\n",
       "      <th>AveBedrms</th>\n",
       "      <th>Population</th>\n",
       "      <th>AveOccup</th>\n",
       "      <th>Latitude</th>\n",
       "      <th>Longitude</th>\n",
       "      <th>MedHouseVal</th>\n",
       "    </tr>\n",
       "  </thead>\n",
       "  <tbody>\n",
       "    <tr>\n",
       "      <th>0</th>\n",
       "      <td>8.3252</td>\n",
       "      <td>41.0</td>\n",
       "      <td>6.984127</td>\n",
       "      <td>1.023810</td>\n",
       "      <td>322.0</td>\n",
       "      <td>2.555556</td>\n",
       "      <td>37.88</td>\n",
       "      <td>-122.23</td>\n",
       "      <td>4.526</td>\n",
       "    </tr>\n",
       "    <tr>\n",
       "      <th>1</th>\n",
       "      <td>8.3014</td>\n",
       "      <td>21.0</td>\n",
       "      <td>6.238137</td>\n",
       "      <td>0.971880</td>\n",
       "      <td>2401.0</td>\n",
       "      <td>2.109842</td>\n",
       "      <td>37.86</td>\n",
       "      <td>-122.22</td>\n",
       "      <td>3.585</td>\n",
       "    </tr>\n",
       "    <tr>\n",
       "      <th>2</th>\n",
       "      <td>7.2574</td>\n",
       "      <td>52.0</td>\n",
       "      <td>8.288136</td>\n",
       "      <td>1.073446</td>\n",
       "      <td>496.0</td>\n",
       "      <td>2.802260</td>\n",
       "      <td>37.85</td>\n",
       "      <td>-122.24</td>\n",
       "      <td>3.521</td>\n",
       "    </tr>\n",
       "    <tr>\n",
       "      <th>3</th>\n",
       "      <td>5.6431</td>\n",
       "      <td>52.0</td>\n",
       "      <td>5.817352</td>\n",
       "      <td>1.073059</td>\n",
       "      <td>558.0</td>\n",
       "      <td>2.547945</td>\n",
       "      <td>37.85</td>\n",
       "      <td>-122.25</td>\n",
       "      <td>3.413</td>\n",
       "    </tr>\n",
       "    <tr>\n",
       "      <th>4</th>\n",
       "      <td>3.8462</td>\n",
       "      <td>52.0</td>\n",
       "      <td>6.281853</td>\n",
       "      <td>1.081081</td>\n",
       "      <td>565.0</td>\n",
       "      <td>2.181467</td>\n",
       "      <td>37.85</td>\n",
       "      <td>-122.25</td>\n",
       "      <td>3.422</td>\n",
       "    </tr>\n",
       "    <tr>\n",
       "      <th>...</th>\n",
       "      <td>...</td>\n",
       "      <td>...</td>\n",
       "      <td>...</td>\n",
       "      <td>...</td>\n",
       "      <td>...</td>\n",
       "      <td>...</td>\n",
       "      <td>...</td>\n",
       "      <td>...</td>\n",
       "      <td>...</td>\n",
       "    </tr>\n",
       "    <tr>\n",
       "      <th>20635</th>\n",
       "      <td>1.5603</td>\n",
       "      <td>25.0</td>\n",
       "      <td>5.045455</td>\n",
       "      <td>1.133333</td>\n",
       "      <td>845.0</td>\n",
       "      <td>2.560606</td>\n",
       "      <td>39.48</td>\n",
       "      <td>-121.09</td>\n",
       "      <td>0.781</td>\n",
       "    </tr>\n",
       "    <tr>\n",
       "      <th>20636</th>\n",
       "      <td>2.5568</td>\n",
       "      <td>18.0</td>\n",
       "      <td>6.114035</td>\n",
       "      <td>1.315789</td>\n",
       "      <td>356.0</td>\n",
       "      <td>3.122807</td>\n",
       "      <td>39.49</td>\n",
       "      <td>-121.21</td>\n",
       "      <td>0.771</td>\n",
       "    </tr>\n",
       "    <tr>\n",
       "      <th>20637</th>\n",
       "      <td>1.7000</td>\n",
       "      <td>17.0</td>\n",
       "      <td>5.205543</td>\n",
       "      <td>1.120092</td>\n",
       "      <td>1007.0</td>\n",
       "      <td>2.325635</td>\n",
       "      <td>39.43</td>\n",
       "      <td>-121.22</td>\n",
       "      <td>0.923</td>\n",
       "    </tr>\n",
       "    <tr>\n",
       "      <th>20638</th>\n",
       "      <td>1.8672</td>\n",
       "      <td>18.0</td>\n",
       "      <td>5.329513</td>\n",
       "      <td>1.171920</td>\n",
       "      <td>741.0</td>\n",
       "      <td>2.123209</td>\n",
       "      <td>39.43</td>\n",
       "      <td>-121.32</td>\n",
       "      <td>0.847</td>\n",
       "    </tr>\n",
       "    <tr>\n",
       "      <th>20639</th>\n",
       "      <td>2.3886</td>\n",
       "      <td>16.0</td>\n",
       "      <td>5.254717</td>\n",
       "      <td>1.162264</td>\n",
       "      <td>1387.0</td>\n",
       "      <td>2.616981</td>\n",
       "      <td>39.37</td>\n",
       "      <td>-121.24</td>\n",
       "      <td>0.894</td>\n",
       "    </tr>\n",
       "  </tbody>\n",
       "</table>\n",
       "<p>20640 rows × 9 columns</p>\n",
       "</div>"
      ],
      "text/plain": [
       "       MedInc  HouseAge  AveRooms  AveBedrms  Population  AveOccup  Latitude  \\\n",
       "0      8.3252      41.0  6.984127   1.023810       322.0  2.555556     37.88   \n",
       "1      8.3014      21.0  6.238137   0.971880      2401.0  2.109842     37.86   \n",
       "2      7.2574      52.0  8.288136   1.073446       496.0  2.802260     37.85   \n",
       "3      5.6431      52.0  5.817352   1.073059       558.0  2.547945     37.85   \n",
       "4      3.8462      52.0  6.281853   1.081081       565.0  2.181467     37.85   \n",
       "...       ...       ...       ...        ...         ...       ...       ...   \n",
       "20635  1.5603      25.0  5.045455   1.133333       845.0  2.560606     39.48   \n",
       "20636  2.5568      18.0  6.114035   1.315789       356.0  3.122807     39.49   \n",
       "20637  1.7000      17.0  5.205543   1.120092      1007.0  2.325635     39.43   \n",
       "20638  1.8672      18.0  5.329513   1.171920       741.0  2.123209     39.43   \n",
       "20639  2.3886      16.0  5.254717   1.162264      1387.0  2.616981     39.37   \n",
       "\n",
       "       Longitude  MedHouseVal  \n",
       "0        -122.23        4.526  \n",
       "1        -122.22        3.585  \n",
       "2        -122.24        3.521  \n",
       "3        -122.25        3.413  \n",
       "4        -122.25        3.422  \n",
       "...          ...          ...  \n",
       "20635    -121.09        0.781  \n",
       "20636    -121.21        0.771  \n",
       "20637    -121.22        0.923  \n",
       "20638    -121.32        0.847  \n",
       "20639    -121.24        0.894  \n",
       "\n",
       "[20640 rows x 9 columns]"
      ]
     },
     "execution_count": 3,
     "metadata": {},
     "output_type": "execute_result"
    }
   ],
   "source": [
    "from sklearn.datasets import fetch_california_housing\n",
    "\n",
    "California_HouseValue = fetch_california_housing(as_frame=True)\n",
    "California_HouseValue_data = California_HouseValue.frame\n",
    "California_HouseValue_data"
   ]
  },
  {
   "cell_type": "markdown",
   "id": "2ed4846a-a7a3-4a6d-8c23-1e7ca9c2a2c6",
   "metadata": {},
   "source": [
    "A description of the dataset and its variables are given by the following code:"
   ]
  },
  {
   "cell_type": "code",
   "execution_count": 4,
   "id": "d65f94fc-8b04-4967-b8c9-50cf41ec9e10",
   "metadata": {},
   "outputs": [
    {
     "name": "stdout",
     "output_type": "stream",
     "text": [
      ".. _california_housing_dataset:\n",
      "\n",
      "California Housing dataset\n",
      "--------------------------\n",
      "\n",
      "**Data Set Characteristics:**\n",
      "\n",
      "    :Number of Instances: 20640\n",
      "\n",
      "    :Number of Attributes: 8 numeric, predictive attributes and the target\n",
      "\n",
      "    :Attribute Information:\n",
      "        - MedInc        median income in block group\n",
      "        - HouseAge      median house age in block group\n",
      "        - AveRooms      average number of rooms per household\n",
      "        - AveBedrms     average number of bedrooms per household\n",
      "        - Population    block group population\n",
      "        - AveOccup      average number of household members\n",
      "        - Latitude      block group latitude\n",
      "        - Longitude     block group longitude\n",
      "\n",
      "    :Missing Attribute Values: None\n",
      "\n",
      "This dataset was obtained from the StatLib repository.\n",
      "https://www.dcc.fc.up.pt/~ltorgo/Regression/cal_housing.html\n",
      "\n",
      "The target variable is the median house value for California districts,\n",
      "expressed in hundreds of thousands of dollars ($100,000).\n",
      "\n",
      "This dataset was derived from the 1990 U.S. census, using one row per census\n",
      "block group. A block group is the smallest geographical unit for which the U.S.\n",
      "Census Bureau publishes sample data (a block group typically has a population\n",
      "of 600 to 3,000 people).\n",
      "\n",
      "A household is a group of people residing within a home. Since the average\n",
      "number of rooms and bedrooms in this dataset are provided per household, these\n",
      "columns may take surprisingly large values for block groups with few households\n",
      "and many empty houses, such as vacation resorts.\n",
      "\n",
      "It can be downloaded/loaded using the\n",
      ":func:`sklearn.datasets.fetch_california_housing` function.\n",
      "\n",
      ".. topic:: References\n",
      "\n",
      "    - Pace, R. Kelley and Ronald Barry, Sparse Spatial Autoregressions,\n",
      "      Statistics and Probability Letters, 33 (1997) 291-297\n",
      "\n"
     ]
    }
   ],
   "source": [
    "print(California_HouseValue.DESCR)"
   ]
  },
  {
   "cell_type": "markdown",
   "id": "058f09fb-ae14-4d76-b301-6549d54acad0",
   "metadata": {},
   "source": [
    "Considering `MedHouseVal` as the response variable and the remaining ones as the explanatory variables (`MedInc`, `HouseAge`, ..., `Longitude`), answer the following questions."
   ]
  },
  {
   "cell_type": "markdown",
   "id": "1c89b5b8-4aec-4cf0-925a-d27ceb3f8318",
   "metadata": {},
   "source": [
    "- a) Before implementing the regression model, indicate the explanatory variables having the maximum and the minimum linear relationships with `MedHouseVal`."
   ]
  },
  {
   "cell_type": "code",
   "execution_count": 8,
   "id": "4f87d2ee-28fa-4adb-94a5-d4137ce8922b",
   "metadata": {},
   "outputs": [
    {
     "name": "stdout",
     "output_type": "stream",
     "text": [
      "Explanatory variable with maximum linear relationship: MedInc\n",
      "Explanatory variable with minimum linear relationship: Latitude\n"
     ]
    }
   ],
   "source": [
    "import pandas as pd\n",
    "import numpy as np\n",
    "\n",
    "correlation_matrix = California_HouseValue_data.corr()\n",
    "\n",
    "# Extract the correlation values of each explanatory variable with MedHouseVal\n",
    "correlation_values = correlation_matrix['MedHouseVal']\n",
    "\n",
    "# Remove the correlation value of MedHouseVal with itself\n",
    "correlation_values = correlation_values.drop('MedHouseVal')\n",
    "\n",
    "# Find the maximum and minimum correlation values\n",
    "max_corr_variable = correlation_values.idxmax()\n",
    "min_corr_variable = correlation_values.idxmin()\n",
    "\n",
    "print(f\"Explanatory variable with maximum linear relationship: {max_corr_variable}\")\n",
    "print(f\"Explanatory variable with minimum linear relationship: {min_corr_variable}\")"
   ]
  },
  {
   "cell_type": "markdown",
   "id": "d137e4fa-de46-4de0-89b0-6c82fd07e042",
   "metadata": {},
   "source": [
    "- b) Fit a multiple linear regression considering 80% of the observations as the training data set (Set seed = 100000001 when you are going to split the data)."
   ]
  },
  {
   "cell_type": "code",
   "execution_count": 49,
   "id": "3cd5b942-9e34-4446-8db5-36fd2f43d5f7",
   "metadata": {},
   "outputs": [
    {
     "name": "stdout",
     "output_type": "stream",
     "text": [
      "The intercept of the fitted model is -37.143544647403054\n",
      "The coefficients of the fitted model are: [ 4.33637577e-01  9.36444411e-03 -9.83162344e-02  5.92706166e-01\n",
      " -3.64885618e-07 -3.95467451e-03 -4.20894434e-01 -4.36216255e-01]\n"
     ]
    }
   ],
   "source": [
    "from sklearn.linear_model import LinearRegression\n",
    "from sklearn.metrics import r2_score\n",
    "from sklearn.model_selection import train_test_split\n",
    "import matplotlib.pyplot as plt\n",
    "\n",
    "\n",
    "X = California_HouseValue_data[[\"MedInc\",\"HouseAge\",\"AveRooms\",\"AveBedrms\",\"Population\",\"AveOccup\",\"Latitude\",\"Longitude\"]]\n",
    "y = California_HouseValue_data.MedHouseVal\n",
    "\n",
    "\n",
    "X_train, X_test, y_train, y_test = train_test_split(X, y, train_size = 0.8, random_state = 100000001)\n",
    "\n",
    "\n",
    "reg = LinearRegression()                  # calling the LinearRegression() method into a variable\n",
    "model = reg.fit(X_train, y_train)                            # Fitting the linear regression model\n",
    "intercept = model.intercept_                                 # the fitted model's intercept\n",
    "coefs = model.coef_                                          # the fitted model's coefficients\n",
    "\n",
    "y_pred = model.predict(X_test)                               # Making predictions on the test set\n",
    "\n",
    "print(\"The intercept of the fitted model is\",intercept)\n",
    "print(\"The coefficients of the fitted model are:\",coefs)"
   ]
  },
  {
   "cell_type": "markdown",
   "id": "70c89021-f689-4f9a-befd-17418df08a01",
   "metadata": {},
   "source": [
    "- c) Obtain the determination coefficient as an evaluation metric. How do you interpret it?"
   ]
  },
  {
   "cell_type": "code",
   "execution_count": 40,
   "id": "9aad2e7f-97b4-43ed-ad45-bd6ac375353e",
   "metadata": {},
   "outputs": [
    {
     "name": "stdout",
     "output_type": "stream",
     "text": [
      "R-squared score: 0.6100790587634295\n",
      "The model can predict about 61% of the relationship between the response and explanatory variables\n"
     ]
    }
   ],
   "source": [
    "r2 = r2_score(y_test, y_pred)                        # Calculating the R-squared score\n",
    "\n",
    "print(f\"R-squared score: {r2}\")\n",
    "print(\"The model can predict about 61% of the relationship between the response and explanatory variables\")\n"
   ]
  },
  {
   "cell_type": "markdown",
   "id": "3651a83c-4374-4019-bbaa-78f0b7866baf",
   "metadata": {},
   "source": [
    "- d) Considering $R_0^2 = 0.5$ as the threshold (the models having an $R^2$ greater than this values are considered as acceptable regression models), is the model trained a good fit or it suffers from underfitting/overfitting?"
   ]
  },
  {
   "cell_type": "code",
   "execution_count": 61,
   "id": "baeaeab7-a03e-485c-a411-95942f266c17",
   "metadata": {},
   "outputs": [
    {
     "ename": "ValueError",
     "evalue": "The feature names should match those that were passed during fit.\nFeature names unseen at fit time:\n- const\n",
     "output_type": "error",
     "traceback": [
      "\u001b[0;31m---------------------------------------------------------------------------\u001b[0m",
      "\u001b[0;31mValueError\u001b[0m                                Traceback (most recent call last)",
      "Cell \u001b[0;32mIn[61], line 3\u001b[0m\n\u001b[1;32m      1\u001b[0m \u001b[38;5;28;01mfrom\u001b[39;00m \u001b[38;5;21;01msklearn\u001b[39;00m\u001b[38;5;21;01m.\u001b[39;00m\u001b[38;5;21;01mmetrics\u001b[39;00m \u001b[38;5;28;01mimport\u001b[39;00m mean_squared_error, mean_absolute_error\n\u001b[0;32m----> 3\u001b[0m mean_squared_error(y_test, y_pred), mean_squared_error(y_train, model\u001b[38;5;241m.\u001b[39mpredict(X_train))\n\u001b[1;32m      4\u001b[0m mean_absolute_error(y_test, y_pred), mean_absolute_error(y_train, model\u001b[38;5;241m.\u001b[39mpredict(X_train))\n\u001b[1;32m      5\u001b[0m \u001b[38;5;28mprint\u001b[39m(\u001b[38;5;124m\"\u001b[39m\u001b[38;5;124mSince the R-squared value is significantly higher than 0.5\u001b[39m\u001b[38;5;124m\"\u001b[39m, \n\u001b[1;32m      6\u001b[0m       \u001b[38;5;124m\"\u001b[39m\u001b[38;5;124mit implies that the model is performing \u001b[39m\u001b[38;5;124m\"\u001b[39m\n\u001b[1;32m      7\u001b[0m       \u001b[38;5;124m\"\u001b[39m\u001b[38;5;124mbetter than a simple model that always predicts the mean of the target variable. \u001b[39m\u001b[38;5;124m\"\u001b[39m)\n",
      "File \u001b[0;32m~/anaconda3/lib/python3.11/site-packages/sklearn/linear_model/_base.py:354\u001b[0m, in \u001b[0;36mLinearModel.predict\u001b[0;34m(self, X)\u001b[0m\n\u001b[1;32m    340\u001b[0m \u001b[38;5;28;01mdef\u001b[39;00m \u001b[38;5;21mpredict\u001b[39m(\u001b[38;5;28mself\u001b[39m, X):\n\u001b[1;32m    341\u001b[0m \u001b[38;5;250m    \u001b[39m\u001b[38;5;124;03m\"\"\"\u001b[39;00m\n\u001b[1;32m    342\u001b[0m \u001b[38;5;124;03m    Predict using the linear model.\u001b[39;00m\n\u001b[1;32m    343\u001b[0m \n\u001b[0;32m   (...)\u001b[0m\n\u001b[1;32m    352\u001b[0m \u001b[38;5;124;03m        Returns predicted values.\u001b[39;00m\n\u001b[1;32m    353\u001b[0m \u001b[38;5;124;03m    \"\"\"\u001b[39;00m\n\u001b[0;32m--> 354\u001b[0m     \u001b[38;5;28;01mreturn\u001b[39;00m \u001b[38;5;28mself\u001b[39m\u001b[38;5;241m.\u001b[39m_decision_function(X)\n",
      "File \u001b[0;32m~/anaconda3/lib/python3.11/site-packages/sklearn/linear_model/_base.py:337\u001b[0m, in \u001b[0;36mLinearModel._decision_function\u001b[0;34m(self, X)\u001b[0m\n\u001b[1;32m    334\u001b[0m \u001b[38;5;28;01mdef\u001b[39;00m \u001b[38;5;21m_decision_function\u001b[39m(\u001b[38;5;28mself\u001b[39m, X):\n\u001b[1;32m    335\u001b[0m     check_is_fitted(\u001b[38;5;28mself\u001b[39m)\n\u001b[0;32m--> 337\u001b[0m     X \u001b[38;5;241m=\u001b[39m \u001b[38;5;28mself\u001b[39m\u001b[38;5;241m.\u001b[39m_validate_data(X, accept_sparse\u001b[38;5;241m=\u001b[39m[\u001b[38;5;124m\"\u001b[39m\u001b[38;5;124mcsr\u001b[39m\u001b[38;5;124m\"\u001b[39m, \u001b[38;5;124m\"\u001b[39m\u001b[38;5;124mcsc\u001b[39m\u001b[38;5;124m\"\u001b[39m, \u001b[38;5;124m\"\u001b[39m\u001b[38;5;124mcoo\u001b[39m\u001b[38;5;124m\"\u001b[39m], reset\u001b[38;5;241m=\u001b[39m\u001b[38;5;28;01mFalse\u001b[39;00m)\n\u001b[1;32m    338\u001b[0m     \u001b[38;5;28;01mreturn\u001b[39;00m safe_sparse_dot(X, \u001b[38;5;28mself\u001b[39m\u001b[38;5;241m.\u001b[39mcoef_\u001b[38;5;241m.\u001b[39mT, dense_output\u001b[38;5;241m=\u001b[39m\u001b[38;5;28;01mTrue\u001b[39;00m) \u001b[38;5;241m+\u001b[39m \u001b[38;5;28mself\u001b[39m\u001b[38;5;241m.\u001b[39mintercept_\n",
      "File \u001b[0;32m~/anaconda3/lib/python3.11/site-packages/sklearn/base.py:548\u001b[0m, in \u001b[0;36mBaseEstimator._validate_data\u001b[0;34m(self, X, y, reset, validate_separately, **check_params)\u001b[0m\n\u001b[1;32m    483\u001b[0m \u001b[38;5;28;01mdef\u001b[39;00m \u001b[38;5;21m_validate_data\u001b[39m(\n\u001b[1;32m    484\u001b[0m     \u001b[38;5;28mself\u001b[39m,\n\u001b[1;32m    485\u001b[0m     X\u001b[38;5;241m=\u001b[39m\u001b[38;5;124m\"\u001b[39m\u001b[38;5;124mno_validation\u001b[39m\u001b[38;5;124m\"\u001b[39m,\n\u001b[0;32m   (...)\u001b[0m\n\u001b[1;32m    489\u001b[0m     \u001b[38;5;241m*\u001b[39m\u001b[38;5;241m*\u001b[39mcheck_params,\n\u001b[1;32m    490\u001b[0m ):\n\u001b[1;32m    491\u001b[0m \u001b[38;5;250m    \u001b[39m\u001b[38;5;124;03m\"\"\"Validate input data and set or check the `n_features_in_` attribute.\u001b[39;00m\n\u001b[1;32m    492\u001b[0m \n\u001b[1;32m    493\u001b[0m \u001b[38;5;124;03m    Parameters\u001b[39;00m\n\u001b[0;32m   (...)\u001b[0m\n\u001b[1;32m    546\u001b[0m \u001b[38;5;124;03m        validated.\u001b[39;00m\n\u001b[1;32m    547\u001b[0m \u001b[38;5;124;03m    \"\"\"\u001b[39;00m\n\u001b[0;32m--> 548\u001b[0m     \u001b[38;5;28mself\u001b[39m\u001b[38;5;241m.\u001b[39m_check_feature_names(X, reset\u001b[38;5;241m=\u001b[39mreset)\n\u001b[1;32m    550\u001b[0m     \u001b[38;5;28;01mif\u001b[39;00m y \u001b[38;5;129;01mis\u001b[39;00m \u001b[38;5;28;01mNone\u001b[39;00m \u001b[38;5;129;01mand\u001b[39;00m \u001b[38;5;28mself\u001b[39m\u001b[38;5;241m.\u001b[39m_get_tags()[\u001b[38;5;124m\"\u001b[39m\u001b[38;5;124mrequires_y\u001b[39m\u001b[38;5;124m\"\u001b[39m]:\n\u001b[1;32m    551\u001b[0m         \u001b[38;5;28;01mraise\u001b[39;00m \u001b[38;5;167;01mValueError\u001b[39;00m(\n\u001b[1;32m    552\u001b[0m             \u001b[38;5;124mf\u001b[39m\u001b[38;5;124m\"\u001b[39m\u001b[38;5;124mThis \u001b[39m\u001b[38;5;132;01m{\u001b[39;00m\u001b[38;5;28mself\u001b[39m\u001b[38;5;241m.\u001b[39m\u001b[38;5;18m__class__\u001b[39m\u001b[38;5;241m.\u001b[39m\u001b[38;5;18m__name__\u001b[39m\u001b[38;5;132;01m}\u001b[39;00m\u001b[38;5;124m estimator \u001b[39m\u001b[38;5;124m\"\u001b[39m\n\u001b[1;32m    553\u001b[0m             \u001b[38;5;124m\"\u001b[39m\u001b[38;5;124mrequires y to be passed, but the target y is None.\u001b[39m\u001b[38;5;124m\"\u001b[39m\n\u001b[1;32m    554\u001b[0m         )\n",
      "File \u001b[0;32m~/anaconda3/lib/python3.11/site-packages/sklearn/base.py:481\u001b[0m, in \u001b[0;36mBaseEstimator._check_feature_names\u001b[0;34m(self, X, reset)\u001b[0m\n\u001b[1;32m    476\u001b[0m \u001b[38;5;28;01mif\u001b[39;00m \u001b[38;5;129;01mnot\u001b[39;00m missing_names \u001b[38;5;129;01mand\u001b[39;00m \u001b[38;5;129;01mnot\u001b[39;00m unexpected_names:\n\u001b[1;32m    477\u001b[0m     message \u001b[38;5;241m+\u001b[39m\u001b[38;5;241m=\u001b[39m (\n\u001b[1;32m    478\u001b[0m         \u001b[38;5;124m\"\u001b[39m\u001b[38;5;124mFeature names must be in the same order as they were in fit.\u001b[39m\u001b[38;5;130;01m\\n\u001b[39;00m\u001b[38;5;124m\"\u001b[39m\n\u001b[1;32m    479\u001b[0m     )\n\u001b[0;32m--> 481\u001b[0m \u001b[38;5;28;01mraise\u001b[39;00m \u001b[38;5;167;01mValueError\u001b[39;00m(message)\n",
      "\u001b[0;31mValueError\u001b[0m: The feature names should match those that were passed during fit.\nFeature names unseen at fit time:\n- const\n"
     ]
    }
   ],
   "source": [
    "from sklearn.metrics import mean_squared_error, mean_absolute_error\n",
    "\n",
    "mean_squared_error(y_test, y_pred), mean_squared_error(y_train, model.predict(X_train))\n",
    "mean_absolute_error(y_test, y_pred), mean_absolute_error(y_train, model.predict(X_train))\n",
    "print(\"Since the R-squared value is significantly higher than 0.5\", \n",
    "      \"it implies that the model is performing \"\n",
    "      \"better than a simple model that always predicts the mean of the target variable. \")"
   ]
  },
  {
   "cell_type": "markdown",
   "id": "f032f64c-9b6f-4383-9222-dd9eb8c21024",
   "metadata": {},
   "source": [
    "- e) Indicate the significant variables that should be retained in the model. Is the intercept significant? Which predictors have had a high impact on the response variable? Interpret the last question considering the answer you have already given in Part (a).\n",
    "\n",
    "- \n",
    "_Hint: You should include the intercept in the model using an appropriate `method` if you use the `statsmodels.api` module. This should be done since the module mentioned does not include an intercept in the model by default._"
   ]
  },
  {
   "cell_type": "code",
   "execution_count": 54,
   "id": "33bae01a-a7e8-43b1-bb97-c78348843fc9",
   "metadata": {},
   "outputs": [
    {
     "name": "stdout",
     "output_type": "stream",
     "text": [
      "All the variables excluding the Population variable should be retained as their P is < 0.05\n",
      "Since the p-value of the intercept (const coef) < 0.05, then the intercept is significant\n",
      "The predictors with the highest impact are: MedInc, Latitude, Longitude, AveBedrms, AveRooms\n"
     ]
    }
   ],
   "source": [
    "import statsmodels.api as sm\n",
    "\n",
    "X_train = sm.add_constant(X_train)                # Adding intercept to X_train\n",
    "\n",
    "ols_reg = sm.OLS(y_train, X_train).fit()          # Fitting the OLS regression model\n",
    "\n",
    "ols_reg.summary()\n",
    "\n",
    "print(\"All the variables excluding the Population variable should be retained as their P is < 0.05\")\n",
    "print(\"Since the p-value of the intercept (const coef) < 0.05, then the intercept is significant\")\n",
    "print(\"The predictors with the highest impact are: MedInc, Latitude, Longitude, AveBedrms, AveRooms\")"
   ]
  },
  {
   "cell_type": "code",
   "execution_count": 56,
   "id": "e97c81f3",
   "metadata": {},
   "outputs": [
    {
     "data": {
      "text/html": [
       "<table class=\"simpletable\">\n",
       "<caption>OLS Regression Results</caption>\n",
       "<tr>\n",
       "  <th>Dep. Variable:</th>       <td>MedHouseVal</td>   <th>  R-squared:         </th> <td>   0.605</td> \n",
       "</tr>\n",
       "<tr>\n",
       "  <th>Model:</th>                   <td>OLS</td>       <th>  Adj. R-squared:    </th> <td>   0.605</td> \n",
       "</tr>\n",
       "<tr>\n",
       "  <th>Method:</th>             <td>Least Squares</td>  <th>  F-statistic:       </th> <td>   3161.</td> \n",
       "</tr>\n",
       "<tr>\n",
       "  <th>Date:</th>             <td>Thu, 26 Oct 2023</td> <th>  Prob (F-statistic):</th>  <td>  0.00</td>  \n",
       "</tr>\n",
       "<tr>\n",
       "  <th>Time:</th>                 <td>11:50:32</td>     <th>  Log-Likelihood:    </th> <td> -18072.</td> \n",
       "</tr>\n",
       "<tr>\n",
       "  <th>No. Observations:</th>      <td> 16512</td>      <th>  AIC:               </th> <td>3.616e+04</td>\n",
       "</tr>\n",
       "<tr>\n",
       "  <th>Df Residuals:</th>          <td> 16503</td>      <th>  BIC:               </th> <td>3.623e+04</td>\n",
       "</tr>\n",
       "<tr>\n",
       "  <th>Df Model:</th>              <td>     8</td>      <th>                     </th>     <td> </td>    \n",
       "</tr>\n",
       "<tr>\n",
       "  <th>Covariance Type:</th>      <td>nonrobust</td>    <th>                     </th>     <td> </td>    \n",
       "</tr>\n",
       "</table>\n",
       "<table class=\"simpletable\">\n",
       "<tr>\n",
       "       <td></td>         <th>coef</th>     <th>std err</th>      <th>t</th>      <th>P>|t|</th>  <th>[0.025</th>    <th>0.975]</th>  \n",
       "</tr>\n",
       "<tr>\n",
       "  <th>const</th>      <td>  -37.1435</td> <td>    0.733</td> <td>  -50.697</td> <td> 0.000</td> <td>  -38.580</td> <td>  -35.707</td>\n",
       "</tr>\n",
       "<tr>\n",
       "  <th>MedInc</th>     <td>    0.4336</td> <td>    0.005</td> <td>   93.306</td> <td> 0.000</td> <td>    0.425</td> <td>    0.443</td>\n",
       "</tr>\n",
       "<tr>\n",
       "  <th>HouseAge</th>   <td>    0.0094</td> <td>    0.000</td> <td>   18.856</td> <td> 0.000</td> <td>    0.008</td> <td>    0.010</td>\n",
       "</tr>\n",
       "<tr>\n",
       "  <th>AveRooms</th>   <td>   -0.0983</td> <td>    0.006</td> <td>  -15.371</td> <td> 0.000</td> <td>   -0.111</td> <td>   -0.086</td>\n",
       "</tr>\n",
       "<tr>\n",
       "  <th>AveBedrms</th>  <td>    0.5927</td> <td>    0.030</td> <td>   19.516</td> <td> 0.000</td> <td>    0.533</td> <td>    0.652</td>\n",
       "</tr>\n",
       "<tr>\n",
       "  <th>Population</th> <td>-3.649e-07</td> <td>  5.2e-06</td> <td>   -0.070</td> <td> 0.944</td> <td>-1.06e-05</td> <td> 9.83e-06</td>\n",
       "</tr>\n",
       "<tr>\n",
       "  <th>AveOccup</th>   <td>   -0.0040</td> <td>    0.001</td> <td>   -7.432</td> <td> 0.000</td> <td>   -0.005</td> <td>   -0.003</td>\n",
       "</tr>\n",
       "<tr>\n",
       "  <th>Latitude</th>   <td>   -0.4209</td> <td>    0.008</td> <td>  -52.727</td> <td> 0.000</td> <td>   -0.437</td> <td>   -0.405</td>\n",
       "</tr>\n",
       "<tr>\n",
       "  <th>Longitude</th>  <td>   -0.4362</td> <td>    0.008</td> <td>  -52.109</td> <td> 0.000</td> <td>   -0.453</td> <td>   -0.420</td>\n",
       "</tr>\n",
       "</table>\n",
       "<table class=\"simpletable\">\n",
       "<tr>\n",
       "  <th>Omnibus:</th>       <td>3472.495</td> <th>  Durbin-Watson:     </th> <td>   1.981</td> \n",
       "</tr>\n",
       "<tr>\n",
       "  <th>Prob(Omnibus):</th>  <td> 0.000</td>  <th>  Jarque-Bera (JB):  </th> <td>10334.457</td>\n",
       "</tr>\n",
       "<tr>\n",
       "  <th>Skew:</th>           <td> 1.094</td>  <th>  Prob(JB):          </th> <td>    0.00</td> \n",
       "</tr>\n",
       "<tr>\n",
       "  <th>Kurtosis:</th>       <td> 6.200</td>  <th>  Cond. No.          </th> <td>2.39e+05</td> \n",
       "</tr>\n",
       "</table><br/><br/>Notes:<br/>[1] Standard Errors assume that the covariance matrix of the errors is correctly specified.<br/>[2] The condition number is large, 2.39e+05. This might indicate that there are<br/>strong multicollinearity or other numerical problems."
      ],
      "text/plain": [
       "<class 'statsmodels.iolib.summary.Summary'>\n",
       "\"\"\"\n",
       "                            OLS Regression Results                            \n",
       "==============================================================================\n",
       "Dep. Variable:            MedHouseVal   R-squared:                       0.605\n",
       "Model:                            OLS   Adj. R-squared:                  0.605\n",
       "Method:                 Least Squares   F-statistic:                     3161.\n",
       "Date:                Thu, 26 Oct 2023   Prob (F-statistic):               0.00\n",
       "Time:                        11:50:32   Log-Likelihood:                -18072.\n",
       "No. Observations:               16512   AIC:                         3.616e+04\n",
       "Df Residuals:                   16503   BIC:                         3.623e+04\n",
       "Df Model:                           8                                         \n",
       "Covariance Type:            nonrobust                                         \n",
       "==============================================================================\n",
       "                 coef    std err          t      P>|t|      [0.025      0.975]\n",
       "------------------------------------------------------------------------------\n",
       "const        -37.1435      0.733    -50.697      0.000     -38.580     -35.707\n",
       "MedInc         0.4336      0.005     93.306      0.000       0.425       0.443\n",
       "HouseAge       0.0094      0.000     18.856      0.000       0.008       0.010\n",
       "AveRooms      -0.0983      0.006    -15.371      0.000      -0.111      -0.086\n",
       "AveBedrms      0.5927      0.030     19.516      0.000       0.533       0.652\n",
       "Population -3.649e-07    5.2e-06     -0.070      0.944   -1.06e-05    9.83e-06\n",
       "AveOccup      -0.0040      0.001     -7.432      0.000      -0.005      -0.003\n",
       "Latitude      -0.4209      0.008    -52.727      0.000      -0.437      -0.405\n",
       "Longitude     -0.4362      0.008    -52.109      0.000      -0.453      -0.420\n",
       "==============================================================================\n",
       "Omnibus:                     3472.495   Durbin-Watson:                   1.981\n",
       "Prob(Omnibus):                  0.000   Jarque-Bera (JB):            10334.457\n",
       "Skew:                           1.094   Prob(JB):                         0.00\n",
       "Kurtosis:                       6.200   Cond. No.                     2.39e+05\n",
       "==============================================================================\n",
       "\n",
       "Notes:\n",
       "[1] Standard Errors assume that the covariance matrix of the errors is correctly specified.\n",
       "[2] The condition number is large, 2.39e+05. This might indicate that there are\n",
       "strong multicollinearity or other numerical problems.\n",
       "\"\"\""
      ]
     },
     "execution_count": 56,
     "metadata": {},
     "output_type": "execute_result"
    }
   ],
   "source": [
    "ols_reg.summary()"
   ]
  },
  {
   "cell_type": "code",
   "execution_count": 55,
   "id": "81160067",
   "metadata": {},
   "outputs": [
    {
     "name": "stdout",
     "output_type": "stream",
     "text": [
      "Summation of the residuals: -4.268400743967504e-09\n"
     ]
    }
   ],
   "source": [
    "residuals = ols_reg.resid\n",
    "\n",
    "# Summing the residuals\n",
    "sum_of_residuals = residuals.sum()\n",
    "\n",
    "print(f\"Summation of the residuals: {sum_of_residuals}\")"
   ]
  },
  {
   "cell_type": "code",
   "execution_count": 53,
   "id": "ddccfda9",
   "metadata": {},
   "outputs": [
    {
     "name": "stdout",
     "output_type": "stream",
     "text": [
      "Durbin-Watson statistic: 1.9814051499962484\n"
     ]
    }
   ],
   "source": [
    "print(f\"Durbin-Watson statistic: {sm.stats.stattools.durbin_watson(ols_reg.resid)}\")\n"
   ]
  },
  {
   "cell_type": "markdown",
   "id": "46c723df-acf6-441d-8861-8be04cd618ce",
   "metadata": {},
   "source": [
    "- f) Suppose we have observed two new observations as below. Predict the median house values (the response variable) for them considering the full model given by (b).\n",
    "```\n",
    "MedInc: 8, 9\n",
    "HouseAge: 41, 10\n",
    "AveRooms: 7, 10\n",
    "AveBedrms: 1, 2\n",
    "Population: 320, 100\n",
    "AveOccup: 2, 2\n",
    "Latitude: 37, 36\n",
    "Longitude:-122, -123\n",
    "```"
   ]
  },
  {
   "cell_type": "code",
   "execution_count": 59,
   "id": "30593d50-00e1-4fb4-b773-c9742826e62a",
   "metadata": {},
   "outputs": [
    {
     "data": {
      "text/plain": [
       "array([5.54954187])"
      ]
     },
     "execution_count": 59,
     "metadata": {},
     "output_type": "execute_result"
    }
   ],
   "source": [
    "new_X = {\"MedInc\": [9], \"HouseAge\": [10], \"AveRooms\": [10], \"AveBedrms\": [2], \"Population\": [100], \"AveOccup\": [2], \"Latitude\": [36], \"Longitude\": [-123]}\n",
    "new_X = pd.DataFrame(new_X)\n",
    "\n",
    "model.predict(new_X)"
   ]
  }
 ],
 "metadata": {
  "kernelspec": {
   "display_name": "Python 3 (ipykernel)",
   "language": "python",
   "name": "python3"
  },
  "language_info": {
   "codemirror_mode": {
    "name": "ipython",
    "version": 3
   },
   "file_extension": ".py",
   "mimetype": "text/x-python",
   "name": "python",
   "nbconvert_exporter": "python",
   "pygments_lexer": "ipython3",
   "version": "3.11.3"
  }
 },
 "nbformat": 4,
 "nbformat_minor": 5
}
