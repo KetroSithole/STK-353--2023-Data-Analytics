{
 "cells": [
  {
   "cell_type": "markdown",
   "id": "61f8a369",
   "metadata": {},
   "source": [
    "# Assignment 1: Question 1"
   ]
  },
  {
   "cell_type": "markdown",
   "id": "9834463f",
   "metadata": {},
   "source": [
    "Consider the _Payroll.csv_ dataset."
   ]
  },
  {
   "cell_type": "code",
   "execution_count": 1,
   "id": "111b5e9e",
   "metadata": {},
   "outputs": [],
   "source": [
    "import numpy as np\n",
    "import pandas as pd"
   ]
  },
  {
   "cell_type": "code",
   "execution_count": 2,
   "id": "381a457c",
   "metadata": {
    "scrolled": true
   },
   "outputs": [
    {
     "data": {
      "text/html": [
       "<div>\n",
       "<style scoped>\n",
       "    .dataframe tbody tr th:only-of-type {\n",
       "        vertical-align: middle;\n",
       "    }\n",
       "\n",
       "    .dataframe tbody tr th {\n",
       "        vertical-align: top;\n",
       "    }\n",
       "\n",
       "    .dataframe thead th {\n",
       "        text-align: right;\n",
       "    }\n",
       "</style>\n",
       "<table border=\"1\" class=\"dataframe\">\n",
       "  <thead>\n",
       "    <tr style=\"text-align: right;\">\n",
       "      <th></th>\n",
       "      <th>EmployeeName</th>\n",
       "      <th>JobTitle</th>\n",
       "      <th>BasicSalary</th>\n",
       "      <th>OvertimePay</th>\n",
       "      <th>OtherPay</th>\n",
       "      <th>TotalPay</th>\n",
       "      <th>Year</th>\n",
       "      <th>Agency</th>\n",
       "    </tr>\n",
       "  </thead>\n",
       "  <tbody>\n",
       "    <tr>\n",
       "      <th>0</th>\n",
       "      <td>Scott W Walton</td>\n",
       "      <td>Manager II</td>\n",
       "      <td>126346.04</td>\n",
       "      <td>0.0</td>\n",
       "      <td>1000.00</td>\n",
       "      <td>127346.04</td>\n",
       "      <td>2013.0</td>\n",
       "      <td>San Francisco</td>\n",
       "    </tr>\n",
       "    <tr>\n",
       "      <th>1</th>\n",
       "      <td>Brian W Byun</td>\n",
       "      <td>Engineer</td>\n",
       "      <td>132399.33</td>\n",
       "      <td>0.0</td>\n",
       "      <td>1913.44</td>\n",
       "      <td>134312.77</td>\n",
       "      <td>2013.0</td>\n",
       "      <td>San Francisco</td>\n",
       "    </tr>\n",
       "    <tr>\n",
       "      <th>2</th>\n",
       "      <td>Kenneth J Canedo</td>\n",
       "      <td>Police Officer 3</td>\n",
       "      <td>124723.62</td>\n",
       "      <td>10582.2</td>\n",
       "      <td>7001.51</td>\n",
       "      <td>137940.06</td>\n",
       "      <td>2013.0</td>\n",
       "      <td>San Francisco</td>\n",
       "    </tr>\n",
       "    <tr>\n",
       "      <th>3</th>\n",
       "      <td>Brett A Lundberg</td>\n",
       "      <td>General Laborer</td>\n",
       "      <td>117045.00</td>\n",
       "      <td>0.0</td>\n",
       "      <td>0.00</td>\n",
       "      <td>0.00</td>\n",
       "      <td>2014.0</td>\n",
       "      <td>San Francisco</td>\n",
       "    </tr>\n",
       "    <tr>\n",
       "      <th>4</th>\n",
       "      <td>Mark W Mcclure</td>\n",
       "      <td>General Laborer</td>\n",
       "      <td>114062.00</td>\n",
       "      <td>0.0</td>\n",
       "      <td>0.00</td>\n",
       "      <td>0.00</td>\n",
       "      <td>2014.0</td>\n",
       "      <td>San Francisco</td>\n",
       "    </tr>\n",
       "    <tr>\n",
       "      <th>...</th>\n",
       "      <td>...</td>\n",
       "      <td>...</td>\n",
       "      <td>...</td>\n",
       "      <td>...</td>\n",
       "      <td>...</td>\n",
       "      <td>...</td>\n",
       "      <td>...</td>\n",
       "      <td>...</td>\n",
       "    </tr>\n",
       "    <tr>\n",
       "      <th>148862</th>\n",
       "      <td>Roy I Tillery</td>\n",
       "      <td>Custodian</td>\n",
       "      <td>0.00</td>\n",
       "      <td>0.0</td>\n",
       "      <td>0.00</td>\n",
       "      <td>0.00</td>\n",
       "      <td>2014.0</td>\n",
       "      <td>San Francisco</td>\n",
       "    </tr>\n",
       "    <tr>\n",
       "      <th>148863</th>\n",
       "      <td>Not provided</td>\n",
       "      <td>Not provided</td>\n",
       "      <td>NaN</td>\n",
       "      <td>NaN</td>\n",
       "      <td>NaN</td>\n",
       "      <td>0.00</td>\n",
       "      <td>2014.0</td>\n",
       "      <td>San Francisco</td>\n",
       "    </tr>\n",
       "    <tr>\n",
       "      <th>148864</th>\n",
       "      <td>Not provided</td>\n",
       "      <td>Not provided</td>\n",
       "      <td>NaN</td>\n",
       "      <td>NaN</td>\n",
       "      <td>NaN</td>\n",
       "      <td>0.00</td>\n",
       "      <td>2014.0</td>\n",
       "      <td>San Francisco</td>\n",
       "    </tr>\n",
       "    <tr>\n",
       "      <th>148865</th>\n",
       "      <td>Not provided</td>\n",
       "      <td>Not provided</td>\n",
       "      <td>NaN</td>\n",
       "      <td>NaN</td>\n",
       "      <td>NaN</td>\n",
       "      <td>0.00</td>\n",
       "      <td>2014.0</td>\n",
       "      <td>San Francisco</td>\n",
       "    </tr>\n",
       "    <tr>\n",
       "      <th>148866</th>\n",
       "      <td>Joe Lopez</td>\n",
       "      <td>Counselor, Log Cabin Ranch</td>\n",
       "      <td>0.00</td>\n",
       "      <td>0.0</td>\n",
       "      <td>-618.13</td>\n",
       "      <td>-618.13</td>\n",
       "      <td>2014.0</td>\n",
       "      <td>San Francisco</td>\n",
       "    </tr>\n",
       "  </tbody>\n",
       "</table>\n",
       "<p>148867 rows × 8 columns</p>\n",
       "</div>"
      ],
      "text/plain": [
       "            EmployeeName                    JobTitle  BasicSalary  \\\n",
       "0         Scott W Walton                  Manager II    126346.04   \n",
       "1           Brian W Byun                    Engineer    132399.33   \n",
       "2       Kenneth J Canedo            Police Officer 3    124723.62   \n",
       "3       Brett A Lundberg             General Laborer    117045.00   \n",
       "4         Mark W Mcclure             General Laborer    114062.00   \n",
       "...                  ...                         ...          ...   \n",
       "148862     Roy I Tillery                   Custodian         0.00   \n",
       "148863      Not provided                Not provided          NaN   \n",
       "148864      Not provided                Not provided          NaN   \n",
       "148865      Not provided                Not provided          NaN   \n",
       "148866         Joe Lopez  Counselor, Log Cabin Ranch         0.00   \n",
       "\n",
       "        OvertimePay  OtherPay   TotalPay    Year         Agency  \n",
       "0               0.0   1000.00  127346.04  2013.0  San Francisco  \n",
       "1               0.0   1913.44  134312.77  2013.0  San Francisco  \n",
       "2           10582.2   7001.51  137940.06  2013.0  San Francisco  \n",
       "3               0.0      0.00       0.00  2014.0  San Francisco  \n",
       "4               0.0      0.00       0.00  2014.0  San Francisco  \n",
       "...             ...       ...        ...     ...            ...  \n",
       "148862          0.0      0.00       0.00  2014.0  San Francisco  \n",
       "148863          NaN       NaN       0.00  2014.0  San Francisco  \n",
       "148864          NaN       NaN       0.00  2014.0  San Francisco  \n",
       "148865          NaN       NaN       0.00  2014.0  San Francisco  \n",
       "148866          0.0   -618.13    -618.13  2014.0  San Francisco  \n",
       "\n",
       "[148867 rows x 8 columns]"
      ]
     },
     "execution_count": 2,
     "metadata": {},
     "output_type": "execute_result"
    }
   ],
   "source": [
    "payroll_df = pd.read_csv(\"Payroll.csv\")\n",
    "payroll_df"
   ]
  },
  {
   "cell_type": "markdown",
   "id": "8572fd70",
   "metadata": {},
   "source": [
    "1. How many rows does the dataset contain?"
   ]
  },
  {
   "cell_type": "code",
   "execution_count": 3,
   "id": "2df92f9f",
   "metadata": {
    "scrolled": true
   },
   "outputs": [
    {
     "data": {
      "text/plain": [
       "148867"
      ]
     },
     "execution_count": 3,
     "metadata": {},
     "output_type": "execute_result"
    }
   ],
   "source": [
    "payroll_df.shape[0]"
   ]
  },
  {
   "cell_type": "markdown",
   "id": "bf7aefa6",
   "metadata": {},
   "source": [
    "2. What is the data type of each column?"
   ]
  },
  {
   "cell_type": "code",
   "execution_count": 4,
   "id": "288e8782",
   "metadata": {},
   "outputs": [
    {
     "name": "stdout",
     "output_type": "stream",
     "text": [
      "<class 'pandas.core.frame.DataFrame'>\n",
      "RangeIndex: 148867 entries, 0 to 148866\n",
      "Data columns (total 8 columns):\n",
      " #   Column        Non-Null Count   Dtype  \n",
      "---  ------        --------------   -----  \n",
      " 0   EmployeeName  148867 non-null  object \n",
      " 1   JobTitle      148867 non-null  object \n",
      " 2   BasicSalary   148258 non-null  float64\n",
      " 3   OvertimePay   148713 non-null  float64\n",
      " 4   OtherPay      148849 non-null  float64\n",
      " 5   TotalPay      148867 non-null  float64\n",
      " 6   Year          148684 non-null  float64\n",
      " 7   Agency        148739 non-null  object \n",
      "dtypes: float64(5), object(3)\n",
      "memory usage: 9.1+ MB\n"
     ]
    }
   ],
   "source": [
    "payroll_df.info()"
   ]
  },
  {
   "cell_type": "markdown",
   "id": "cd2e0351",
   "metadata": {},
   "source": [
    "3. a. How many duplicate rows are there in the dataset?"
   ]
  },
  {
   "cell_type": "code",
   "execution_count": 5,
   "id": "31c257f1",
   "metadata": {},
   "outputs": [
    {
     "data": {
      "text/plain": [
       "222"
      ]
     },
     "execution_count": 5,
     "metadata": {},
     "output_type": "execute_result"
    }
   ],
   "source": [
    "payroll_df.duplicated().sum()"
   ]
  },
  {
   "cell_type": "markdown",
   "id": "07870126",
   "metadata": {},
   "source": [
    "3. b. Delete the duplicate rows. How many rows are left in the dataset?"
   ]
  },
  {
   "cell_type": "code",
   "execution_count": 6,
   "id": "25641d8e",
   "metadata": {},
   "outputs": [],
   "source": [
    "payroll_df.drop_duplicates(inplace=True)"
   ]
  },
  {
   "cell_type": "code",
   "execution_count": 7,
   "id": "07513552",
   "metadata": {},
   "outputs": [
    {
     "data": {
      "text/plain": [
       "148645"
      ]
     },
     "execution_count": 7,
     "metadata": {},
     "output_type": "execute_result"
    }
   ],
   "source": [
    "payroll_df.shape[0]"
   ]
  },
  {
   "cell_type": "markdown",
   "id": "5acd184e",
   "metadata": {},
   "source": [
    "**IMPORTANT: Use the new dataset (with the duplicates removed) to answer the remaining questions.**"
   ]
  },
  {
   "cell_type": "markdown",
   "id": "9c6535da",
   "metadata": {},
   "source": [
    "4. How many missing values are there in each column?"
   ]
  },
  {
   "cell_type": "code",
   "execution_count": 8,
   "id": "f0676942",
   "metadata": {
    "scrolled": false
   },
   "outputs": [
    {
     "data": {
      "text/plain": [
       "EmployeeName      0\n",
       "JobTitle          0\n",
       "BasicSalary     606\n",
       "OvertimePay     150\n",
       "OtherPay         14\n",
       "TotalPay          0\n",
       "Year            183\n",
       "Agency          128\n",
       "dtype: int64"
      ]
     },
     "execution_count": 8,
     "metadata": {},
     "output_type": "execute_result"
    }
   ],
   "source": [
    "payroll_df.isnull().sum()"
   ]
  },
  {
   "cell_type": "markdown",
   "id": "3a503dba",
   "metadata": {},
   "source": [
    "5. What is the average BasicSalary?"
   ]
  },
  {
   "cell_type": "code",
   "execution_count": 9,
   "id": "e8257e17",
   "metadata": {},
   "outputs": [
    {
     "name": "stdout",
     "output_type": "stream",
     "text": [
      "The mean of the BasicSalary is 66333.88672680849 and the median is 65019.76\n"
     ]
    }
   ],
   "source": [
    "mean_df = payroll_df['BasicSalary'].mean()\n",
    "median_df = payroll_df['BasicSalary'].median()\n",
    "print ('The mean of the BasicSalary is', mean_df, 'and the median is', median_df)"
   ]
  },
  {
   "cell_type": "markdown",
   "id": "7f4b2952",
   "metadata": {},
   "source": [
    "6. The BasicSalary column has missing data. \n",
    "\n",
    "    a.   Replace the missing values with the median value of the column. \n",
    "   \n",
    "    b.  What do you call this method of handling missing data?\n",
    "   \n",
    "    c. Recalculate the average BasicSalary. How did it change?"
   ]
  },
  {
   "cell_type": "code",
   "execution_count": 10,
   "id": "92e67de6",
   "metadata": {
    "scrolled": true
   },
   "outputs": [],
   "source": [
    "payroll_df['BasicSalary'] = payroll_df['BasicSalary'].fillna(median_df)"
   ]
  },
  {
   "cell_type": "markdown",
   "id": "00532cfa",
   "metadata": {},
   "source": [
    "## This method of handling missing data is called Median Imputation."
   ]
  },
  {
   "cell_type": "code",
   "execution_count": 11,
   "id": "2f3d449a",
   "metadata": {},
   "outputs": [
    {
     "data": {
      "text/plain": [
       "66328.52925904"
      ]
     },
     "execution_count": 11,
     "metadata": {},
     "output_type": "execute_result"
    }
   ],
   "source": [
    "payroll_df['BasicSalary'].mean()"
   ]
  },
  {
   "cell_type": "markdown",
   "id": "19ca61f8",
   "metadata": {},
   "source": [
    "### The mean has decreased. "
   ]
  },
  {
   "cell_type": "markdown",
   "id": "7457332c",
   "metadata": {},
   "source": [
    "7. How many outliers are there in the TotalPay column?"
   ]
  },
  {
   "cell_type": "code",
   "execution_count": 14,
   "id": "5f8bd7f5",
   "metadata": {},
   "outputs": [
    {
     "name": "stdout",
     "output_type": "stream",
     "text": [
      "Q1: 36126.88 Q3: 105846.06 IQR: 69719.18\n"
     ]
    }
   ],
   "source": [
    "Q1 = payroll_df['TotalPay'].quantile(0.25)\n",
    "Q3 = payroll_df['TotalPay'].quantile(0.75)\n",
    "\n",
    "IQR = Q3 - Q1\n",
    "\n",
    "upper_whisker = Q3 + 1.5 * IQR\n",
    "lower_whisker = Q1 - 1.5 * IQR\n",
    "\n",
    "print('Q1:',Q1, 'Q3:',Q3, 'IQR:', IQR)"
   ]
  },
  {
   "cell_type": "code",
   "execution_count": 13,
   "id": "1260e878",
   "metadata": {},
   "outputs": [
    {
     "name": "stdout",
     "output_type": "stream",
     "text": [
      "There are 1283 outliers in the TotalPay column\n"
     ]
    }
   ],
   "source": [
    "outliers = payroll_df[(payroll_df['TotalPay'] > upper_whisker) | (payroll_df['TotalPay'] < lower_whisker)]\n",
    "outliers_count = outliers.shape[0]\n",
    "print('There are',outliers_count,'outliers in the TotalPay column')"
   ]
  },
  {
   "cell_type": "markdown",
   "id": "281f4b1b",
   "metadata": {},
   "source": [
    "<h3><center>End of Question 1</center></h3>"
   ]
  }
 ],
 "metadata": {
  "kernelspec": {
   "display_name": "Python 3 (ipykernel)",
   "language": "python",
   "name": "python3"
  },
  "language_info": {
   "codemirror_mode": {
    "name": "ipython",
    "version": 3
   },
   "file_extension": ".py",
   "mimetype": "text/x-python",
   "name": "python",
   "nbconvert_exporter": "python",
   "pygments_lexer": "ipython3",
   "version": "3.11.3"
  }
 },
 "nbformat": 4,
 "nbformat_minor": 5
}
